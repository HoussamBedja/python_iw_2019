{
 "cells": [
  {
   "cell_type": "markdown",
   "metadata": {},
   "source": [
    "# Transition to Python\n",
    "Python for developers familiar with other languages\n",
    "\n",
    "https://github.com/wardi/python_iw_2019\n",
    "\n",
    "## Me\n",
    "\n",
    "Ian Ward  \n",
    "TBS CIOB  \n",
    "Open Data https://open.canada.ca  \n",
    "CKAN https://ckan.org  \n",
    "Ottawa Python https://www.meetup.com/ottawapython/  \n",
    "ian@excess.org\n",
    "\n",
    "## You\n",
    "\n",
    "A software developer experienced in Java, C# or other OO languages  \n",
    "May have some experience with Python or other scripting languages"
   ]
  },
  {
   "cell_type": "markdown",
   "metadata": {},
   "source": [
    "## Contents\n",
    "\n",
    "1.\n",
    "- exercise: simple python script\n",
    "- flavour of python\n",
    "- names and values\n",
    "- numeric types\n",
    "- exercise: python as calculator\n",
    "\n",
    "2.\n",
    "- strings\n",
    "- tuple, list, dict and set\n",
    "- files and json\n",
    "- string formatting\n",
    "- workshop: git log processing\n",
    "\n",
    "changes: data types kind of long in one run. add exercise in middle?\n",
    "\n",
    "3.\n",
    "- if, elif and else\n",
    "- comparisons, boolean operations\n",
    "- for, break, continue and else\n",
    "- try, except, else and finally\n",
    "- functions and parameters\n",
    "- packing and unpacking\n",
    "- workshop: shopping list\n",
    "\n",
    "4.\n",
    "- decorators\n",
    "- iteration\n",
    "- generators\n",
    "- classes and attributes\n",
    "- special methods\n",
    "- properties\n",
    "- workshop: course registration\n",
    "\n",
    "changes: decorator another practical example\n",
    "\n",
    "5.\n",
    "- custom containers\n",
    "- subclasses, staticmethod, classmethod\n",
    "- multiple inheritance and MRO\n",
    "- workshop: course registration 2\n",
    "\n",
    "changes: inheritance more detail, add diagram\n",
    "\n",
    "6.\n",
    "- virtual environments\n",
    "- modules and packages\n",
    "- custom exceptions\n",
    "- workshop: whalesay\n",
    "\n",
    "changes: start from package and skip top level modules in exercise,\n",
    "talk about relative, absolute imports"
   ]
  },
  {
   "cell_type": "code",
   "execution_count": null,
   "metadata": {},
   "outputs": [],
   "source": []
  }
 ],
 "metadata": {
  "kernelspec": {
   "display_name": "Python 3",
   "language": "python",
   "name": "python3"
  },
  "language_info": {
   "codemirror_mode": {
    "name": "ipython",
    "version": 3
   },
   "file_extension": ".py",
   "mimetype": "text/x-python",
   "name": "python",
   "nbconvert_exporter": "python",
   "pygments_lexer": "ipython3",
   "version": "3.6.7"
  }
 },
 "nbformat": 4,
 "nbformat_minor": 2
}
