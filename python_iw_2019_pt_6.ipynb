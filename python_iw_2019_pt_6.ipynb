{
 "cells": [
  {
   "cell_type": "markdown",
   "metadata": {},
   "source": [
    "## Virtual Environments"
   ]
  },
  {
   "cell_type": "code",
   "execution_count": 1,
   "metadata": {},
   "outputs": [
    {
     "data": {
      "text/plain": [
       "<module 'threading' from 'C:\\\\Users\\\\Public\\\\Anaconda3\\\\lib\\\\threading.py'>"
      ]
     },
     "execution_count": 1,
     "metadata": {},
     "output_type": "execute_result"
    }
   ],
   "source": [
    "import threading\n",
    "threading"
   ]
  },
  {
   "cell_type": "code",
   "execution_count": 3,
   "metadata": {},
   "outputs": [
    {
     "data": {
      "text/plain": [
       "<module 'numpy' from 'C:\\\\Users\\\\Public\\\\Anaconda3\\\\lib\\\\site-packages\\\\numpy\\\\__init__.py'>"
      ]
     },
     "execution_count": 3,
     "metadata": {},
     "output_type": "execute_result"
    }
   ],
   "source": [
    "import numpy as np\n",
    "np"
   ]
  },
  {
   "cell_type": "markdown",
   "metadata": {},
   "source": [
    "`(base) C:\\Users\\Ian Ward\\Documents>`__`python -m venv myvenv`__\n",
    "\n",
    "`(base) C:\\Users\\Ian Ward\\Documents>`__`myvenv\\Scripts\\activate`__\n",
    "\n",
    "`(myvenv) (base) C:\\Users\\Ian Ward\\Documents>`__`pip install ckanapi`__\n",
    "```\n",
    "Collecting ckanapi\n",
    "Collecting requests (from ckanapi)\n",
    "  Using cached https://files.pythonhosted.org/packages/7d/e3/20f3d364d6c8e5d2353c72a67778eb189176f08e873c9900e10c0287b84b/requests-2.21.0-py2.py3-none-any.whl\n",
    "Collecting docopt (from ckanapi)\n",
    "Requirement already satisfied: setuptools in c:\\users\\ian ward\\documents\\myvenv\\lib\\site-packages (from ckanapi) (39.0.1)\n",
    "Collecting idna<2.9,>=2.5 (from requests->ckanapi)\n",
    "  Using cached https://files.pythonhosted.org/packages/14/2c/cd551d81dbe15200be1cf41cd03869a46fe7226e7450af7a6545bfc474c9/idna-2.8-py2.py3-none-any.whl\n",
    "Collecting certifi>=2017.4.17 (from requests->ckanapi)\n",
    "  Using cached https://files.pythonhosted.org/packages/60/75/f692a584e85b7eaba0e03827b3d51f45f571c2e793dd731e598828d380aa/certifi-2019.3.9-py2.py3-none-any.whl\n",
    "Collecting chardet<3.1.0,>=3.0.2 (from requests->ckanapi)\n",
    "  Using cached https://files.pythonhosted.org/packages/bc/a9/01ffebfb562e4274b6487b4bb1ddec7ca55ec7510b22e4c51f14098443b8/chardet-3.0.4-py2.py3-none-any.whl\n",
    "Collecting urllib3<1.25,>=1.21.1 (from requests->ckanapi)\n",
    "  Using cached https://files.pythonhosted.org/packages/62/00/ee1d7de624db8ba7090d1226aebefab96a2c71cd5cfa7629d6ad3f61b79e/urllib3-1.24.1-py2.py3-none-any.whl\n",
    "Installing collected packages: idna, certifi, chardet, urllib3, requests, docopt, ckanapi\n",
    "Successfully installed certifi-2019.3.9 chardet-3.0.4 ckanapi-4.1 docopt-0.6.2 idna-2.8 requests-2.21.0 urllib3-1.24.1\n",
    "You are using pip version 10.0.1, however version 19.0.3 is available.\n",
    "You should consider upgrading via the 'python -m pip install --upgrade pip' command.\n",
    "```\n",
    "`(myvenv) (base) C:\\Users\\Ian Ward\\Documents>`__`python`__\n",
    "```python\n",
    "Python 3.7.1 (default, Dec 10 2018, 22:54:23) [MSC v.1915 64 bit (AMD64)] :: Anaconda, Inc. on win32\n",
    "Type \"help\", \"copyright\", \"credits\" or \"license\" for more information.\n",
    ">>> import ckanapi\n",
    ">>> ckanapi\n",
    "<module 'ckanapi' from 'C:\\\\Users\\\\Ian Ward\\\\Documents\\\\myvenv\\\\lib\\\\site-packages\\\\ckanapi\\\\__init__.py'>\n",
    ">>> import threading\n",
    ">>> threading\n",
    "<module 'threading' from 'C:\\\\Users\\\\Public\\\\Anaconda3\\\\lib\\\\threading.py'>\n",
    ">>> import numpy as np\n",
    "Traceback (most recent call last):\n",
    "  File \"<stdin>\", line 1, in <module>\n",
    "ModuleNotFoundError: No module named 'numpy'\n",
    ">>> ^Z\n",
    "```\n",
    "`(myvenv) (base) C:\\Users\\Ian Ward\\Documents>`__`deactivate`__\n",
    "\n",
    "`(base) C:\\Users\\Ian Ward\\Documents>`"
   ]
  },
  {
   "cell_type": "markdown",
   "metadata": {},
   "source": [
    "## Modules and Packages\n",
    "\n",
    "https://python-packaging.readthedocs.io/en/latest/"
   ]
  },
  {
   "cell_type": "markdown",
   "metadata": {},
   "source": [
    "```\n",
    "funniest/\n",
    "    funniest/\n",
    "        __init__.py\n",
    "    setup.py\n",
    "```"
   ]
  },
  {
   "cell_type": "code",
   "execution_count": null,
   "metadata": {},
   "outputs": [],
   "source": [
    "# setup.py\n",
    "from setuptools import setup\n",
    "\n",
    "setup(name='funniest',\n",
    "      version='0.1',\n",
    "      description='The funniest joke in the world',\n",
    "      url='http://github.com/storborg/funniest',\n",
    "      author='Flying Circus',\n",
    "      author_email='flyingcircus@example.com',\n",
    "      license='MIT',\n",
    "      packages=['funniest'],\n",
    "      zip_safe=False)"
   ]
  },
  {
   "cell_type": "markdown",
   "metadata": {},
   "source": [
    "## Custom Exceptions"
   ]
  },
  {
   "cell_type": "code",
   "execution_count": 8,
   "metadata": {},
   "outputs": [
    {
     "ename": "DiedFromLaughterError",
     "evalue": "",
     "output_type": "error",
     "traceback": [
      "\u001b[1;31m---------------------------------------------------------------------------\u001b[0m",
      "\u001b[1;31mDiedFromLaughterError\u001b[0m                     Traceback (most recent call last)",
      "\u001b[1;32m<ipython-input-8-617900c79e0d>\u001b[0m in \u001b[0;36m<module>\u001b[1;34m\u001b[0m\n\u001b[0;32m      5\u001b[0m     \u001b[1;32mpass\u001b[0m\u001b[1;33m\u001b[0m\u001b[1;33m\u001b[0m\u001b[0m\n\u001b[0;32m      6\u001b[0m \u001b[1;33m\u001b[0m\u001b[0m\n\u001b[1;32m----> 7\u001b[1;33m \u001b[1;32mraise\u001b[0m \u001b[0mDiedFromLaughterError\u001b[0m\u001b[1;33m\u001b[0m\u001b[1;33m\u001b[0m\u001b[0m\n\u001b[0m",
      "\u001b[1;31mDiedFromLaughterError\u001b[0m: "
     ]
    }
   ],
   "source": [
    "class FunnyError(Exception):\n",
    "    pass\n",
    "\n",
    "class DiedFromLaughterError(FunnyError):\n",
    "    pass\n",
    "\n",
    "raise DiedFromLaughterError"
   ]
  },
  {
   "cell_type": "code",
   "execution_count": 9,
   "metadata": {},
   "outputs": [
    {
     "ename": "DiedFromLaughterError",
     "evalue": "funniest joke got me",
     "output_type": "error",
     "traceback": [
      "\u001b[1;31m---------------------------------------------------------------------------\u001b[0m",
      "\u001b[1;31mDiedFromLaughterError\u001b[0m                     Traceback (most recent call last)",
      "\u001b[1;32m<ipython-input-9-c5aaa213e488>\u001b[0m in \u001b[0;36m<module>\u001b[1;34m\u001b[0m\n\u001b[1;32m----> 1\u001b[1;33m \u001b[1;32mraise\u001b[0m \u001b[0mDiedFromLaughterError\u001b[0m\u001b[1;33m(\u001b[0m\u001b[1;34m'funniest joke got me'\u001b[0m\u001b[1;33m)\u001b[0m\u001b[1;33m\u001b[0m\u001b[1;33m\u001b[0m\u001b[0m\n\u001b[0m",
      "\u001b[1;31mDiedFromLaughterError\u001b[0m: funniest joke got me"
     ]
    }
   ],
   "source": [
    "raise DiedFromLaughterError('funniest joke got me')"
   ]
  },
  {
   "cell_type": "code",
   "execution_count": 10,
   "metadata": {},
   "outputs": [
    {
     "name": "stdout",
     "output_type": "stream",
     "text": [
      "('param 1', 'param 2')\n"
     ]
    }
   ],
   "source": [
    "try:\n",
    "    raise DiedFromLaughterError('param 1', 'param 2')\n",
    "    never_executed\n",
    "except FunnyError as err:\n",
    "    print(err.args)"
   ]
  },
  {
   "cell_type": "markdown",
   "metadata": {},
   "source": [
    "### Exercise: whalesay"
   ]
  },
  {
   "cell_type": "code",
   "execution_count": 26,
   "metadata": {},
   "outputs": [
    {
     "name": "stdout",
     "output_type": "stream",
     "text": [
      "whale you be mine?\n",
      " __________\n",
      "(.______.  ) v\n",
      "~~~~~~~~~~~~~~~\n",
      "\n"
     ]
    }
   ],
   "source": [
    "ascii_whale = '''\\\n",
    " __________\n",
    "(.______.  ) v\n",
    "~~~~~~~~~~~~~~~\n",
    "'''\n",
    "\n",
    "print('whale you be mine?')\n",
    "print(ascii_whale)"
   ]
  },
  {
   "cell_type": "code",
   "execution_count": null,
   "metadata": {},
   "outputs": [],
   "source": [
    "from whalesay import speak\n",
    "speak('whale hello there')"
   ]
  },
  {
   "cell_type": "markdown",
   "metadata": {},
   "source": [
    "1. create whalesay.py in same directory so that the above code can run properly\n",
    "2. create setup.py with `modules=['whalesay']` and use `python setup.py develop` to install and run above code from a different directory\n",
    "3. split whalesay into a package with a separate module for the whale art and the speak function\n",
    "4. add an optional parameter to `speak` to allow selecting different whale art and one or more additional whale art\n",
    "5. raise a new custom exception when the whale art specified does not exist"
   ]
  }
 ],
 "metadata": {
  "kernelspec": {
   "display_name": "Python 3",
   "language": "python",
   "name": "python3"
  },
  "language_info": {
   "codemirror_mode": {
    "name": "ipython",
    "version": 3
   },
   "file_extension": ".py",
   "mimetype": "text/x-python",
   "name": "python",
   "nbconvert_exporter": "python",
   "pygments_lexer": "ipython3",
   "version": "3.6.7"
  }
 },
 "nbformat": 4,
 "nbformat_minor": 2
}
