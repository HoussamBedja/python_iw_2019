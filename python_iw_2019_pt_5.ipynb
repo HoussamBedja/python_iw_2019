{
 "cells": [
  {
   "cell_type": "markdown",
   "metadata": {},
   "source": [
    "## Custom Containers"
   ]
  },
  {
   "cell_type": "markdown",
   "metadata": {},
   "source": [
    "```\n",
    "        BitList\n",
    "        ┌───┬───┬───┬───┬───┬───┬───┬───┬───┐\n",
    "0x8F =    1   1   1   1   0   0   0   1   0   ⋯\n",
    "        └───┴───┴───┴───┴───┴───┴───┴───┴───┘\n",
    "        0   1   2   3   4   5   6   7   8   9  ⋯\n",
    "\n",
    "```"
   ]
  },
  {
   "cell_type": "code",
   "execution_count": 5,
   "metadata": {},
   "outputs": [
    {
     "data": {
      "text/plain": [
       "1"
      ]
     },
     "execution_count": 5,
     "metadata": {},
     "output_type": "execute_result"
    }
   ],
   "source": [
    "class BitList:\n",
    "    \"\"\"Mutable sequence of 0's and 1's\"\"\"\n",
    "    value = 0\n",
    "\n",
    "    def __init__(self, val):\n",
    "        self.value = int(val)\n",
    "        \n",
    "    def __getitem__(self, bit):\n",
    "        return (self.value >> bit) & 1\n",
    "    \n",
    "    def __setitem__(self, bit, val):\n",
    "        if val == 0:\n",
    "            self.value &= ~(1 << bit)\n",
    "        elif val == 1:\n",
    "            self.value |= (1 << bit)\n",
    "        else:\n",
    "            raise ValueError('can only store 0 and 1')\n",
    "    \n",
    "bb = BitList(0x80ff)\n",
    "bb[0]"
   ]
  },
  {
   "cell_type": "code",
   "execution_count": 6,
   "metadata": {},
   "outputs": [
    {
     "data": {
      "text/plain": [
       "0"
      ]
     },
     "execution_count": 6,
     "metadata": {},
     "output_type": "execute_result"
    }
   ],
   "source": [
    "bb[1000]"
   ]
  },
  {
   "cell_type": "code",
   "execution_count": 8,
   "metadata": {},
   "outputs": [],
   "source": [
    "# WARNING would run forever:  list(bb)\n",
    "# because __getitem__ never raises IndexError"
   ]
  },
  {
   "cell_type": "code",
   "execution_count": 13,
   "metadata": {},
   "outputs": [],
   "source": [
    "class BitList:\n",
    "    \"\"\"Mutable sequence of 0's and 1's\"\"\"\n",
    "    value = 0\n",
    "\n",
    "    def __init__(self, val):\n",
    "        self.value = int(val)\n",
    "        \n",
    "    def __getitem__(self, bit):\n",
    "        return (self.value >> bit) & 1\n",
    "    \n",
    "    def __setitem__(self, bit, val):\n",
    "        if val == 0:\n",
    "            self.value &= ~(1 << bit)\n",
    "        elif val == 1:\n",
    "            self.value |= (1 << bit)\n",
    "        else:\n",
    "            raise ValueError('can only store 0 and 1')\n",
    "\n",
    "    def __len__(self):\n",
    "        return self.value.bit_length()\n",
    "\n",
    "    def __iter__(self):\n",
    "        v = self.value\n",
    "        while v:\n",
    "            yield v & 1\n",
    "            v >>= 1\n",
    "\n",
    "bb = BitList(0x80ff)"
   ]
  },
  {
   "cell_type": "code",
   "execution_count": 14,
   "metadata": {},
   "outputs": [
    {
     "data": {
      "text/plain": [
       "[1, 1, 1, 1, 1, 1, 1, 1, 0, 0, 0, 0, 0, 0, 0, 1]"
      ]
     },
     "execution_count": 14,
     "metadata": {},
     "output_type": "execute_result"
    }
   ],
   "source": [
    "list(bb)"
   ]
  },
  {
   "cell_type": "code",
   "execution_count": 9,
   "metadata": {},
   "outputs": [
    {
     "data": {
      "text/plain": [
       "[1, 0, 0, 0, 0, 0, 0, 0, 1, 1, 1, 1, 1, 1, 1, 1]"
      ]
     },
     "execution_count": 9,
     "metadata": {},
     "output_type": "execute_result"
    }
   ],
   "source": [
    "list(reversed(bb))"
   ]
  },
  {
   "cell_type": "code",
   "execution_count": 10,
   "metadata": {},
   "outputs": [
    {
     "data": {
      "text/plain": [
       "[1, 0, 1, 1, 1, 1, 1, 1, 0, 0, 1, 0, 0, 0, 0, 1]"
      ]
     },
     "execution_count": 10,
     "metadata": {},
     "output_type": "execute_result"
    }
   ],
   "source": [
    "bb[10] = 1\n",
    "bb[1] = 0\n",
    "list(bb)"
   ]
  },
  {
   "cell_type": "markdown",
   "metadata": {},
   "source": [
    "### 🏠🏠🏠 Idiomatic Python: Edge Cases, Duck Typing\n",
    "\n",
    "- If the exception raised is the right type, consider not special casing every possible error case just to customize your exception messages\n",
    "- Instead of `isinstance` use the values passed and catch exceptions"
   ]
  },
  {
   "cell_type": "code",
   "execution_count": 17,
   "metadata": {},
   "outputs": [
    {
     "ename": "TypeError",
     "evalue": "unsupported operand type(s) for >>: 'int' and 'str'",
     "output_type": "error",
     "traceback": [
      "\u001b[0;31m---------------------------------------------------------------------------\u001b[0m",
      "\u001b[0;31mTypeError\u001b[0m                                 Traceback (most recent call last)",
      "\u001b[0;32m<ipython-input-17-3a05243b29fe>\u001b[0m in \u001b[0;36m<module>\u001b[0;34m\u001b[0m\n\u001b[0;32m----> 1\u001b[0;31m \u001b[0mbb\u001b[0m\u001b[0;34m[\u001b[0m\u001b[0;34m'key'\u001b[0m\u001b[0;34m]\u001b[0m\u001b[0;34m\u001b[0m\u001b[0;34m\u001b[0m\u001b[0m\n\u001b[0m",
      "\u001b[0;32m<ipython-input-15-b9bc3e6a86ab>\u001b[0m in \u001b[0;36m__getitem__\u001b[0;34m(self, bit)\u001b[0m\n\u001b[1;32m      7\u001b[0m \u001b[0;34m\u001b[0m\u001b[0m\n\u001b[1;32m      8\u001b[0m     \u001b[0;32mdef\u001b[0m \u001b[0m__getitem__\u001b[0m\u001b[0;34m(\u001b[0m\u001b[0mself\u001b[0m\u001b[0;34m,\u001b[0m \u001b[0mbit\u001b[0m\u001b[0;34m)\u001b[0m\u001b[0;34m:\u001b[0m\u001b[0;34m\u001b[0m\u001b[0;34m\u001b[0m\u001b[0m\n\u001b[0;32m----> 9\u001b[0;31m         \u001b[0;32mreturn\u001b[0m \u001b[0;34m(\u001b[0m\u001b[0mself\u001b[0m\u001b[0;34m.\u001b[0m\u001b[0mvalue\u001b[0m \u001b[0;34m>>\u001b[0m \u001b[0mbit\u001b[0m\u001b[0;34m)\u001b[0m \u001b[0;34m&\u001b[0m \u001b[0;36m1\u001b[0m\u001b[0;34m\u001b[0m\u001b[0;34m\u001b[0m\u001b[0m\n\u001b[0m\u001b[1;32m     10\u001b[0m \u001b[0;34m\u001b[0m\u001b[0m\n\u001b[1;32m     11\u001b[0m     \u001b[0;32mdef\u001b[0m \u001b[0m__setitem__\u001b[0m\u001b[0;34m(\u001b[0m\u001b[0mself\u001b[0m\u001b[0;34m,\u001b[0m \u001b[0mbit\u001b[0m\u001b[0;34m,\u001b[0m \u001b[0mval\u001b[0m\u001b[0;34m)\u001b[0m\u001b[0;34m:\u001b[0m\u001b[0;34m\u001b[0m\u001b[0;34m\u001b[0m\u001b[0m\n",
      "\u001b[0;31mTypeError\u001b[0m: unsupported operand type(s) for >>: 'int' and 'str'"
     ]
    }
   ],
   "source": [
    "bb['key']"
   ]
  },
  {
   "cell_type": "markdown",
   "metadata": {},
   "source": [
    "### Review\n",
    "- is `myobject['name']` the same as `myobject.name`?\n",
    "- what special method name is required for `iter(myobject)`?\n",
    "- what special method name is required for `myobject[index] = value`?\n",
    "- what special method name is required for `len(myobject)`?"
   ]
  },
  {
   "cell_type": "markdown",
   "metadata": {},
   "source": [
    "## subclasses, staticmethod, classmethod\n",
    "Methods without `self`"
   ]
  },
  {
   "cell_type": "code",
   "execution_count": 68,
   "metadata": {},
   "outputs": [
    {
     "data": {
      "text/plain": [
       "<MessageBox Alert>"
      ]
     },
     "execution_count": 68,
     "metadata": {},
     "output_type": "execute_result"
    }
   ],
   "source": [
    "import json\n",
    "\n",
    "class MessageBox:\n",
    "    def __init__(self, title_text, body_text, dismiss_button=\"Okay\"):\n",
    "        self.title = title_text\n",
    "        self.body = body_text\n",
    "        self.buttons = [dismiss_button]\n",
    "\n",
    "    def __repr__(self):\n",
    "        return f'<{self.__class__.__name__} {self.title}>'\n",
    "    \n",
    "    @classmethod\n",
    "    def from_json(cls, jtext):\n",
    "        if not cls.valid_json(jtext):\n",
    "            raise ValueError('Invalid JSON for this class')\n",
    "        return cls(**json.loads(jtext))\n",
    "    \n",
    "    @staticmethod\n",
    "    def valid_json(jtext):\n",
    "        data = json.loads(jtext)\n",
    "        if not isinstance(data, dict):\n",
    "            return False\n",
    "        \n",
    "        required = {'title_text', 'body_text'}\n",
    "        everything = required | {'dismiss_button'}\n",
    "        return required <= set(data) <= everything\n",
    "\n",
    "m = MessageBox.from_json('''\n",
    "{\n",
    "  \"title_text\": \"Alert\",\n",
    "  \"body_text\": \"Something bad happened\"\n",
    "}''')\n",
    "m"
   ]
  },
  {
   "cell_type": "code",
   "execution_count": 69,
   "metadata": {},
   "outputs": [
    {
     "data": {
      "text/plain": [
       "['Okay']"
      ]
     },
     "execution_count": 69,
     "metadata": {},
     "output_type": "execute_result"
    }
   ],
   "source": [
    "m.buttons"
   ]
  },
  {
   "cell_type": "code",
   "execution_count": 70,
   "metadata": {},
   "outputs": [
    {
     "data": {
      "text/plain": [
       "False"
      ]
     },
     "execution_count": 70,
     "metadata": {},
     "output_type": "execute_result"
    }
   ],
   "source": [
    "MessageBox.valid_json('42')"
   ]
  },
  {
   "cell_type": "code",
   "execution_count": 64,
   "metadata": {},
   "outputs": [
    {
     "data": {
      "text/plain": [
       "True"
      ]
     },
     "execution_count": 64,
     "metadata": {},
     "output_type": "execute_result"
    }
   ],
   "source": [
    "MessageBox.valid_json('{\"title_text\":\"a\",\"body_text\":\"b\"}')"
   ]
  },
  {
   "cell_type": "code",
   "execution_count": 71,
   "metadata": {},
   "outputs": [
    {
     "ename": "ValueError",
     "evalue": "Invalid JSON for this class",
     "output_type": "error",
     "traceback": [
      "\u001b[0;31m---------------------------------------------------------------------------\u001b[0m",
      "\u001b[0;31mValueError\u001b[0m                                Traceback (most recent call last)",
      "\u001b[0;32m<ipython-input-71-3132c9cf4daf>\u001b[0m in \u001b[0;36m<module>\u001b[0;34m\u001b[0m\n\u001b[0;32m----> 1\u001b[0;31m \u001b[0mMessageBox\u001b[0m\u001b[0;34m.\u001b[0m\u001b[0mfrom_json\u001b[0m\u001b[0;34m(\u001b[0m\u001b[0;34m'{\"title_text\":\"hello\"}'\u001b[0m\u001b[0;34m)\u001b[0m\u001b[0;34m\u001b[0m\u001b[0;34m\u001b[0m\u001b[0m\n\u001b[0m",
      "\u001b[0;32m<ipython-input-68-b5132b127e13>\u001b[0m in \u001b[0;36mfrom_json\u001b[0;34m(cls, jtext)\u001b[0m\n\u001b[1;32m     13\u001b[0m     \u001b[0;32mdef\u001b[0m \u001b[0mfrom_json\u001b[0m\u001b[0;34m(\u001b[0m\u001b[0mcls\u001b[0m\u001b[0;34m,\u001b[0m \u001b[0mjtext\u001b[0m\u001b[0;34m)\u001b[0m\u001b[0;34m:\u001b[0m\u001b[0;34m\u001b[0m\u001b[0;34m\u001b[0m\u001b[0m\n\u001b[1;32m     14\u001b[0m         \u001b[0;32mif\u001b[0m \u001b[0;32mnot\u001b[0m \u001b[0mcls\u001b[0m\u001b[0;34m.\u001b[0m\u001b[0mvalid_json\u001b[0m\u001b[0;34m(\u001b[0m\u001b[0mjtext\u001b[0m\u001b[0;34m)\u001b[0m\u001b[0;34m:\u001b[0m\u001b[0;34m\u001b[0m\u001b[0;34m\u001b[0m\u001b[0m\n\u001b[0;32m---> 15\u001b[0;31m             \u001b[0;32mraise\u001b[0m \u001b[0mValueError\u001b[0m\u001b[0;34m(\u001b[0m\u001b[0;34m'Invalid JSON for this class'\u001b[0m\u001b[0;34m)\u001b[0m\u001b[0;34m\u001b[0m\u001b[0;34m\u001b[0m\u001b[0m\n\u001b[0m\u001b[1;32m     16\u001b[0m         \u001b[0;32mreturn\u001b[0m \u001b[0mcls\u001b[0m\u001b[0;34m(\u001b[0m\u001b[0;34m**\u001b[0m\u001b[0mjson\u001b[0m\u001b[0;34m.\u001b[0m\u001b[0mloads\u001b[0m\u001b[0;34m(\u001b[0m\u001b[0mjtext\u001b[0m\u001b[0;34m)\u001b[0m\u001b[0;34m)\u001b[0m\u001b[0;34m\u001b[0m\u001b[0;34m\u001b[0m\u001b[0m\n\u001b[1;32m     17\u001b[0m \u001b[0;34m\u001b[0m\u001b[0m\n",
      "\u001b[0;31mValueError\u001b[0m: Invalid JSON for this class"
     ]
    }
   ],
   "source": [
    "MessageBox.from_json('{\"title_text\":\"hello\"}')"
   ]
  },
  {
   "cell_type": "code",
   "execution_count": 72,
   "metadata": {},
   "outputs": [
    {
     "data": {
      "text/plain": [
       "<ConfirmBox Danger>"
      ]
     },
     "execution_count": 72,
     "metadata": {},
     "output_type": "execute_result"
    }
   ],
   "source": [
    "class ConfirmBox(MessageBox):\n",
    "    def __init__(self, title_text, body_text,\n",
    "                 dismiss_button='Cancel', confirm_button='Proceed'):\n",
    "        super().__init__(title_text, body_text, dismiss_button)\n",
    "        self.buttons.append(confirm_button)\n",
    "    \n",
    "    @staticmethod\n",
    "    def valid_json(jtext):\n",
    "        data = json.loads(jtext)\n",
    "        if not isinstance(data, dict):\n",
    "            return False\n",
    "        \n",
    "        required = {'title_text', 'body_text'}\n",
    "        everything = required | {'dismiss_button', 'confirm_button'}\n",
    "        return required <= set(data) <= everything\n",
    "\n",
    "c = ConfirmBox.from_json('''\n",
    "{\n",
    "  \"title_text\": \"Danger\",\n",
    "  \"body_text\": \"Vent radioactive gas?\",\n",
    "  \"confirm_button\": \"Yes I'm sure\"\n",
    "}''')\n",
    "c"
   ]
  },
  {
   "cell_type": "code",
   "execution_count": 73,
   "metadata": {},
   "outputs": [
    {
     "data": {
      "text/plain": [
       "['Cancel', \"Yes I'm sure\"]"
      ]
     },
     "execution_count": 73,
     "metadata": {},
     "output_type": "execute_result"
    }
   ],
   "source": [
    "c.buttons"
   ]
  },
  {
   "cell_type": "code",
   "execution_count": 75,
   "metadata": {},
   "outputs": [
    {
     "data": {
      "text/plain": [
       "True"
      ]
     },
     "execution_count": 75,
     "metadata": {},
     "output_type": "execute_result"
    }
   ],
   "source": [
    "ConfirmBox.valid_json('''\n",
    "{\n",
    "  \"title_text\": \"hi\",\n",
    "  \"body_text\": \"how are you?\",\n",
    "  \"confirm_button\": \"good\",\n",
    "  \"dismiss_button\": \"bad\"\n",
    "}''')"
   ]
  },
  {
   "cell_type": "markdown",
   "metadata": {},
   "source": [
    "### Review\n",
    "- how do you specify a superclass?\n",
    "- what is passed as the first parameter to `@classmethod` methods?\n",
    "- what is passed as the first parameter to `@staticmethod` methods?"
   ]
  },
  {
   "cell_type": "markdown",
   "metadata": {},
   "source": [
    "## Multiple Inheritance and MRO\n",
    "\n",
    "![ProjectSettings(AuditDict(dict), ConfigDict(dict))](projectsettings.svg)"
   ]
  },
  {
   "cell_type": "code",
   "execution_count": 10,
   "metadata": {},
   "outputs": [
    {
     "name": "stderr",
     "output_type": "stream",
     "text": [
      "INFO:root:setting [Test] to hi\n"
     ]
    }
   ],
   "source": [
    "import logging\n",
    "import sys\n",
    "\n",
    "logger = logging.getLogger()\n",
    "logger.setLevel(logging.DEBUG)\n",
    "\n",
    "class AuditDict(dict):\n",
    "    \"\"\"\n",
    "    Log changes to this dict\n",
    "    \"\"\"\n",
    "    def __setitem__(self, key, value):\n",
    "        logging.info(f'setting [{key}] to {value}')\n",
    "        super().__setitem__(key, value)\n",
    "\n",
    "class ConfigDict(dict):\n",
    "    \"\"\"\n",
    "    Force dict keys to lowercase\n",
    "    \"\"\"\n",
    "    def __setitem__(self, key, value):\n",
    "        super().__setitem__(key.lower(), value)\n",
    "\n",
    "a = AuditDict()\n",
    "a['Test'] = 'hi'"
   ]
  },
  {
   "cell_type": "code",
   "execution_count": 11,
   "metadata": {},
   "outputs": [
    {
     "data": {
      "text/plain": [
       "{'test': 'hello'}"
      ]
     },
     "execution_count": 11,
     "metadata": {},
     "output_type": "execute_result"
    }
   ],
   "source": [
    "b = ConfigDict()\n",
    "b['TEST'] = 'hello'\n",
    "b"
   ]
  },
  {
   "cell_type": "code",
   "execution_count": 8,
   "metadata": {},
   "outputs": [
    {
     "name": "stderr",
     "output_type": "stream",
     "text": [
      "INFO:root:setting [SSL] to enabled\n"
     ]
    },
    {
     "data": {
      "text/plain": [
       "{'ssl': 'enabled'}"
      ]
     },
     "execution_count": 8,
     "metadata": {},
     "output_type": "execute_result"
    }
   ],
   "source": [
    "class ProjectSettings(AuditDict, ConfigDict):\n",
    "    pass\n",
    "\n",
    "c = ProjectSettings()\n",
    "c['SSL'] = 'enabled'\n",
    "c"
   ]
  },
  {
   "cell_type": "code",
   "execution_count": 9,
   "metadata": {},
   "outputs": [
    {
     "name": "stderr",
     "output_type": "stream",
     "text": [
      "INFO:root:setting [ssl] to enabled\n"
     ]
    },
    {
     "data": {
      "text/plain": [
       "{'ssl': 'enabled'}"
      ]
     },
     "execution_count": 9,
     "metadata": {},
     "output_type": "execute_result"
    }
   ],
   "source": [
    "class ProjectSettings(ConfigDict, AuditDict):\n",
    "    pass\n",
    "\n",
    "d = ProjectSettings()\n",
    "d['SSL'] = 'enabled'\n",
    "d"
   ]
  },
  {
   "cell_type": "code",
   "execution_count": 12,
   "metadata": {
    "scrolled": true
   },
   "outputs": [
    {
     "data": {
      "text/plain": [
       "(__main__.ProjectSettings,\n",
       " __main__.ConfigDict,\n",
       " __main__.AuditDict,\n",
       " dict,\n",
       " object)"
      ]
     },
     "execution_count": 12,
     "metadata": {},
     "output_type": "execute_result"
    }
   ],
   "source": [
    "ProjectSettings.__mro__"
   ]
  },
  {
   "cell_type": "markdown",
   "metadata": {},
   "source": [
    "### Review\n",
    "- what determines the method resolution order for classes?\n",
    "- what keyword is used for \"no operation\" blocks?\n",
    "- what builtin is used to access the next class in the MRO?"
   ]
  },
  {
   "cell_type": "markdown",
   "metadata": {},
   "source": [
    "### Exercise: course registration 2\n",
    "1. Add methods to the `Course` class from the previous section to allow accessing students by their id and get their size:\n",
    "```python\n",
    ">>> s = mycourse[97865]\n",
    ">>> s.name\n",
    "'Name Here'\n",
    ">>> len(mycourse)\n",
    "2\n",
    "```\n",
    "2. Add a method to serialize a course as JSON\n",
    "```python\n",
    ">>> mycourse.to_json()\n",
    "'{\"students\":[12345, 97865]}'\n",
    "```"
   ]
  },
  {
   "cell_type": "markdown",
   "metadata": {},
   "source": [
    "## Extra Material"
   ]
  },
  {
   "cell_type": "code",
   "execution_count": null,
   "metadata": {},
   "outputs": [],
   "source": [
    "# convert BitList to/from bytes\n",
    "class BitList:\n",
    "    \"\"\"Mutable container of 0's and 1's\"\"\"\n",
    "    value = 0\n",
    "\n",
    "    def __init__(self, val):\n",
    "        self.value = int(val)\n",
    "        \n",
    "    def __getitem__(self, bit):\n",
    "        return (self.value >> bit) & 1\n",
    "    \n",
    "    def __setitem__(self, bit, val):\n",
    "        if val & ~1:\n",
    "            raise ValueError('can only store 0 and 1')\n",
    "        self.value = self.value & ~(1 << bit) | (val << bit)\n",
    "\n",
    "    def __len__(self):\n",
    "        return self.value.bit_length()\n",
    "\n",
    "    def __iter__(self):\n",
    "        v = self.value\n",
    "        while v:\n",
    "            yield v & 1\n",
    "            v >>= 1\n",
    "\n",
    "    @classmethod\n",
    "    def from_bytes(cls, byt):\n",
    "        obj = cls(int.from_bytes(byt, 'little'))\n",
    "        return obj\n",
    "\n",
    "    def __bytes__(self):\n",
    "        return self.value.to_bytes(\n",
    "            (self.value.bit_length() + 7) // 8, 'little')\n",
    "\n",
    "bb = BitList(0x80ff)\n",
    "\n",
    "bytes(bb)"
   ]
  },
  {
   "cell_type": "code",
   "execution_count": null,
   "metadata": {},
   "outputs": [],
   "source": [
    "list(BitList.from_bytes(b'\\xfd\\x84'))"
   ]
  },
  {
   "cell_type": "markdown",
   "metadata": {},
   "source": [
    "### Descriptors\n",
    "The power behind `property`, `classmethod`, `staticmethod` and normal functions becoming methods"
   ]
  },
  {
   "cell_type": "code",
   "execution_count": null,
   "metadata": {},
   "outputs": [],
   "source": [
    "# descriptors are class attributes with __get__ method\n",
    "class Tripwire:\n",
    "    def __get__(self, obj, typ=None):\n",
    "        print('caught access within', typ)\n",
    "        if obj:\n",
    "            print('from object', obj)\n",
    "        return 'looks legit'\n",
    "\n",
    "class Building:\n",
    "    doorway = Tripwire()\n",
    "\n",
    "b = Building()\n",
    "# descriptors capture object access\n",
    "b.doorway"
   ]
  },
  {
   "cell_type": "code",
   "execution_count": null,
   "metadata": {},
   "outputs": [],
   "source": [
    "# descriptors capture class access as well\n",
    "Building.doorway"
   ]
  },
  {
   "cell_type": "code",
   "execution_count": null,
   "metadata": {},
   "outputs": [],
   "source": [
    "# functions implement __get__ to automatically capture self parameter\n",
    "def i_could_be_a_method(self):\n",
    "    print('hello', self)\n",
    "\n",
    "i_could_be_a_method.__get__"
   ]
  },
  {
   "cell_type": "code",
   "execution_count": null,
   "metadata": {},
   "outputs": [],
   "source": [
    "# __get__ can be called directly to test behaviour\n",
    "m = i_could_be_a_method.__get__('fake')\n",
    "m"
   ]
  },
  {
   "cell_type": "code",
   "execution_count": null,
   "metadata": {},
   "outputs": [],
   "source": [
    "# we see \"self\" was bound to our string\n",
    "m()"
   ]
  },
  {
   "cell_type": "code",
   "execution_count": null,
   "metadata": {},
   "outputs": [],
   "source": [
    "# descriptors can use the object to store values they need\n",
    "# tracked per object. Implementing __set__ makes this a data\n",
    "# descriptor\n",
    "from itertools import count, repeat\n",
    "\n",
    "class TicketDispenser:\n",
    "    def __init__(self, name):\n",
    "        self.name = name\n",
    "\n",
    "    def __get__(self, obj, typ=None):\n",
    "        if not obj:\n",
    "            raise AttributeError('dispenser requires object')\n",
    "        # Using __dict__ to store a value with the same name\n",
    "        # hides these stored values from casual observation\n",
    "        c = obj.__dict__.setdefault(self.name, count(1))\n",
    "        return next(c)\n",
    "\n",
    "    def __set__(self, obj, value):\n",
    "        obj.__dict__[self.name] = count(value)\n",
    "\n",
    "    def __delete__(self, obj):\n",
    "        obj.__dict__[self.name] = repeat('out of order')\n",
    "        \n",
    "class ServiceCounter:\n",
    "    support = TicketDispenser('support')\n",
    "\n",
    "sc1 = ServiceCounter()\n",
    "sc2 = ServiceCounter()\n",
    "\n",
    "print(sc1.support)\n",
    "print(sc1.support)"
   ]
  },
  {
   "cell_type": "code",
   "execution_count": null,
   "metadata": {},
   "outputs": [],
   "source": [
    "print(sc2.support)\n",
    "sc2.support = 500\n",
    "print(sc2.support)\n",
    "print(sc2.support)\n",
    "print(sc1.support)\n",
    "print(sc1.support)"
   ]
  },
  {
   "cell_type": "code",
   "execution_count": null,
   "metadata": {},
   "outputs": [],
   "source": [
    "del sc1.support\n",
    "print(sc1.support)\n",
    "print(sc1.support)"
   ]
  },
  {
   "cell_type": "code",
   "execution_count": null,
   "metadata": {},
   "outputs": [],
   "source": [
    "ServiceCounter.support"
   ]
  },
  {
   "cell_type": "markdown",
   "metadata": {},
   "source": [
    "See also https://docs.python.org/3/howto/descriptor.html#descriptor-protocol"
   ]
  },
  {
   "cell_type": "code",
   "execution_count": null,
   "metadata": {
    "scrolled": true
   },
   "outputs": [],
   "source": [
    "# slicing uses __getitem__ too\n",
    "bb[:5]"
   ]
  },
  {
   "cell_type": "code",
   "execution_count": null,
   "metadata": {},
   "outputs": [],
   "source": [
    "# monkey-patch an updated __getitem__\n",
    "def bitlist_getitem(self, bit_or_slice):\n",
    "    if isinstance(bit_or_slice, slice):\n",
    "        return [\n",
    "            (self.value >> n) & 1 for n in\n",
    "            range(*bit_or_slice.indices(len(self)))\n",
    "        ]\n",
    "    return (self.value >> bit_or_slice) & 1\n",
    "\n",
    "BitList.__getitem__ = bitlist_getitem\n",
    "\n",
    "bb[:7]"
   ]
  },
  {
   "cell_type": "code",
   "execution_count": null,
   "metadata": {},
   "outputs": [],
   "source": [
    "# Ellipsis easter egg and explicit type check\n",
    "def bitlist_getitem(self, index):\n",
    "    if isinstance(index, slice):\n",
    "        return [\n",
    "            (self.value >> n) & 1 for n in\n",
    "            range(*index.indices(len(self)))\n",
    "        ]\n",
    "    \n",
    "    elif index == ...:\n",
    "        return ''.join('🐔' if v else '🥚' for v in self)\n",
    "    \n",
    "    try:\n",
    "        return (self.value >> index) & 1\n",
    "    except TypeError as e:\n",
    "        raise TypeError('BitList indices must be integers') from e\n",
    "\n",
    "BitList.__getitem__ = bitlist_getitem\n",
    "\n",
    "bb[...]"
   ]
  },
  {
   "cell_type": "markdown",
   "metadata": {},
   "source": [
    "### 🍎🍎🍎 Python Core: ... @\n",
    "\n",
    "- Ellipsis and the matrix multiplication infix operator aren't used in the standard library, were created for numpy"
   ]
  },
  {
   "cell_type": "code",
   "execution_count": null,
   "metadata": {},
   "outputs": [],
   "source": [
    "# range(slice.indices(...)) takes care of -ve indexes, step size etc.\n",
    "bb[-5:]"
   ]
  },
  {
   "cell_type": "code",
   "execution_count": null,
   "metadata": {},
   "outputs": [],
   "source": [
    "bb[:]"
   ]
  },
  {
   "cell_type": "markdown",
   "metadata": {},
   "source": [
    "### Metaclasses\n",
    "Invent your own mini-language"
   ]
  },
  {
   "cell_type": "code",
   "execution_count": 26,
   "metadata": {},
   "outputs": [
    {
     "data": {
      "text/plain": [
       "int"
      ]
     },
     "execution_count": 26,
     "metadata": {},
     "output_type": "execute_result"
    }
   ],
   "source": [
    "type(42)"
   ]
  },
  {
   "cell_type": "code",
   "execution_count": 27,
   "metadata": {},
   "outputs": [
    {
     "data": {
      "text/plain": [
       "__main__.Thing"
      ]
     },
     "execution_count": 27,
     "metadata": {},
     "output_type": "execute_result"
    }
   ],
   "source": [
    "type('Thing', (), {})"
   ]
  },
  {
   "cell_type": "code",
   "execution_count": 34,
   "metadata": {},
   "outputs": [
    {
     "name": "stdout",
     "output_type": "stream",
     "text": [
      "1 2\n"
     ]
    }
   ],
   "source": [
    "def __init__(self):\n",
    "    self.x = 1\n",
    "    self.y = 2\n",
    "    \n",
    "Thing = type('Thing', (), {'__init__': __init__})\n",
    "\n",
    "t = Thing()\n",
    "print(t.x, t.y)"
   ]
  },
  {
   "cell_type": "code",
   "execution_count": 53,
   "metadata": {},
   "outputs": [
    {
     "name": "stdout",
     "output_type": "stream",
     "text": [
      "<class 'type'>\n",
      "<class 'type'>\n"
     ]
    }
   ],
   "source": [
    "class Anything:\n",
    "    pass\n",
    "\n",
    "print(type(Anything))\n",
    "print(type(Thing))"
   ]
  },
  {
   "cell_type": "code",
   "execution_count": 36,
   "metadata": {},
   "outputs": [
    {
     "name": "stdout",
     "output_type": "stream",
     "text": [
      "<class '__main__.Meta'>\n"
     ]
    }
   ],
   "source": [
    "class Meta(type):\n",
    "    pass\n",
    "\n",
    "class MyClass(metaclass=Meta):\n",
    "    pass\n",
    "\n",
    "class MySubclass(MyClass):\n",
    "    pass\n",
    "\n",
    "print(type(MySubclass))"
   ]
  },
  {
   "cell_type": "code",
   "execution_count": 51,
   "metadata": {},
   "outputs": [
    {
     "name": "stdout",
     "output_type": "stream",
     "text": [
      "'MyClass'\n",
      "()\n",
      "{'__module__': '__main__', '__qualname__': 'MyClass'}\n",
      "\n",
      "'MySubclass'\n",
      "(<class '__main__.MyClass'>,)\n",
      "{'__module__': '__main__', '__qualname__': 'MySubclass', 'greeting': <function MySubclass.greeting at 0x7f7f066f29d8>}\n",
      "\n"
     ]
    }
   ],
   "source": [
    "class Meta(type):\n",
    "    def __new__(cls, name, bases, namespace):\n",
    "        print(f'{name!r}\\n{bases!r}\\n{namespace!r}\\n')\n",
    "        return type.__new__(cls, name, bases, namespace)\n",
    "\n",
    "class MyClass(metaclass=Meta):\n",
    "    pass\n",
    "\n",
    "class MySubclass(MyClass):\n",
    "    def greeting(self):\n",
    "        print('hi')"
   ]
  },
  {
   "cell_type": "code",
   "execution_count": 5,
   "metadata": {},
   "outputs": [
    {
     "data": {
      "text/plain": [
       "{'name': 'Your full name',\n",
       " 'email': 'Your email address',\n",
       " 'phone': 'Your phone number with area code'}"
      ]
     },
     "execution_count": 5,
     "metadata": {},
     "output_type": "execute_result"
    }
   ],
   "source": [
    "class FormMeta(type):\n",
    "    def __new__(cls, name, bases, namespace):\n",
    "        if not bases:\n",
    "            return type.__new__(cls, name, bases, namespace)\n",
    "        \n",
    "        namespace['_fields'] = {}\n",
    "        for f in list(namespace):\n",
    "            if not f.startswith('_'):\n",
    "                namespace['_fields'][f] = namespace.pop(f)\n",
    "                \n",
    "        return type.__new__(cls, name, bases, namespace)\n",
    "\n",
    "class Form(metaclass=FormMeta):\n",
    "    def run(self):\n",
    "        for name, prompt in self._fields.items():\n",
    "            setattr(self, name, input(prompt + ': '))\n",
    "\n",
    "class SignupForm(Form):\n",
    "    name = 'Your full name'\n",
    "    email = 'Your email address'\n",
    "    phone = 'Your phone number with area code'\n",
    "\n",
    "SignupForm._fields"
   ]
  },
  {
   "cell_type": "code",
   "execution_count": 6,
   "metadata": {},
   "outputs": [
    {
     "ename": "AttributeError",
     "evalue": "'SignupForm' object has no attribute 'name'",
     "output_type": "error",
     "traceback": [
      "\u001b[0;31m---------------------------------------------------------------------------\u001b[0m",
      "\u001b[0;31mAttributeError\u001b[0m                            Traceback (most recent call last)",
      "\u001b[0;32m<ipython-input-6-47173bc92a9b>\u001b[0m in \u001b[0;36m<module>\u001b[0;34m\u001b[0m\n\u001b[1;32m      1\u001b[0m \u001b[0mf\u001b[0m \u001b[0;34m=\u001b[0m \u001b[0mSignupForm\u001b[0m\u001b[0;34m(\u001b[0m\u001b[0;34m)\u001b[0m\u001b[0;34m\u001b[0m\u001b[0;34m\u001b[0m\u001b[0m\n\u001b[0;32m----> 2\u001b[0;31m \u001b[0mf\u001b[0m\u001b[0;34m.\u001b[0m\u001b[0mname\u001b[0m\u001b[0;34m\u001b[0m\u001b[0;34m\u001b[0m\u001b[0m\n\u001b[0m",
      "\u001b[0;31mAttributeError\u001b[0m: 'SignupForm' object has no attribute 'name'"
     ]
    }
   ],
   "source": [
    "f = SignupForm()\n",
    "f.name"
   ]
  },
  {
   "cell_type": "code",
   "execution_count": 7,
   "metadata": {},
   "outputs": [
    {
     "name": "stdout",
     "output_type": "stream",
     "text": [
      "Your full name: A Person\n",
      "Your email address: person@example.com\n",
      "Your phone number with area code: 555-555-5555\n"
     ]
    }
   ],
   "source": [
    "f.run()"
   ]
  },
  {
   "cell_type": "code",
   "execution_count": 8,
   "metadata": {},
   "outputs": [
    {
     "data": {
      "text/plain": [
       "'A Person'"
      ]
     },
     "execution_count": 8,
     "metadata": {},
     "output_type": "execute_result"
    }
   ],
   "source": [
    "f.name"
   ]
  },
  {
   "cell_type": "code",
   "execution_count": 9,
   "metadata": {},
   "outputs": [
    {
     "data": {
      "text/plain": [
       "'person@example.com'"
      ]
     },
     "execution_count": 9,
     "metadata": {},
     "output_type": "execute_result"
    }
   ],
   "source": [
    "f.email"
   ]
  },
  {
   "cell_type": "code",
   "execution_count": 11,
   "metadata": {},
   "outputs": [
    {
     "name": "stdout",
     "output_type": "stream",
     "text": [
      "Would you recommend us (Y/N): Y\n",
      "How would you rate our service (1-10): 9\n"
     ]
    }
   ],
   "source": [
    "class FunctionForm(metaclass=FormMeta):\n",
    "    def run(self):\n",
    "        for name, fn in self._fields.items():\n",
    "            setattr(self, name, fn(input(fn.__doc__ + ': ')))\n",
    "\n",
    "class SatisfactionSurvey(FunctionForm):\n",
    "    def recommend(v):\n",
    "        'Would you recommend us (Y/N)'\n",
    "        if v == 'Y' or v == 'N':\n",
    "            return v\n",
    "        raise ValueError('Y/N only')\n",
    "    \n",
    "    def rating(v):\n",
    "        'How would you rate our service (1-10)'\n",
    "        return int(v)\n",
    "\n",
    "ss = SatisfactionSurvey()\n",
    "ss.run()"
   ]
  },
  {
   "cell_type": "code",
   "execution_count": 12,
   "metadata": {},
   "outputs": [
    {
     "data": {
      "text/plain": [
       "'Y'"
      ]
     },
     "execution_count": 12,
     "metadata": {},
     "output_type": "execute_result"
    }
   ],
   "source": [
    "ss.recommend"
   ]
  },
  {
   "cell_type": "code",
   "execution_count": 13,
   "metadata": {},
   "outputs": [
    {
     "data": {
      "text/plain": [
       "9"
      ]
     },
     "execution_count": 13,
     "metadata": {},
     "output_type": "execute_result"
    }
   ],
   "source": [
    "ss.rating"
   ]
  },
  {
   "cell_type": "markdown",
   "metadata": {},
   "source": [
    "Popular metaclasses:\n",
    "- [Django Forms](https://docs.djangoproject.com/en/2.2/topics/forms/#the-form-class) and [Models](https://docs.djangoproject.com/en/2.2/topics/db/models/#quick-example)\n",
    "- [Sqlalchemy declarative_base](https://docs.sqlalchemy.org/en/latest/orm/extensions/declarative/basic_use.html)"
   ]
  },
  {
   "cell_type": "markdown",
   "metadata": {},
   "source": [
    "### MRO is enforced"
   ]
  },
  {
   "cell_type": "code",
   "execution_count": 23,
   "metadata": {},
   "outputs": [],
   "source": [
    "class ConfigSettings(LoggedLowerDict):\n",
    "    pass"
   ]
  },
  {
   "cell_type": "code",
   "execution_count": 24,
   "metadata": {},
   "outputs": [],
   "source": [
    "class ConfigSettings(LoggedLowerDict, LoggedDict):\n",
    "    pass"
   ]
  },
  {
   "cell_type": "code",
   "execution_count": 25,
   "metadata": {
    "scrolled": true
   },
   "outputs": [
    {
     "ename": "TypeError",
     "evalue": "Cannot create a consistent method resolution\norder (MRO) for bases LoggedDict, LowerDict",
     "output_type": "error",
     "traceback": [
      "\u001b[0;31m---------------------------------------------------------------------------\u001b[0m",
      "\u001b[0;31mTypeError\u001b[0m                                 Traceback (most recent call last)",
      "\u001b[0;32m<ipython-input-25-eae0e64d5803>\u001b[0m in \u001b[0;36m<module>\u001b[0;34m\u001b[0m\n\u001b[0;32m----> 1\u001b[0;31m \u001b[0;32mclass\u001b[0m \u001b[0mConfigSettings\u001b[0m\u001b[0;34m(\u001b[0m\u001b[0mLoggedLowerDict\u001b[0m\u001b[0;34m,\u001b[0m \u001b[0mLowerDict\u001b[0m\u001b[0;34m,\u001b[0m \u001b[0mLoggedDict\u001b[0m\u001b[0;34m)\u001b[0m\u001b[0;34m:\u001b[0m\u001b[0;34m\u001b[0m\u001b[0;34m\u001b[0m\u001b[0m\n\u001b[0m\u001b[1;32m      2\u001b[0m     \u001b[0;32mpass\u001b[0m\u001b[0;34m\u001b[0m\u001b[0;34m\u001b[0m\u001b[0m\n",
      "\u001b[0;31mTypeError\u001b[0m: Cannot create a consistent method resolution\norder (MRO) for bases LoggedDict, LowerDict"
     ]
    }
   ],
   "source": [
    "class ConfigSettings(LoggedLowerDict, LowerDict, LoggedDict):\n",
    "    pass"
   ]
  }
 ],
 "metadata": {
  "kernelspec": {
   "display_name": "Python 3",
   "language": "python",
   "name": "python3"
  },
  "language_info": {
   "codemirror_mode": {
    "name": "ipython",
    "version": 3
   },
   "file_extension": ".py",
   "mimetype": "text/x-python",
   "name": "python",
   "nbconvert_exporter": "python",
   "pygments_lexer": "ipython3",
   "version": "3.6.7"
  }
 },
 "nbformat": 4,
 "nbformat_minor": 2
}
