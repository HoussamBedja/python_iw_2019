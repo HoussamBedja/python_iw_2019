{
 "cells": [
  {
   "cell_type": "markdown",
   "metadata": {},
   "source": [
    "## Exercise: A simple python script, using interpreter\n",
    "\n",
    "- Use vscode to create and execute a \"Hello Python\" script\n",
    "- launch the interpreter, experiment with statements and expressions"
   ]
  },
  {
   "cell_type": "code",
   "execution_count": 1,
   "metadata": {},
   "outputs": [
    {
     "data": {
      "text/plain": [
       "'Hello Python'"
      ]
     },
     "execution_count": 1,
     "metadata": {},
     "output_type": "execute_result"
    }
   ],
   "source": [
    "'Hello Python'"
   ]
  },
  {
   "cell_type": "code",
   "execution_count": 2,
   "metadata": {},
   "outputs": [
    {
     "name": "stdout",
     "output_type": "stream",
     "text": [
      "Hello Python\n"
     ]
    }
   ],
   "source": [
    "print('Hello Python')"
   ]
  },
  {
   "cell_type": "code",
   "execution_count": 3,
   "metadata": {},
   "outputs": [
    {
     "name": "stdout",
     "output_type": "stream",
     "text": [
      "1991\n"
     ]
    }
   ],
   "source": [
    "python_released = 1991\n",
    "print(python_released)"
   ]
  },
  {
   "cell_type": "code",
   "execution_count": 4,
   "metadata": {},
   "outputs": [
    {
     "data": {
      "text/plain": [
       "1991"
      ]
     },
     "execution_count": 4,
     "metadata": {},
     "output_type": "execute_result"
    }
   ],
   "source": [
    "python_released"
   ]
  },
  {
   "cell_type": "code",
   "execution_count": 5,
   "metadata": {},
   "outputs": [
    {
     "name": "stdout",
     "output_type": "stream",
     "text": [
      "3.6.7 (default, Oct 22 2018, 11:32:17) \n",
      "[GCC 8.2.0]\n"
     ]
    }
   ],
   "source": [
    "import sys\n",
    "print(sys.version)"
   ]
  },
  {
   "cell_type": "markdown",
   "metadata": {},
   "source": [
    "### Review\n",
    "- how do you execute a python script?\n",
    "- how do you start a python interpreter?\n",
    "- what are two important differences between running a script and executing code in an interpreter?\n",
    "- what's one difference between statements and expressions?\n",
    "- how are modules imported and attributes accessed?"
   ]
  },
  {
   "cell_type": "markdown",
   "metadata": {
    "slideshow": {
     "slide_type": "slide"
    }
   },
   "source": [
    "## Flavour of Python\n",
    "\n",
    "- easy to read\n",
    "- imperative, functional, OO, type annotations, async\n",
    "- Don't Repeat Yourself\n",
    "- rich standard library\n",
    "- massive community and tools\n",
    "- education, embedded, web, games, data science"
   ]
  },
  {
   "cell_type": "markdown",
   "metadata": {
    "slideshow": {
     "slide_type": "slide"
    }
   },
   "source": [
    "### Implementations\n",
    "\n",
    "- original a.k.a. CPython https://python.org/\n",
    "- Cython https://cython.org/\n",
    "- PyPy https://pypy.org/\n",
    "- Micropython https://micropython.org/ / Circuitpython https://github.com/adafruit/circuitpython\n",
    "\n",
    "### Editors and Interpreters\n",
    "\n",
    "- IPython (Jupyter) https://ipython.org/\n",
    "- PyCharm\n",
    "- VSCode\n",
    "- vim, notepad++, any programmer's editor"
   ]
  },
  {
   "cell_type": "markdown",
   "metadata": {},
   "source": [
    "Print a Fibonacci sequence up to n\n",
    "\n",
    "e.g. for `n = 1000` print:\n",
    "\n",
    "`0 1 1 2 3 5 8 13 21 34 55 89 144 233 377 610 987`"
   ]
  },
  {
   "cell_type": "code",
   "execution_count": 6,
   "metadata": {},
   "outputs": [
    {
     "name": "stdout",
     "output_type": "stream",
     "text": [
      "1000\n"
     ]
    }
   ],
   "source": [
    "def fib(n):  # functions!\n",
    "    print(n)\n",
    "\n",
    "fib(1000)  # indent level closes blocks"
   ]
  },
  {
   "cell_type": "code",
   "execution_count": 7,
   "metadata": {},
   "outputs": [
    {
     "name": "stdout",
     "output_type": "stream",
     "text": [
      "0 1\n"
     ]
    }
   ],
   "source": [
    "a = 0\n",
    "b = 1\n",
    "print(a, b)  # arbitrary number of parameters"
   ]
  },
  {
   "cell_type": "code",
   "execution_count": 14,
   "metadata": {},
   "outputs": [
    {
     "name": "stdout",
     "output_type": "stream",
     "text": [
      "1 1\n"
     ]
    }
   ],
   "source": [
    "temp = b\n",
    "b = a + b\n",
    "a = temp\n",
    "print(a, b)"
   ]
  },
  {
   "cell_type": "code",
   "execution_count": 15,
   "metadata": {},
   "outputs": [
    {
     "name": "stdout",
     "output_type": "stream",
     "text": [
      "1 2\n"
     ]
    }
   ],
   "source": [
    "a, b = b, a + b  # swap and add in one statement\n",
    "print(a, b)"
   ]
  },
  {
   "cell_type": "code",
   "execution_count": 16,
   "metadata": {},
   "outputs": [
    {
     "name": "stdout",
     "output_type": "stream",
     "text": [
      "2 3\n"
     ]
    }
   ],
   "source": [
    "a, b = b, a + b\n",
    "print(a, b)"
   ]
  },
  {
   "cell_type": "code",
   "execution_count": 4,
   "metadata": {},
   "outputs": [
    {
     "name": "stdout",
     "output_type": "stream",
     "text": [
      "0 1 1 2 3 5 8 13 21 34 55 89 144 233 377 610 987 "
     ]
    }
   ],
   "source": [
    "a, b = 0, 1\n",
    "while a < 1000:  # loops!\n",
    "    print(a, end=' ')  # keyword argument, use space instead of newline at end\n",
    "    a, b = b, a + b"
   ]
  },
  {
   "cell_type": "code",
   "execution_count": 1,
   "metadata": {
    "slideshow": {
     "slide_type": "slide"
    }
   },
   "outputs": [
    {
     "name": "stdout",
     "output_type": "stream",
     "text": [
      "0 1 1 2 3 5 8 13 21 34 55 89 144 233 377 610 987 \n"
     ]
    }
   ],
   "source": [
    "def fib(n):  # functions!\n",
    "    a, b = 0, 1\n",
    "    while a < n:\n",
    "        print(a, end=' ')\n",
    "        a, b = b, a + b\n",
    "    print()\n",
    "    \n",
    "fib(1000)"
   ]
  },
  {
   "cell_type": "markdown",
   "metadata": {
    "slideshow": {
     "slide_type": "fragment"
    }
   },
   "source": [
    "### 🏠🏠🏠 Idiomatic Python: Indentation, function parameters\n",
    "\n",
    "- 4 space indentation, never tabs\n",
    "- configure tab and backspace keys in your editor\n",
    "- no spaces inside `()`, after function names or before `:`\n",
    "- 1 space after commas"
   ]
  },
  {
   "cell_type": "markdown",
   "metadata": {},
   "source": [
    "### Review\n",
    "- what is the keyword used to create a function?\n",
    "- what is one keyword used to create a loop?\n",
    "- how do you prevent `print()` from outputting a newline after its arguments?\n",
    "- what punctuation always comes before a new level of indentation?"
   ]
  },
  {
   "cell_type": "markdown",
   "metadata": {
    "slideshow": {
     "slide_type": "slide"
    }
   },
   "source": [
    "## names and values"
   ]
  },
  {
   "cell_type": "code",
   "execution_count": 9,
   "metadata": {
    "slideshow": {
     "slide_type": "slide"
    }
   },
   "outputs": [],
   "source": [
    "the_world_is_flat = False\n",
    "placeholder = None\n",
    "spam = 1\n",
    "SPAM = 2\n",
    "word = 'Python'\n",
    "happy_whale = '''\n",
    "┈╱▔▔▔▔▔▔▔╲┏━╮╭━┓\n",
    "▕┈╭╮┈┈┈┈┈▕╰━╮╭━╯\n",
    "▕━━━╯┈┈┈┈┈╲━╯┃┈┈\n",
    "┈╲▂▂▂▂▂▂▂▂▂▂▂╯┈┈\n",
    "┈┈┈┈┈┈┈┈┈┈┈┈┈┈┈┈\n",
    "╭┳╭┳╭┳╭┳╭┳╭┳╭┳╭┳\n",
    "╯╰╯╰╯╰╯╰╯╰╯╰╯╰╯╰\n",
    "'''\n",
    "close_to_π = 3.14  # unicode letters allowed, not recommended"
   ]
  },
  {
   "cell_type": "code",
   "execution_count": 8,
   "metadata": {
    "slideshow": {
     "slide_type": "fragment"
    }
   },
   "outputs": [
    {
     "ename": "SyntaxError",
     "evalue": "invalid character in identifier (<ipython-input-8-8fd59c7880d0>, line 1)",
     "output_type": "error",
     "traceback": [
      "\u001b[0;36m  File \u001b[0;32m\"<ipython-input-8-8fd59c7880d0>\"\u001b[0;36m, line \u001b[0;32m1\u001b[0m\n\u001b[0;31m    ☃ = 'frosty'  # unicode non-letters not allowed\u001b[0m\n\u001b[0m    ^\u001b[0m\n\u001b[0;31mSyntaxError\u001b[0m\u001b[0;31m:\u001b[0m invalid character in identifier\n"
     ]
    }
   ],
   "source": [
    "☃ = 'frosty'  # unicode non-letters not allowed"
   ]
  },
  {
   "cell_type": "code",
   "execution_count": 16,
   "metadata": {
    "slideshow": {
     "slide_type": "fragment"
    }
   },
   "outputs": [
    {
     "data": {
      "text/plain": [
       "False"
      ]
     },
     "execution_count": 16,
     "metadata": {},
     "output_type": "execute_result"
    }
   ],
   "source": [
    "the_world_is_flat"
   ]
  },
  {
   "cell_type": "markdown",
   "metadata": {
    "slideshow": {
     "slide_type": "slide"
    }
   },
   "source": [
    "### 🏠🏠🏠 Idiomatic Python: Names\n",
    "\n",
    "- Name your variables and functions in `snake_case`\n",
    "- Name your classes in `CamelCase`\n",
    "- Leave spaces around the `=` in assignments"
   ]
  },
  {
   "cell_type": "code",
   "execution_count": 17,
   "metadata": {
    "slideshow": {
     "slide_type": "slide"
    }
   },
   "outputs": [
    {
     "data": {
      "text/plain": [
       "1"
      ]
     },
     "execution_count": 17,
     "metadata": {},
     "output_type": "execute_result"
    }
   ],
   "source": [
    "spam"
   ]
  },
  {
   "cell_type": "code",
   "execution_count": 3,
   "metadata": {},
   "outputs": [
    {
     "data": {
      "text/plain": [
       "2"
      ]
     },
     "execution_count": 3,
     "metadata": {},
     "output_type": "execute_result"
    }
   ],
   "source": [
    "SPAM"
   ]
  },
  {
   "cell_type": "code",
   "execution_count": 10,
   "metadata": {},
   "outputs": [
    {
     "data": {
      "text/plain": [
       "'Python'"
      ]
     },
     "execution_count": 10,
     "metadata": {},
     "output_type": "execute_result"
    }
   ],
   "source": [
    "# python repr\n",
    "word"
   ]
  },
  {
   "cell_type": "code",
   "execution_count": 19,
   "metadata": {
    "slideshow": {
     "slide_type": "fragment"
    }
   },
   "outputs": [
    {
     "data": {
      "text/plain": [
       "'\\n┈╱▔▔▔▔▔▔▔╲┏━╮╭━┓\\n▕┈╭╮┈┈┈┈┈▕╰━╮╭━╯\\n▕━━━╯┈┈┈┈┈╲━╯┃┈┈\\n┈╲▂▂▂▂▂▂▂▂▂▂▂╯┈┈\\n┈┈┈┈┈┈┈┈┈┈┈┈┈┈┈┈\\n╭┳╭┳╭┳╭┳╭┳╭┳╭┳╭┳\\n╯╰╯╰╯╰╯╰╯╰╯╰╯╰╯╰\\n'"
      ]
     },
     "execution_count": 19,
     "metadata": {},
     "output_type": "execute_result"
    }
   ],
   "source": [
    "# python repr making a mess\n",
    "happy_whale"
   ]
  },
  {
   "cell_type": "code",
   "execution_count": 20,
   "metadata": {
    "slideshow": {
     "slide_type": "fragment"
    }
   },
   "outputs": [
    {
     "name": "stdout",
     "output_type": "stream",
     "text": [
      "\n",
      "┈╱▔▔▔▔▔▔▔╲┏━╮╭━┓\n",
      "▕┈╭╮┈┈┈┈┈▕╰━╮╭━╯\n",
      "▕━━━╯┈┈┈┈┈╲━╯┃┈┈\n",
      "┈╲▂▂▂▂▂▂▂▂▂▂▂╯┈┈\n",
      "┈┈┈┈┈┈┈┈┈┈┈┈┈┈┈┈\n",
      "╭┳╭┳╭┳╭┳╭┳╭┳╭┳╭┳\n",
      "╯╰╯╰╯╰╯╰╯╰╯╰╯╰╯╰\n",
      "\n"
     ]
    }
   ],
   "source": [
    "print(happy_whale)"
   ]
  },
  {
   "cell_type": "code",
   "execution_count": 46,
   "metadata": {
    "slideshow": {
     "slide_type": "fragment"
    }
   },
   "outputs": [
    {
     "name": "stdout",
     "output_type": "stream",
     "text": [
      "'Python'\n"
     ]
    }
   ],
   "source": [
    "print(repr(word))"
   ]
  },
  {
   "cell_type": "code",
   "execution_count": 47,
   "metadata": {
    "slideshow": {
     "slide_type": "slide"
    }
   },
   "outputs": [
    {
     "ename": "NameError",
     "evalue": "name 'word' is not defined",
     "output_type": "error",
     "traceback": [
      "\u001b[0;31m---------------------------------------------------------------------------\u001b[0m",
      "\u001b[0;31mNameError\u001b[0m                                 Traceback (most recent call last)",
      "\u001b[0;32m<ipython-input-47-65ea25591868>\u001b[0m in \u001b[0;36m<module>\u001b[0;34m\u001b[0m\n\u001b[1;32m      1\u001b[0m \u001b[0;32mdel\u001b[0m \u001b[0mword\u001b[0m\u001b[0;34m\u001b[0m\u001b[0;34m\u001b[0m\u001b[0m\n\u001b[0;32m----> 2\u001b[0;31m \u001b[0mword\u001b[0m\u001b[0;34m\u001b[0m\u001b[0;34m\u001b[0m\u001b[0m\n\u001b[0m",
      "\u001b[0;31mNameError\u001b[0m: name 'word' is not defined"
     ]
    }
   ],
   "source": [
    "del word\n",
    "word"
   ]
  },
  {
   "cell_type": "markdown",
   "metadata": {
    "slideshow": {
     "slide_type": "slide"
    }
   },
   "source": [
    "### 🍎🍎🍎 Python Core: Special Names\n",
    "\n",
    "Names like `__builtins__` that start and end with double-underscores \"dunder names\" are reserved by Python for things that are handled in a special way by the language itself. Use them only as intended."
   ]
  },
  {
   "cell_type": "markdown",
   "metadata": {},
   "source": [
    "### Review\n",
    "- what keyword is used to unbind a name?\n",
    "- what characters are valid in variable names?\n",
    "- which characters are recommended for variable names?\n",
    "- are names case-sensitive?\n",
    "- how do you define a multi-line string?\n",
    "- how do you define a comment?"
   ]
  },
  {
   "cell_type": "markdown",
   "metadata": {
    "slideshow": {
     "slide_type": "slide"
    }
   },
   "source": [
    "## Numeric types"
   ]
  },
  {
   "cell_type": "code",
   "execution_count": 44,
   "metadata": {
    "slideshow": {
     "slide_type": "fragment"
    }
   },
   "outputs": [
    {
     "data": {
      "text/plain": [
       "4"
      ]
     },
     "execution_count": 44,
     "metadata": {},
     "output_type": "execute_result"
    }
   ],
   "source": [
    "2 + 2"
   ]
  },
  {
   "cell_type": "code",
   "execution_count": 46,
   "metadata": {
    "slideshow": {
     "slide_type": "fragment"
    }
   },
   "outputs": [
    {
     "data": {
      "text/plain": [
       "20"
      ]
     },
     "execution_count": 46,
     "metadata": {},
     "output_type": "execute_result"
    }
   ],
   "source": [
    "# familiar OOP\n",
    "50 - 5 * 6"
   ]
  },
  {
   "cell_type": "code",
   "execution_count": 47,
   "metadata": {
    "slideshow": {
     "slide_type": "fragment"
    }
   },
   "outputs": [
    {
     "data": {
      "text/plain": [
       "5.0"
      ]
     },
     "execution_count": 47,
     "metadata": {},
     "output_type": "execute_result"
    }
   ],
   "source": [
    "# / always returns a float\n",
    "(50 - 5 * 6) / 4"
   ]
  },
  {
   "cell_type": "code",
   "execution_count": 48,
   "metadata": {
    "slideshow": {
     "slide_type": "fragment"
    }
   },
   "outputs": [
    {
     "data": {
      "text/plain": [
       "1.6"
      ]
     },
     "execution_count": 48,
     "metadata": {},
     "output_type": "execute_result"
    }
   ],
   "source": [
    "8 / 5"
   ]
  },
  {
   "cell_type": "code",
   "execution_count": 49,
   "metadata": {
    "slideshow": {
     "slide_type": "fragment"
    }
   },
   "outputs": [
    {
     "data": {
      "text/plain": [
       "5.666666666666667"
      ]
     },
     "execution_count": 49,
     "metadata": {},
     "output_type": "execute_result"
    }
   ],
   "source": [
    "17 / 3"
   ]
  },
  {
   "cell_type": "code",
   "execution_count": 51,
   "metadata": {
    "slideshow": {
     "slide_type": "slide"
    }
   },
   "outputs": [
    {
     "data": {
      "text/plain": [
       "5"
      ]
     },
     "execution_count": 51,
     "metadata": {},
     "output_type": "execute_result"
    }
   ],
   "source": [
    "# floor division\n",
    "17 // 3"
   ]
  },
  {
   "cell_type": "code",
   "execution_count": 52,
   "metadata": {
    "slideshow": {
     "slide_type": "fragment"
    }
   },
   "outputs": [
    {
     "data": {
      "text/plain": [
       "2"
      ]
     },
     "execution_count": 52,
     "metadata": {},
     "output_type": "execute_result"
    }
   ],
   "source": [
    "# remainder\n",
    "17 % 3"
   ]
  },
  {
   "cell_type": "code",
   "execution_count": 54,
   "metadata": {
    "slideshow": {
     "slide_type": "fragment"
    }
   },
   "outputs": [
    {
     "data": {
      "text/plain": [
       "25"
      ]
     },
     "execution_count": 54,
     "metadata": {},
     "output_type": "execute_result"
    }
   ],
   "source": [
    "5 ** 2"
   ]
  },
  {
   "cell_type": "code",
   "execution_count": 56,
   "metadata": {
    "slideshow": {
     "slide_type": "fragment"
    }
   },
   "outputs": [
    {
     "data": {
      "text/plain": [
       "900"
      ]
     },
     "execution_count": 56,
     "metadata": {},
     "output_type": "execute_result"
    }
   ],
   "source": [
    "width = 20\n",
    "height = 5 * 9\n",
    "width * height"
   ]
  },
  {
   "cell_type": "code",
   "execution_count": 14,
   "metadata": {
    "slideshow": {
     "slide_type": "slide"
    }
   },
   "outputs": [
    {
     "data": {
      "text/plain": [
       "29570038080193553244202241247182381904736703321559616717052369766327700458176486171014763873531311900779405275511722677224608928649741110810778003714836325316042186166990796173111553392470503228770292616359897477006822490266771708311010156387354813759534835519867309530278009216021014468422618683416085201240881900696792962780195582937398604502704630941781757102261117896383852983027277086981356076466523504607298188323156949582300141432428033822840728160709641694694631974768106968066157416761673042023288900130167925190470593163889479633963650401989652971144044227895115458923617583921692271487959478105314259597356800173880535562903333968558439558312971211920855290601749774732483081370871536779307136413286168834578290093418272238480842486774755541216912068813554389615477881034622307250708201099944310605415116057906334873755911896899063889245289330017905578033239868792237594046562891000234570480466714010999453530847119757231540057030904501661985773270656842558313984162772020111292439880448957340032753024733913834974990022017764760636694657353730216426495327531084479505061474803804732314821604283108521267568018402829588216144038265805230547746623167129930066055598553157592489665718202117566661312585309037516052129309448917931270523260917503972946864253126691364385172837056393336351614486329037825347107549497401114852235477832880366337996240797554262456425498262419217851488935965187810761681385761194585157126506108224424390904410625004411327211536311088007224067161223041670200661941492645863388106811833930148937860388331508538314380428730050076775666909687123531201671191360119217587501707278464879792528321317975757211887757288864691395808200589001779854265847570611022274694232573900967994912314133071818621945357512571493309401506640075696965320149269351852661649392235050778658497673682783702780921253995141030624954339652548192953932138333189858174054944709300427759038623238352949052038092448982650259590937926840780906849543078295742149516334088901540757903467420116929759740765340006739557729956994519994913383636380177110823095493818782391932936669614298902041280348726614984850834485233646361804743009899859708625059629383116744797287745994208817233824989183345435088824346418798826990434298496571771493972235442882128821309527093860441661061595020273963143689053752482859639369807328593770978885470297033825398751284590314653846037731013041166624253279570850473018581121397059634128992476605199470753609284601349842100514651879475565895369724582244439281960525068068004212786428530358394076488796560856526453286465790038263980955744560865625661093634746457202552213684457672181829716782426727002047419392239300823545212530022202370160195445330783651431891091761092973520338839147013827757400238179104442275472661714530715283142865238053023093387577869025073918273669194911232341967717015764574035115829624021239216402232027147112072565950900550711954318831286711688187370886681109988455937046782685468683648085472877458262192974943341418780094655746680886596745948012865599992266034667429228735904479455139666557247545538687230835313771462482702323289559129812773126534151050023743061056350650587143674609086550502476987720690212456531379547297168100561437791860423543993348197783350688668919400815812835663168261393455057577254481144689900804864513306941006577949611465572940022955061091010981022280645044953998958131993831403625268773217675882000804535233472218762320602097772373589352029443597255260804766286134394912540998684180555769384208029934015945625879466674973545800341008789340689223622240339876620293011096863701364928653956368622168279951349110322105526787531670781652750939856398657730408147642156017685352830914182230007783681987587300990858029825767062720256673185657544792552864756501107273639733925320263530866879991279199727260917164090022389800696661554406662374173305694465568301632615422176407166881580233772343523334186406775337635806673342790639651806227129252424045577693626753414349694553699940163249006525148204520410201904859942835613082281938321532089639520181799674513019249008237449574279675032848026951246175575505494642028127562838850097175189691138026028837490492372078483198841981773067535582004401845695722447453889725452189908600602369908861169419639699252646556010477630410083621544218003625879269186834792963889922901474479189929367195477529283797063289174436932922566545663364711314940699390542611625491987237864525818027204029745142761700093615966099513525380766872035910548570373776464116056100415314756489075975296837057314567045244255224443934646752230285478698788583762905771913114237762914500338426938587249651589716374088187451124786192699694914868163105274601292065199860787757572337838800795758305342602393333453008108349880617535806539734784817132736583765860452206985398729662997963448326516846612648665667410064247766458362670505426949493400466925584610160801681424204455185269755647078902978191494229618180160102786256115693217764873106000509855516598230166922485061931568418920421355730198372688770124704040649788955314384017818928854518308204753445829435883287879908970225620684083705762169137367729763920421976436710390032384197426163185263705519853731224531526467401992709431861761187733932582006525807559615314657011190241547472011135532909957385882000812321589993409902299047644525884965566791214257881192183555965606994115702423432248917009237335510046016219635064715118555100959004428863042372263113096983369932095934486594530062522579603482790558852761178379477062843380891467222884013104741297537068515229759322379716816688641823301984907902509586631857687780589880079652470916876025997575067773343562654605315193792244767608341342346143371558807666530562245904259627156054184268081711361487458094523396212970850052054571809822955705308460844030980144613065390387516163498755779379719883079160805872209998856717686830143523379611427465423614307306174849215657378385500916228222233592211545032152971682739774819329285159665985998815756450261922418996447694848105783033418185908388472699065389325786309303314580466486624134047653822459616014565218780841269642049690829853879935427474436839121216936091290503546350388722131042640107264305931037721109393149769757313249399911667699014063033275135817872967642187429919438990565019422811091054991832673108425594484075773246528383308708619849081426053280483224641388400430414079610039997955092964197683584100478829217010888557644469762836134080204029697435632826728926338553434493320609343504373740636338788677486921840423163922011229387040507612715036528952537556240710181240315440197802783756884747213245008907584235916181268057331481122372627618501351418291781082016785907223723490432667679470198967192763318889594422314120430529191977272349121534109256962392713234345209004085793217885951654329475100990050527530887039823706933636042779991779742739205913916892479050342035322331415720861807636146692968854219356868380381320050819242314083445547645371336194221067383731457128363664501360900423116580376502116706686340912772673297944316028312937501647392905685993958829516347044248183994709284278013981928435012466404034216317441390796316558933151256466299953910698983057854770840074569232913024127935440980448048048225222931672093780709511346418859497601091080577947853968788958839298868031998145923655620055867676970881487273533572534065833887185944677160184600300841676836092512434995324353573781756687135178522370512103461402180355083036748951420840322767530853707071241079232220700485431854290223655489976801238461720160333422844601992038990362837820062034805625031849942629136028963224763264918594291058132335754830581724662725919501840488798841968805999058339837219267471262525646626481115005704867442972668051862965551403768012558261258797141909374946256080820744506981914021604599834812612911468981690159374467012553254467510152122608128118526205143002628567763911205058981484089445063925312227297156574819515815226705264496060187984459372944609156633574632350439639188842061121305395501949223457042602289040822345435531431410292004367782317582244666934734230469992087996482151797335813166140518352958778655212380541770708732623725994587557051738808690393647783463838973619031375364955834992555598419585936808651891097547008331255147499972522982764496440853210788466655724475736233635306799685713498651495985416152932810517582073377481192674721483835033518179478512926510196265421191987311253902444830654213015249784562788675821006381940927727803797139022846222722392173144911498124622263762556297135799129914761877834671478935475607404943296052753221847284775859680071164719520781584643290533835147972276625783445031054465600606029383933811394144549916753990510332575200965122624042281639187787166139697105027251762738273612662466825287676665812207822791553099424225902561578601700094217249553393903866523935231439795231874160866835083002479750522917174243984938157640255744881114423432856278281953572244699693718421884209408629980999899657811805537222473717721490235280510501257668686031638225015257560142582041829759711142917169669283692433176347491975784425336398994743098294658517001590759607096696809896810199425012325141575633439607741103828417184537984829736385175187821043843922916918497921626733246346349488728012465502515835727748075661320440942255813521813605602954002582878877636144092482061051613154728125870768417776377780952097988638892756560559992172866846718663746826331406030145201705245142413843929752819510627309980809575820380943400546534944354720213762371197796194563515317985122239306227452805339194206261922327328881385264946493107731598333726490360478756392805900488889"
      ]
     },
     "execution_count": 14,
     "metadata": {},
     "output_type": "execute_result"
    }
   ],
   "source": [
    "# int always accurate, limited only by memory available\n",
    "9 ** 9999"
   ]
  },
  {
   "cell_type": "code",
   "execution_count": 22,
   "metadata": {
    "slideshow": {
     "slide_type": "slide"
    }
   },
   "outputs": [
    {
     "data": {
      "text/plain": [
       "500000"
      ]
     },
     "execution_count": 22,
     "metadata": {},
     "output_type": "execute_result"
    }
   ],
   "source": [
    "int(500000.8)"
   ]
  },
  {
   "cell_type": "code",
   "execution_count": 24,
   "metadata": {
    "slideshow": {
     "slide_type": "fragment"
    }
   },
   "outputs": [
    {
     "data": {
      "text/plain": [
       "500000"
      ]
     },
     "execution_count": 24,
     "metadata": {},
     "output_type": "execute_result"
    }
   ],
   "source": [
    "int('500000')"
   ]
  },
  {
   "cell_type": "code",
   "execution_count": 83,
   "metadata": {
    "slideshow": {
     "slide_type": "fragment"
    }
   },
   "outputs": [
    {
     "data": {
      "text/plain": [
       "269003529"
      ]
     },
     "execution_count": 83,
     "metadata": {},
     "output_type": "execute_result"
    }
   ],
   "source": [
    "# parse hex value\n",
    "int('1008ab09', 16)"
   ]
  },
  {
   "cell_type": "code",
   "execution_count": 2,
   "metadata": {},
   "outputs": [
    {
     "data": {
      "text/plain": [
       "269003529"
      ]
     },
     "execution_count": 2,
     "metadata": {},
     "output_type": "execute_result"
    }
   ],
   "source": [
    "0x1008ab09"
   ]
  },
  {
   "cell_type": "code",
   "execution_count": 84,
   "metadata": {
    "slideshow": {
     "slide_type": "fragment"
    }
   },
   "outputs": [
    {
     "data": {
      "text/plain": [
       "269003529"
      ]
     },
     "execution_count": 84,
     "metadata": {},
     "output_type": "execute_result"
    }
   ],
   "source": [
    "0b10000000010001010101100001001"
   ]
  },
  {
   "cell_type": "code",
   "execution_count": 6,
   "metadata": {
    "slideshow": {
     "slide_type": "fragment"
    }
   },
   "outputs": [
    {
     "name": "stdout",
     "output_type": "stream",
     "text": [
      "0b10101000000\n"
     ]
    }
   ],
   "source": [
    "print(bin(0b10101010101 & 0b11111100000))"
   ]
  },
  {
   "cell_type": "code",
   "execution_count": 58,
   "metadata": {
    "slideshow": {
     "slide_type": "slide"
    }
   },
   "outputs": [
    {
     "data": {
      "text/plain": [
       "14.0"
      ]
     },
     "execution_count": 58,
     "metadata": {},
     "output_type": "execute_result"
    }
   ],
   "source": [
    "# automatic \"upgrade\" to float\n",
    "4 * 3.75 - 1"
   ]
  },
  {
   "cell_type": "code",
   "execution_count": 69,
   "metadata": {
    "slideshow": {
     "slide_type": "fragment"
    }
   },
   "outputs": [
    {
     "data": {
      "text/plain": [
       "0.020000000000000004"
      ]
     },
     "execution_count": 69,
     "metadata": {},
     "output_type": "execute_result"
    }
   ],
   "source": [
    "# IEEE 754 double-precision floating point, warts and all\n",
    "0.1 * 0.2"
   ]
  },
  {
   "cell_type": "code",
   "execution_count": 98,
   "metadata": {
    "slideshow": {
     "slide_type": "fragment"
    }
   },
   "outputs": [
    {
     "data": {
      "text/plain": [
       "5.1"
      ]
     },
     "execution_count": 98,
     "metadata": {},
     "output_type": "execute_result"
    }
   ],
   "source": [
    "float('0.1') + 5"
   ]
  },
  {
   "cell_type": "code",
   "execution_count": 95,
   "metadata": {
    "slideshow": {
     "slide_type": "fragment"
    }
   },
   "outputs": [
    {
     "data": {
      "text/plain": [
       "nan"
      ]
     },
     "execution_count": 95,
     "metadata": {},
     "output_type": "execute_result"
    }
   ],
   "source": [
    "float('nan') / 2"
   ]
  },
  {
   "cell_type": "code",
   "execution_count": 99,
   "metadata": {
    "slideshow": {
     "slide_type": "fragment"
    }
   },
   "outputs": [
    {
     "data": {
      "text/plain": [
       "-inf"
      ]
     },
     "execution_count": 99,
     "metadata": {},
     "output_type": "execute_result"
    }
   ],
   "source": [
    "float('-inf') * 30"
   ]
  },
  {
   "cell_type": "code",
   "execution_count": 100,
   "metadata": {
    "slideshow": {
     "slide_type": "slide"
    }
   },
   "outputs": [
    {
     "data": {
      "text/plain": [
       "False"
      ]
     },
     "execution_count": 100,
     "metadata": {},
     "output_type": "execute_result"
    }
   ],
   "source": [
    "0.3 + 0.6 == 0.9"
   ]
  },
  {
   "cell_type": "code",
   "execution_count": 5,
   "metadata": {
    "slideshow": {
     "slide_type": "fragment"
    }
   },
   "outputs": [
    {
     "data": {
      "text/plain": [
       "True"
      ]
     },
     "execution_count": 5,
     "metadata": {},
     "output_type": "execute_result"
    }
   ],
   "source": [
    "from decimal import Decimal  # import just one name from module\n",
    "\n",
    "Decimal('0.3') + Decimal('0.6') == Decimal('0.9')"
   ]
  },
  {
   "cell_type": "markdown",
   "metadata": {
    "slideshow": {
     "slide_type": "fragment"
    }
   },
   "source": [
    "Decimal implements IBM's General Decimal Arithmetic Specification http://speleotrove.com/decimal/decarith.html"
   ]
  },
  {
   "cell_type": "code",
   "execution_count": 3,
   "metadata": {
    "slideshow": {
     "slide_type": "fragment"
    }
   },
   "outputs": [
    {
     "data": {
      "text/plain": [
       "Decimal('5.00')"
      ]
     },
     "execution_count": 3,
     "metadata": {},
     "output_type": "execute_result"
    }
   ],
   "source": [
    "Decimal('5.00')"
   ]
  },
  {
   "cell_type": "markdown",
   "metadata": {
    "slideshow": {
     "slide_type": "fragment"
    }
   },
   "source": [
    "More information https://docs.python.org/3/library/decimal.html"
   ]
  },
  {
   "cell_type": "markdown",
   "metadata": {
    "slideshow": {
     "slide_type": "slide"
    }
   },
   "source": [
    "### ⏱⏱⏱ Performance matters: Numeric values\n",
    "\n",
    "- small integers are \"interned\"\n",
    "- 64-bit integers are stored normally\n",
    "- larger integers are stored as binary arrays\n",
    "- floats are IEEE 754 double-precision\n",
    "- Python uses a peephole optimizer on numeric expressions\n",
    "\n",
    "Handle numbers faster with Cython, NumPy, pandas or your DB/data store of choice\n",
    "\n",
    "![numpy and pandas decision tree](numpy_pandas.svg)"
   ]
  },
  {
   "cell_type": "markdown",
   "metadata": {},
   "source": [
    "### Review\n",
    "- which integer math operation returns a float?\n",
    "- what's the largest integer supported?\n",
    "- which numeric type should be used for financial operations?\n",
    "- what keyword is used to bring code in from another module?"
   ]
  },
  {
   "cell_type": "code",
   "execution_count": 102,
   "metadata": {
    "slideshow": {
     "slide_type": "slide"
    }
   },
   "outputs": [
    {
     "data": {
      "text/plain": [
       "(1+2j)"
      ]
     },
     "execution_count": 102,
     "metadata": {},
     "output_type": "execute_result"
    }
   ],
   "source": [
    "1+2j"
   ]
  },
  {
   "cell_type": "code",
   "execution_count": 105,
   "metadata": {
    "slideshow": {
     "slide_type": "fragment"
    }
   },
   "outputs": [
    {
     "data": {
      "text/plain": [
       "(1+2j)"
      ]
     },
     "execution_count": 105,
     "metadata": {},
     "output_type": "execute_result"
    }
   ],
   "source": [
    "complex(1, 2)"
   ]
  },
  {
   "cell_type": "code",
   "execution_count": 2,
   "metadata": {},
   "outputs": [
    {
     "data": {
      "text/plain": [
       "1.0"
      ]
     },
     "execution_count": 2,
     "metadata": {},
     "output_type": "execute_result"
    }
   ],
   "source": [
    "(1+2j).real"
   ]
  },
  {
   "cell_type": "code",
   "execution_count": 1,
   "metadata": {
    "slideshow": {
     "slide_type": "fragment"
    }
   },
   "outputs": [
    {
     "data": {
      "text/plain": [
       "2.0"
      ]
     },
     "execution_count": 1,
     "metadata": {},
     "output_type": "execute_result"
    }
   ],
   "source": [
    "(1+2j).imag"
   ]
  },
  {
   "cell_type": "markdown",
   "metadata": {
    "slideshow": {
     "slide_type": "slide"
    }
   },
   "source": [
    "### Exercise: python as calculator\n",
    "\n",
    "1. use the interpreter to calculate the number of seconds in 625 years (assume 365 days in a year)\n",
    "2. generate a (not cryptographically secure) random number between 10 and 1000 using a module from the python standard library\n",
    "3. find a fraction type in the Python reference and use it to calculate the difference between 1/10 and the floating point value 0.1\n",
    "4. find a date type in the Python reference and use it to compute the weekday for this date in the year 2000"
   ]
  },
  {
   "cell_type": "markdown",
   "metadata": {},
   "source": [
    "## Extra Material"
   ]
  },
  {
   "cell_type": "code",
   "execution_count": 10,
   "metadata": {
    "slideshow": {
     "slide_type": "slide"
    }
   },
   "outputs": [
    {
     "name": "stdout",
     "output_type": "stream",
     "text": [
      "▇▇▇▇▇▇▇▇▇▇▇▇▇▇▇▇▇▇▇▇▇▇▇▇▇▇▇▇▇▇▇▇▇▇▇▇▇▇▇▇▇▇▇▇▇▇▇▇▇\n",
      "▇▇▇▇▇▇▇▇▇▇▇▇▇▇▇▇▇▇▇▇▇▇▇▇▇▇▇▇▇▇▇▇▇▇▇▇▇▇▇▇▇▇▇▇▇▇▇▇▇\n",
      "▇▇▇▇▇▇▇▇▇▇▇▇▇▇▇▇▇▇▇▇▇▇▇▇▇▇▇▇▇▇▇▇▇▇▇▇▇▇▇▇▇▇▇▇▇▇▇▇\n",
      "▇▇▇▇▇▇▇▇▇▇▇▇▇▇▇▇▇▇▇▇▇▇▇▇▇▇▇▇▇▇▇▇▇▇▇▇▇▇▇▇▇▇▇▇▇▇\n",
      "▇▇▇▇▇▇▇▇▇▇▇▇▇▇▇▇▇▇▇▇▇▇▇▇▇▇▇▇▇▇▇▇▇▇▇▇▇▇▇▇▇▇▇▇\n",
      "▇▇▇▇▇▇▇▇▇▇▇▇▇▇▇▇▇▇▇▇▇▇▇▇▇▇▇▇▇▇▇▇▇▇▇▇▇▇▇▇▇\n",
      "▇▇▇▇▇▇▇▇▇▇▇▇▇▇▇▇▇▇▇▇▇▇▇▇▇▇▇▇▇▇▇▇▇▇▇▇▇\n",
      "▇▇▇▇▇▇▇▇▇▇▇▇▇▇▇▇▇▇▇▇▇▇▇▇▇▇▇▇▇▇▇▇▇▇\n",
      "▇▇▇▇▇▇▇▇▇▇▇▇▇▇▇▇▇▇▇▇▇▇▇▇▇▇▇▇▇▇▇\n",
      "▇▇▇▇▇▇▇▇▇▇▇▇▇▇▇▇▇▇▇▇▇▇▇▇▇▇▇▇\n",
      "▇▇▇▇▇▇▇▇▇▇▇▇▇▇▇▇▇▇▇▇▇▇▇▇▇▇\n",
      "▇▇▇▇▇▇▇▇▇▇▇▇▇▇▇▇▇▇▇▇▇▇▇▇▇\n",
      "▇▇▇▇▇▇▇▇▇▇▇▇▇▇▇▇▇▇▇▇▇▇▇▇▇\n",
      "▇▇▇▇▇▇▇▇▇▇▇▇▇▇▇▇▇▇▇▇▇▇▇▇▇▇▇\n",
      "▇▇▇▇▇▇▇▇▇▇▇▇▇▇▇▇▇▇▇▇▇▇▇▇▇▇▇▇▇▇\n",
      "▇▇▇▇▇▇▇▇▇▇▇▇▇▇▇▇▇▇▇▇▇▇▇▇▇▇▇▇▇▇▇▇▇▇\n",
      "▇▇▇▇▇▇▇▇▇▇▇▇▇▇▇▇▇▇▇▇▇▇▇▇▇▇▇▇▇▇▇▇▇▇▇▇▇▇▇\n",
      "▇▇▇▇▇▇▇▇▇▇▇▇▇▇▇▇▇▇▇▇▇▇▇▇▇▇▇▇▇▇▇▇▇▇▇▇▇▇▇▇▇▇▇▇\n",
      "▇▇▇▇▇▇▇▇▇▇▇▇▇▇▇▇▇▇▇▇▇▇▇▇▇▇▇▇▇▇▇▇▇▇▇▇▇▇▇▇▇▇▇▇▇▇▇▇▇\n",
      "▇▇▇▇▇▇▇▇▇▇▇▇▇▇▇▇▇▇▇▇▇▇▇▇▇▇▇▇▇▇▇▇▇▇▇▇▇▇▇▇▇▇▇▇▇▇▇▇▇▇▇▇▇▇\n",
      "▇▇▇▇▇▇▇▇▇▇▇▇▇▇▇▇▇▇▇▇▇▇▇▇▇▇▇▇▇▇▇▇▇▇▇▇▇▇▇▇▇▇▇▇▇▇▇▇▇▇▇▇▇▇▇▇▇▇▇\n",
      "▇▇▇▇▇▇▇▇▇▇▇▇▇▇▇▇▇▇▇▇▇▇▇▇▇▇▇▇▇▇▇▇▇▇▇▇▇▇▇▇▇▇▇▇▇▇▇▇▇▇▇▇▇▇▇▇▇▇▇▇▇\n",
      "▇▇▇▇▇▇▇▇▇▇▇▇▇▇▇▇▇▇▇▇▇▇▇▇▇▇▇▇▇▇▇▇▇▇▇▇▇▇▇▇▇▇▇▇▇▇▇▇▇▇▇▇▇▇▇▇▇▇▇▇▇▇▇\n",
      "▇▇▇▇▇▇▇▇▇▇▇▇▇▇▇▇▇▇▇▇▇▇▇▇▇▇▇▇▇▇▇▇▇▇▇▇▇▇▇▇▇▇▇▇▇▇▇▇▇▇▇▇▇▇▇▇▇▇▇▇▇▇\n",
      "▇▇▇▇▇▇▇▇▇▇▇▇▇▇▇▇▇▇▇▇▇▇▇▇▇▇▇▇▇▇▇▇▇▇▇▇▇▇▇▇▇▇▇▇▇▇▇▇▇▇▇▇▇▇▇▇▇▇▇\n",
      "▇▇▇▇▇▇▇▇▇▇▇▇▇▇▇▇▇▇▇▇▇▇▇▇▇▇▇▇▇▇▇▇▇▇▇▇▇▇▇▇▇▇▇▇▇▇▇▇▇▇▇▇▇▇\n",
      "▇▇▇▇▇▇▇▇▇▇▇▇▇▇▇▇▇▇▇▇▇▇▇▇▇▇▇▇▇▇▇▇▇▇▇▇▇▇▇▇▇▇▇▇▇▇▇\n",
      "▇▇▇▇▇▇▇▇▇▇▇▇▇▇▇▇▇▇▇▇▇▇▇▇▇▇▇▇▇▇▇▇▇▇▇▇▇▇▇\n",
      "▇▇▇▇▇▇▇▇▇▇▇▇▇▇▇▇▇▇▇▇▇▇▇▇▇▇▇▇▇▇\n",
      "▇▇▇▇▇▇▇▇▇▇▇▇▇▇▇▇▇▇▇▇▇▇\n",
      "▇▇▇▇▇▇▇▇▇▇▇▇▇▇\n",
      "▇▇▇▇▇▇▇▇\n",
      "▇▇▇▇\n",
      "▇▇▇\n",
      "▇▇▇▇▇\n",
      "▇▇▇▇▇▇▇▇▇▇\n",
      "▇▇▇▇▇▇▇▇▇▇▇▇▇▇▇▇▇▇▇\n",
      "▇▇▇▇▇▇▇▇▇▇▇▇▇▇▇▇▇▇▇▇▇▇▇▇▇▇▇▇▇▇\n",
      "▇▇▇▇▇▇▇▇▇▇▇▇▇▇▇▇▇▇▇▇▇▇▇▇▇▇▇▇▇▇▇▇▇▇▇▇▇▇▇▇▇▇▇\n",
      "▇▇▇▇▇▇▇▇▇▇▇▇▇▇▇▇▇▇▇▇▇▇▇▇▇▇▇▇▇▇▇▇▇▇▇▇▇▇▇▇▇▇▇▇▇▇▇▇▇▇▇▇▇▇▇▇▇\n"
     ]
    }
   ],
   "source": [
    "# complex numbers are fun\n",
    "for x in range(40):\n",
    "    width = int(((1 + 0.3j) ** x).real * 9 + 40)\n",
    "    # who needs fancy chart libraries?\n",
    "    print(width * '▇')"
   ]
  },
  {
   "cell_type": "code",
   "execution_count": null,
   "metadata": {},
   "outputs": [],
   "source": [
    "# introspect the Python keywords\n",
    "from keyword import kwlist\n",
    "kwlist"
   ]
  },
  {
   "cell_type": "code",
   "execution_count": null,
   "metadata": {},
   "outputs": [],
   "source": [
    "# introspect the Python builtings\n",
    "dir(__builtins__)"
   ]
  },
  {
   "cell_type": "code",
   "execution_count": null,
   "metadata": {},
   "outputs": [],
   "source": [
    "# declare types for static type checking with mypy\n",
    "import typing\n",
    "\n",
    "the_world_is_flat: bool = False\n",
    "placeholder: typing.Optional[float] = None\n",
    "spam: int = 1\n",
    "word: str = 'Python'\n",
    "\n",
    "placeholder = 2  # int considered compatible with float\n",
    "placeholder = 'thing'  # mypy error: Incompatible types in assignment"
   ]
  },
  {
   "cell_type": "code",
   "execution_count": null,
   "metadata": {},
   "outputs": [],
   "source": [
    "# monitor and modify decimal math behaviour\n",
    "from decimal import getcontext\n",
    "\n",
    "ctx = getcontext()\n",
    "ctx.clear_flags()\n",
    "ctx"
   ]
  },
  {
   "cell_type": "code",
   "execution_count": null,
   "metadata": {},
   "outputs": [],
   "source": [
    "pi_ish = Decimal(3.14)\n",
    "pi_ish"
   ]
  },
  {
   "cell_type": "code",
   "execution_count": null,
   "metadata": {},
   "outputs": [],
   "source": [
    "ctx"
   ]
  },
  {
   "cell_type": "code",
   "execution_count": null,
   "metadata": {},
   "outputs": [],
   "source": [
    "pi_ish + 1"
   ]
  },
  {
   "cell_type": "code",
   "execution_count": null,
   "metadata": {},
   "outputs": [],
   "source": [
    "ctx"
   ]
  },
  {
   "cell_type": "code",
   "execution_count": null,
   "metadata": {},
   "outputs": [],
   "source": [
    "from decimal import ROUND_DOWN\n",
    "\n",
    "Decimal('50.009').quantize(Decimal('0.01'), rounding=ROUND_DOWN)"
   ]
  },
  {
   "cell_type": "code",
   "execution_count": null,
   "metadata": {},
   "outputs": [],
   "source": [
    "# pure Python list comprehension version of wavy \"chart\" above\n",
    "[int(((1 + 0.3j) ** x).real * 9 + 40) for x in range(40)]"
   ]
  },
  {
   "cell_type": "code",
   "execution_count": null,
   "metadata": {},
   "outputs": [],
   "source": [
    "# numpy array version of wavy \"chart\" above\n",
    "import numpy as np\n",
    "x = np.linspace(0 + 0j, 39 + 0j, 40)\n",
    "(((1 + 0.3j) ** x).real * 9 + 40).astype(int)"
   ]
  },
  {
   "cell_type": "code",
   "execution_count": null,
   "metadata": {},
   "outputs": [],
   "source": [
    "# pure Python implementation is faster for size 40\n",
    "%%timeit\n",
    "x = np.linspace(0 + 0j, 39 + 0j, 40)\n",
    "(((1 + 0.3j) ** x).real * 9 + 40).astype(int)"
   ]
  },
  {
   "cell_type": "code",
   "execution_count": null,
   "metadata": {},
   "outputs": [],
   "source": [
    "%%timeit\n",
    "[int(((1 + 0.3j) ** x).real * 9 + 40) for x in range(40)]"
   ]
  },
  {
   "cell_type": "code",
   "execution_count": null,
   "metadata": {},
   "outputs": [],
   "source": [
    "# numpy array implementation is faster for size 4000\n",
    "%%timeit\n",
    "x = np.linspace(0, 3999, 4000)\n",
    "(((1 + 0.3j) ** x).real * 9 + 40).astype(int)"
   ]
  },
  {
   "cell_type": "code",
   "execution_count": null,
   "metadata": {},
   "outputs": [],
   "source": [
    "%%timeit\n",
    "[int(((1 + 0.3j) ** x).real * 9 + 40) for x in range(4000)]"
   ]
  }
 ],
 "metadata": {
  "kernelspec": {
   "display_name": "Python 3",
   "language": "python",
   "name": "python3"
  },
  "language_info": {
   "codemirror_mode": {
    "name": "ipython",
    "version": 3
   },
   "file_extension": ".py",
   "mimetype": "text/x-python",
   "name": "python",
   "nbconvert_exporter": "python",
   "pygments_lexer": "ipython3",
   "version": "3.6.8"
  }
 },
 "nbformat": 4,
 "nbformat_minor": 2
}
