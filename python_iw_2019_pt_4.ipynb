{
 "cells": [
  {
   "cell_type": "markdown",
   "metadata": {},
   "source": [
    "## Decorators\n",
    "functions wrapping functions"
   ]
  },
  {
   "cell_type": "code",
   "execution_count": 2,
   "metadata": {},
   "outputs": [
    {
     "name": "stdout",
     "output_type": "stream",
     "text": [
      "w͖͔͉͐̓e̺͆͒̕͝'͙̜̮̓́r͇̘̺͈̈́ë̩̠͓́ͅ c̫͓̅̋͢ȍ̪̼̀͟m̼̙̘͓̀ḭ̠͚̑ͅn̨̞̹͆̏g̘̦͊͂̀ f̘́͌͐̕o͙̍͐̎́r͊̐͏͈͏ Y̨͍̜̎͛O̪̥̠̐̇Ṳ̙͎̔̅\n"
     ]
    }
   ],
   "source": [
    "from random import choices\n",
    "\n",
    "COMBINING = ('̀◌́◌̂◌̃◌̄◌̅◌̆◌̇◌̈◌̉◌̊◌̋◌̌◌̍◌̎◌̏◌̐◌̑◌̓◌̔◌̕◌̖◌̗◌̘◌̙◌̜◌̝◌̞◌̟◌̠◌̣◌̤◌̥◌̦◌̧◌̨◌̩◌̪◌̫◌̬◌̭◌̮◌̯◌̰◌̱◌̹◌̺◌̻◌'\n",
    "             '̼◌̽◌̾◌̀◌́◌͂◌̓◌̈́◌ͅ◌͆◌͇◌͈◌͉◌͊◌͋◌͌◌͍◌͎◌͏◌͐◌͑◌͒◌͓◌͔◌͕◌͖◌͗◌͙◌͚◌͛◌͜◌͝◌͞◌͟◌͠◌͢◌')[::2]\n",
    "\n",
    "def zalgo(text, k=5):\n",
    "    \"\"\"\n",
    "    return text with random combining characters interspersed.\n",
    "    Very spooky.\n",
    "    \"\"\"\n",
    "    z = []\n",
    "    for letter in text:\n",
    "        z.append(letter)\n",
    "        if letter != ' ':\n",
    "            z.extend(choices(COMBINING, k=k))\n",
    "        \n",
    "    return ''.join(z)\n",
    "\n",
    "print(zalgo(\"we're coming for YOU\"))"
   ]
  },
  {
   "cell_type": "code",
   "execution_count": 3,
   "metadata": {},
   "outputs": [
    {
     "name": "stdout",
     "output_type": "stream",
     "text": [
      " 5:21PM EDT on Sep 25, 2019\n"
     ]
    }
   ],
   "source": [
    "import time\n",
    "\n",
    "def wordy_time():\n",
    "    return time.strftime('%l:%M%p %Z on %b %d, %Y')\n",
    "\n",
    "print(wordy_time())"
   ]
  },
  {
   "cell_type": "code",
   "execution_count": 4,
   "metadata": {},
   "outputs": [
    {
     "data": {
      "text/plain": [
       "' 5̣̘́͒́:͓͊͞͝͏2͓͒̈̓͟1͍̣̆͗͞Ṕ͖̓̆̍M̤̦̤͒̌ È͔͚̞͆D̻͓̠͑͜T̠̬̰̽͑ ö̜̹͛͞n̻̤̹̥̏ S̘̽͂͛̌ē̗͎̽̌p͕̬̱͜͞ 2̦͇̰̼͜5̫͙͌̊̉,̨̠͈̞͢ 2̦̂̔̉̓0̘̃͐̎̃1̱͇͒̀͟9̰̙̣̑̀'"
      ]
     },
     "execution_count": 4,
     "metadata": {},
     "output_type": "execute_result"
    }
   ],
   "source": [
    "zalgo(wordy_time())"
   ]
  },
  {
   "cell_type": "code",
   "execution_count": 5,
   "metadata": {},
   "outputs": [],
   "source": [
    "def spooky_time():\n",
    "    return zalgo(wordy_time())"
   ]
  },
  {
   "cell_type": "code",
   "execution_count": 6,
   "metadata": {},
   "outputs": [
    {
     "data": {
      "text/plain": [
       "' 5̻̟͉͔̎:̮͉͛̈́͑2̹͙͈͛͛3͚̪̮̌͝P̯̩̏̆͌Ṁ̘̣͔͈ Ȅ͓̤͑͆D̙͆̅͜͠T̗͕́̐͏ ọ̙̯̬̞ñ͉̰̓͜ S̻̜̖̀̑ḙ͈̟̗͂p̹͈̄̀͞ 2͖͎̖̽͂5̹̈́͂̄͠,̘̊̓̑͆ 2̼̺̙̅̕0̦̘̭̆̽1̦͎̋̂͠9͍̞͛͌̎'"
      ]
     },
     "execution_count": 6,
     "metadata": {},
     "output_type": "execute_result"
    }
   ],
   "source": [
    "def zalgify(fn):\n",
    "    \"\"\"\n",
    "    return a function that calls fn then passes its\n",
    "    result through zalgo before returning\n",
    "    \"\"\"\n",
    "    def wrapper():\n",
    "        return zalgo(fn())\n",
    "    return wrapper\n",
    "\n",
    "wordy_time = zalgify(wordy_time)\n",
    "wordy_time()"
   ]
  },
  {
   "cell_type": "code",
   "execution_count": 7,
   "metadata": {},
   "outputs": [
    {
     "data": {
      "text/plain": [
       "'C̪̼̰̎̓ǫ̖͚̙̟m̼̗̅̊͟ę̱̼̮̇ i̤͙̊̕͠n̫̏̅̍͢ a̟͖͌̽̓n̹̫̘̓̀ḏ̌͋͌̃ s̤͈̫̀͝ţ̩̻̄͞ą̻͔́͝y̜̪͉̓͌ a͎͉͐͐ͅ ŵ̨͙̝̇h͈̆̍̐̕į̘͙͗̕l̻̝̅̉͊e͚͙͛̈͑'"
      ]
     },
     "execution_count": 7,
     "metadata": {},
     "output_type": "execute_result"
    }
   ],
   "source": [
    "@zalgify\n",
    "def greeting():\n",
    "    return \"Come in and stay a while\"\n",
    "\n",
    "greeting()"
   ]
  },
  {
   "cell_type": "code",
   "execution_count": 8,
   "metadata": {},
   "outputs": [
    {
     "data": {
      "text/plain": [
       "<function __main__.zalgify.<locals>.wrapper()>"
      ]
     },
     "execution_count": 8,
     "metadata": {},
     "output_type": "execute_result"
    }
   ],
   "source": [
    "greeting"
   ]
  },
  {
   "cell_type": "code",
   "execution_count": 21,
   "metadata": {},
   "outputs": [
    {
     "name": "stdout",
     "output_type": "stream",
     "text": [
      "Command? fetch\n",
      "fetching\n"
     ]
    }
   ],
   "source": [
    "commands = {}\n",
    "\n",
    "def command(fn):\n",
    "    \"register command function in commands dict by its name\"\n",
    "    commands[fn.__name__] = fn\n",
    "    return fn\n",
    "\n",
    "@command\n",
    "def sit():\n",
    "    print('sitting')\n",
    "\n",
    "@command\n",
    "def fetch():\n",
    "    print('fetching')\n",
    "\n",
    "    \n",
    "cmd = input('Command? ')\n",
    "commands[cmd]()"
   ]
  },
  {
   "cell_type": "code",
   "execution_count": 22,
   "metadata": {},
   "outputs": [
    {
     "name": "stdout",
     "output_type": "stream",
     "text": [
      "Command? sit\n",
      "sitting\n"
     ]
    }
   ],
   "source": [
    "commands[input('Command? ')]()"
   ]
  },
  {
   "cell_type": "markdown",
   "metadata": {},
   "source": [
    "Decorators in the [functools](https://docs.python.org/3/library/functools.html) module\n",
    "- dispatch based on type of first parameter https://docs.python.org/3/library/functools.html#functools.singledispatch\n",
    "- cache recent return values https://docs.python.org/3/library/functools.html#functools.lru_cache"
   ]
  },
  {
   "cell_type": "markdown",
   "metadata": {},
   "source": [
    "###  Review\n",
    "- what paramaters do decorator functions take?\n",
    "- what values do they return?"
   ]
  },
  {
   "cell_type": "markdown",
   "metadata": {},
   "source": [
    "## Iterables, Iterators\n",
    "- Iterables can produce iterators with `iter(myobj)`\n",
    "- Iterators usually store a \"position\" and produce objects from a container one at a time with `next(myiter)`, and raise `StopIteration` when exhausted\n",
    "- Iterators are iterable, usually they just return themselves from `iter(myiter)`\n",
    "\n",
    "![Iterables -iter-> Iterator -next-> object/StopIteration](iterator.svg)"
   ]
  },
  {
   "cell_type": "code",
   "execution_count": 1,
   "metadata": {},
   "outputs": [
    {
     "data": {
      "text/plain": [
       "('s', 'u', 'p', 'e', 'r')"
      ]
     },
     "execution_count": 1,
     "metadata": {},
     "output_type": "execute_result"
    }
   ],
   "source": [
    "s = 'super'\n",
    "i1 = iter(s)\n",
    "\n",
    "next(i1), next(i1), next(i1), next(i1), next(i1)"
   ]
  },
  {
   "cell_type": "code",
   "execution_count": 2,
   "metadata": {},
   "outputs": [
    {
     "ename": "StopIteration",
     "evalue": "",
     "output_type": "error",
     "traceback": [
      "\u001b[0;31m---------------------------------------------------------------------------\u001b[0m",
      "\u001b[0;31mStopIteration\u001b[0m                             Traceback (most recent call last)",
      "\u001b[0;32m<ipython-input-2-cc9ef6da1ea7>\u001b[0m in \u001b[0;36m<module>\u001b[0;34m\u001b[0m\n\u001b[0;32m----> 1\u001b[0;31m \u001b[0mnext\u001b[0m\u001b[0;34m(\u001b[0m\u001b[0mi1\u001b[0m\u001b[0;34m)\u001b[0m\u001b[0;34m\u001b[0m\u001b[0;34m\u001b[0m\u001b[0m\n\u001b[0m",
      "\u001b[0;31mStopIteration\u001b[0m: "
     ]
    }
   ],
   "source": [
    "next(i1)"
   ]
  },
  {
   "cell_type": "code",
   "execution_count": 3,
   "metadata": {},
   "outputs": [
    {
     "data": {
      "text/plain": [
       "('r', 'e')"
      ]
     },
     "execution_count": 3,
     "metadata": {},
     "output_type": "execute_result"
    }
   ],
   "source": [
    "i2 = reversed(s)\n",
    "\n",
    "next(i2), next(i2)"
   ]
  },
  {
   "cell_type": "code",
   "execution_count": 4,
   "metadata": {},
   "outputs": [
    {
     "data": {
      "text/plain": [
       "'p-u-s'"
      ]
     },
     "execution_count": 4,
     "metadata": {},
     "output_type": "execute_result"
    }
   ],
   "source": [
    "'-'.join(i2)"
   ]
  },
  {
   "cell_type": "code",
   "execution_count": 5,
   "metadata": {},
   "outputs": [
    {
     "data": {
      "text/plain": [
       "''"
      ]
     },
     "execution_count": 5,
     "metadata": {},
     "output_type": "execute_result"
    }
   ],
   "source": [
    "'-'.join(i2)"
   ]
  },
  {
   "cell_type": "code",
   "execution_count": 6,
   "metadata": {},
   "outputs": [
    {
     "data": {
      "text/plain": [
       "<str_iterator at 0x7fec5837eb70>"
      ]
     },
     "execution_count": 6,
     "metadata": {},
     "output_type": "execute_result"
    }
   ],
   "source": [
    "i1"
   ]
  },
  {
   "cell_type": "code",
   "execution_count": 7,
   "metadata": {},
   "outputs": [
    {
     "data": {
      "text/plain": [
       "<reversed at 0x7fec5832b438>"
      ]
     },
     "execution_count": 7,
     "metadata": {},
     "output_type": "execute_result"
    }
   ],
   "source": [
    "i2"
   ]
  },
  {
   "cell_type": "code",
   "execution_count": 8,
   "metadata": {},
   "outputs": [
    {
     "data": {
      "text/plain": [
       "<list_iterator at 0x7fec5832b978>"
      ]
     },
     "execution_count": 8,
     "metadata": {},
     "output_type": "execute_result"
    }
   ],
   "source": [
    "numbers = [9, 18, 27]\n",
    "i3 = iter(numbers)\n",
    "i3"
   ]
  },
  {
   "cell_type": "code",
   "execution_count": 24,
   "metadata": {},
   "outputs": [
    {
     "data": {
      "text/plain": [
       "9"
      ]
     },
     "execution_count": 24,
     "metadata": {},
     "output_type": "execute_result"
    }
   ],
   "source": [
    "# advance iterator once\n",
    "next(i3)"
   ]
  },
  {
   "cell_type": "code",
   "execution_count": 112,
   "metadata": {},
   "outputs": [
    {
     "data": {
      "text/plain": [
       "[53, 42, 9, 18, 27]"
      ]
     },
     "execution_count": 112,
     "metadata": {},
     "output_type": "execute_result"
    }
   ],
   "source": [
    "numbers.insert(0, 42)\n",
    "numbers.insert(0, 53)\n",
    "numbers"
   ]
  },
  {
   "cell_type": "code",
   "execution_count": 113,
   "metadata": {},
   "outputs": [
    {
     "data": {
      "text/plain": [
       "42"
      ]
     },
     "execution_count": 113,
     "metadata": {},
     "output_type": "execute_result"
    }
   ],
   "source": [
    "next(i3)"
   ]
  },
  {
   "cell_type": "code",
   "execution_count": 114,
   "metadata": {},
   "outputs": [
    {
     "data": {
      "text/plain": [
       "9"
      ]
     },
     "execution_count": 114,
     "metadata": {},
     "output_type": "execute_result"
    }
   ],
   "source": [
    "next(i3)"
   ]
  },
  {
   "cell_type": "code",
   "execution_count": 12,
   "metadata": {},
   "outputs": [
    {
     "data": {
      "text/plain": [
       "<dict_keyiterator at 0x7fec5831a0e8>"
      ]
     },
     "execution_count": 12,
     "metadata": {},
     "output_type": "execute_result"
    }
   ],
   "source": [
    "d = {'a': 'apple'}\n",
    "iter(d)"
   ]
  },
  {
   "cell_type": "code",
   "execution_count": 13,
   "metadata": {},
   "outputs": [
    {
     "name": "stdout",
     "output_type": "stream",
     "text": [
      "a\n"
     ]
    },
    {
     "ename": "RuntimeError",
     "evalue": "dictionary changed size during iteration",
     "output_type": "error",
     "traceback": [
      "\u001b[0;31m---------------------------------------------------------------------------\u001b[0m",
      "\u001b[0;31mRuntimeError\u001b[0m                              Traceback (most recent call last)",
      "\u001b[0;32m<ipython-input-13-31a305a4b44d>\u001b[0m in \u001b[0;36m<module>\u001b[0;34m\u001b[0m\n\u001b[0;32m----> 1\u001b[0;31m \u001b[0;32mfor\u001b[0m \u001b[0mk\u001b[0m \u001b[0;32min\u001b[0m \u001b[0md\u001b[0m\u001b[0;34m:\u001b[0m\u001b[0;34m\u001b[0m\u001b[0;34m\u001b[0m\u001b[0m\n\u001b[0m\u001b[1;32m      2\u001b[0m     \u001b[0md\u001b[0m\u001b[0;34m[\u001b[0m\u001b[0;34m'b'\u001b[0m\u001b[0;34m]\u001b[0m \u001b[0;34m=\u001b[0m \u001b[0;34m'boy'\u001b[0m\u001b[0;34m\u001b[0m\u001b[0;34m\u001b[0m\u001b[0m\n\u001b[1;32m      3\u001b[0m     \u001b[0mprint\u001b[0m\u001b[0;34m(\u001b[0m\u001b[0mk\u001b[0m\u001b[0;34m)\u001b[0m\u001b[0;34m\u001b[0m\u001b[0;34m\u001b[0m\u001b[0m\n",
      "\u001b[0;31mRuntimeError\u001b[0m: dictionary changed size during iteration"
     ]
    }
   ],
   "source": [
    "for k in d:\n",
    "    d['b'] = 'boy'\n",
    "    print(k)"
   ]
  },
  {
   "cell_type": "markdown",
   "metadata": {},
   "source": [
    "### Review\n",
    "- what builtin functions are used to create an iterator from an iterable?\n",
    "- how does an iterator indicate that there are no more items?"
   ]
  },
  {
   "cell_type": "markdown",
   "metadata": {},
   "source": [
    "## Generators\n",
    "- Custom iterators with function-like syntax\n",
    "- Support `next(x)` and raise `StopIteration` like other iterators"
   ]
  },
  {
   "cell_type": "code",
   "execution_count": 158,
   "metadata": {},
   "outputs": [
    {
     "name": "stdout",
     "output_type": "stream",
     "text": [
      "entering\n"
     ]
    },
    {
     "data": {
      "text/plain": [
       "1"
      ]
     },
     "execution_count": 158,
     "metadata": {},
     "output_type": "execute_result"
    }
   ],
   "source": [
    "def noisy():\n",
    "    print('entering')\n",
    "    try:\n",
    "        yield 1\n",
    "        print('after 1')\n",
    "        yield 2\n",
    "        print('after 2')\n",
    "        yield 3\n",
    "        print('after 3')\n",
    "    finally:\n",
    "        print('exiting')\n",
    "\n",
    "n = noisy()\n",
    "next(n)"
   ]
  },
  {
   "cell_type": "code",
   "execution_count": 159,
   "metadata": {},
   "outputs": [
    {
     "name": "stdout",
     "output_type": "stream",
     "text": [
      "after 1\n"
     ]
    },
    {
     "data": {
      "text/plain": [
       "2"
      ]
     },
     "execution_count": 159,
     "metadata": {},
     "output_type": "execute_result"
    }
   ],
   "source": [
    "next(n)"
   ]
  },
  {
   "cell_type": "code",
   "execution_count": 160,
   "metadata": {},
   "outputs": [
    {
     "name": "stdout",
     "output_type": "stream",
     "text": [
      "after 2\n"
     ]
    },
    {
     "data": {
      "text/plain": [
       "3"
      ]
     },
     "execution_count": 160,
     "metadata": {},
     "output_type": "execute_result"
    }
   ],
   "source": [
    "next(n)"
   ]
  },
  {
   "cell_type": "code",
   "execution_count": 161,
   "metadata": {},
   "outputs": [
    {
     "name": "stdout",
     "output_type": "stream",
     "text": [
      "exiting\n"
     ]
    }
   ],
   "source": [
    "del n"
   ]
  },
  {
   "cell_type": "code",
   "execution_count": 150,
   "metadata": {},
   "outputs": [
    {
     "name": "stdout",
     "output_type": "stream",
     "text": [
      "['azimuth', 'azure']\n",
      "['babble', 'baby', 'byte']\n",
      "['cab']\n"
     ]
    }
   ],
   "source": [
    "def prefix_batch(seq_seq):\n",
    "    '''\n",
    "    Group sequences with the same first element\n",
    "    '''\n",
    "    batch = []\n",
    "    for s in seq_seq:\n",
    "        if not batch or batch[0].startswith(s[0]):\n",
    "            batch.append(s)\n",
    "        else:\n",
    "            yield batch\n",
    "            batch = [s]\n",
    "    if batch:\n",
    "        yield batch\n",
    "\n",
    "for seq in prefix_batch('azimuth azure babble baby byte cab'.split()):\n",
    "    print(seq)\n",
    "    "
   ]
  },
  {
   "cell_type": "markdown",
   "metadata": {},
   "source": [
    "See also https://docs.python.org/3/library/itertools.html"
   ]
  },
  {
   "cell_type": "markdown",
   "metadata": {},
   "source": [
    "### Review\n",
    "- what keyword indicates that a function is a generator?\n",
    "- what code is executed between creating a generator and calling `next()`?"
   ]
  },
  {
   "cell_type": "markdown",
   "metadata": {},
   "source": [
    "### Exercise: generation, iteration, decoration\n",
    "1. create a generator that produces the sequence:  \n",
    "   `1, 2, 1, 2, 2, 1, 2, 2, 2, ⋯`\n",
    "2. write code that will skip the first element of the generator above then print the next 5 elements\n",
    "3. create a decorator that will print all arguments passed to a function and its return value"
   ]
  },
  {
   "cell_type": "markdown",
   "metadata": {},
   "source": [
    "## Classes\n",
    "- Custom types\n",
    "- Extend the language"
   ]
  },
  {
   "cell_type": "code",
   "execution_count": 9,
   "metadata": {},
   "outputs": [
    {
     "data": {
      "text/plain": [
       "__main__.MyClass"
      ]
     },
     "execution_count": 9,
     "metadata": {},
     "output_type": "execute_result"
    }
   ],
   "source": [
    "class MyClass:\n",
    "    \"\"\"A simple example class\"\"\"\n",
    "    i = 12345\n",
    "\n",
    "    def f(self):\n",
    "        \"\"\"a greeting\"\"\"\n",
    "        return 'hello world'\n",
    "\n",
    "MyClass"
   ]
  },
  {
   "cell_type": "code",
   "execution_count": 11,
   "metadata": {},
   "outputs": [
    {
     "data": {
      "text/plain": [
       "12345"
      ]
     },
     "execution_count": 11,
     "metadata": {},
     "output_type": "execute_result"
    }
   ],
   "source": [
    "MyClass.i"
   ]
  },
  {
   "cell_type": "code",
   "execution_count": 12,
   "metadata": {},
   "outputs": [
    {
     "data": {
      "text/plain": [
       "<function __main__.MyClass.f(self)>"
      ]
     },
     "execution_count": 12,
     "metadata": {},
     "output_type": "execute_result"
    }
   ],
   "source": [
    "MyClass.f"
   ]
  },
  {
   "cell_type": "code",
   "execution_count": 13,
   "metadata": {},
   "outputs": [
    {
     "data": {
      "text/plain": [
       "12345"
      ]
     },
     "execution_count": 13,
     "metadata": {},
     "output_type": "execute_result"
    }
   ],
   "source": [
    "obj = MyClass()\n",
    "obj.i"
   ]
  },
  {
   "cell_type": "code",
   "execution_count": 14,
   "metadata": {},
   "outputs": [
    {
     "data": {
      "text/plain": [
       "<bound method MyClass.f of <__main__.MyClass object at 0x7fa8a8333160>>"
      ]
     },
     "execution_count": 14,
     "metadata": {},
     "output_type": "execute_result"
    }
   ],
   "source": [
    "obj.f"
   ]
  },
  {
   "cell_type": "code",
   "execution_count": 16,
   "metadata": {},
   "outputs": [
    {
     "data": {
      "text/plain": [
       "'hello world'"
      ]
     },
     "execution_count": 16,
     "metadata": {},
     "output_type": "execute_result"
    }
   ],
   "source": [
    "obj.f()"
   ]
  },
  {
   "cell_type": "code",
   "execution_count": 214,
   "metadata": {},
   "outputs": [
    {
     "ename": "TypeError",
     "evalue": "f() missing 1 required positional argument: 'self'",
     "output_type": "error",
     "traceback": [
      "\u001b[0;31m---------------------------------------------------------------------------\u001b[0m",
      "\u001b[0;31mTypeError\u001b[0m                                 Traceback (most recent call last)",
      "\u001b[0;32m<ipython-input-214-dd9fb80f1363>\u001b[0m in \u001b[0;36m<module>\u001b[0;34m\u001b[0m\n\u001b[0;32m----> 1\u001b[0;31m \u001b[0mMyClass\u001b[0m\u001b[0;34m.\u001b[0m\u001b[0mf\u001b[0m\u001b[0;34m(\u001b[0m\u001b[0;34m)\u001b[0m\u001b[0;34m\u001b[0m\u001b[0;34m\u001b[0m\u001b[0m\n\u001b[0m",
      "\u001b[0;31mTypeError\u001b[0m: f() missing 1 required positional argument: 'self'"
     ]
    }
   ],
   "source": [
    "MyClass.f()"
   ]
  },
  {
   "cell_type": "code",
   "execution_count": 17,
   "metadata": {},
   "outputs": [
    {
     "data": {
      "text/plain": [
       "['roll over']"
      ]
     },
     "execution_count": 17,
     "metadata": {},
     "output_type": "execute_result"
    }
   ],
   "source": [
    "class Dog:\n",
    "    \"\"\"Who's a good boy?  You're a good boy!\"\"\"\n",
    "    \n",
    "    kind = 'canine'\n",
    "    \n",
    "    def __init__(self, name):\n",
    "        self.name = name\n",
    "        self.tricks = []\n",
    "\n",
    "    def add_trick(self, trick):\n",
    "        self.tricks.append(trick)\n",
    "        \n",
    "d = Dog('Fido')\n",
    "d.add_trick('roll over')\n",
    "d.tricks"
   ]
  },
  {
   "cell_type": "code",
   "execution_count": 270,
   "metadata": {},
   "outputs": [
    {
     "data": {
      "text/plain": [
       "'Fido'"
      ]
     },
     "execution_count": 270,
     "metadata": {},
     "output_type": "execute_result"
    }
   ],
   "source": [
    "d.name"
   ]
  },
  {
   "cell_type": "code",
   "execution_count": 271,
   "metadata": {},
   "outputs": [
    {
     "data": {
      "text/plain": [
       "['roll over']"
      ]
     },
     "execution_count": 271,
     "metadata": {},
     "output_type": "execute_result"
    }
   ],
   "source": [
    "d.tricks"
   ]
  },
  {
   "cell_type": "code",
   "execution_count": 18,
   "metadata": {},
   "outputs": [
    {
     "data": {
      "text/plain": [
       "'Buddy'"
      ]
     },
     "execution_count": 18,
     "metadata": {},
     "output_type": "execute_result"
    }
   ],
   "source": [
    "e = Dog('Buddy')\n",
    "e.add_trick('play dead')\n",
    "e.name"
   ]
  },
  {
   "cell_type": "code",
   "execution_count": 19,
   "metadata": {},
   "outputs": [
    {
     "data": {
      "text/plain": [
       "['play dead']"
      ]
     },
     "execution_count": 19,
     "metadata": {},
     "output_type": "execute_result"
    }
   ],
   "source": [
    "e.tricks"
   ]
  },
  {
   "cell_type": "code",
   "execution_count": 20,
   "metadata": {},
   "outputs": [
    {
     "ename": "AttributeError",
     "evalue": "type object 'Dog' has no attribute 'name'",
     "output_type": "error",
     "traceback": [
      "\u001b[0;31m---------------------------------------------------------------------------\u001b[0m",
      "\u001b[0;31mAttributeError\u001b[0m                            Traceback (most recent call last)",
      "\u001b[0;32m<ipython-input-20-629675d46941>\u001b[0m in \u001b[0;36m<module>\u001b[0;34m\u001b[0m\n\u001b[0;32m----> 1\u001b[0;31m \u001b[0mDog\u001b[0m\u001b[0;34m.\u001b[0m\u001b[0mname\u001b[0m\u001b[0;34m\u001b[0m\u001b[0;34m\u001b[0m\u001b[0m\n\u001b[0m",
      "\u001b[0;31mAttributeError\u001b[0m: type object 'Dog' has no attribute 'name'"
     ]
    }
   ],
   "source": [
    "Dog.name"
   ]
  },
  {
   "cell_type": "code",
   "execution_count": 278,
   "metadata": {},
   "outputs": [
    {
     "data": {
      "text/plain": [
       "True"
      ]
     },
     "execution_count": 278,
     "metadata": {},
     "output_type": "execute_result"
    }
   ],
   "source": [
    "isinstance(d, Dog)"
   ]
  },
  {
   "cell_type": "code",
   "execution_count": 279,
   "metadata": {},
   "outputs": [
    {
     "data": {
      "text/plain": [
       "True"
      ]
     },
     "execution_count": 279,
     "metadata": {},
     "output_type": "execute_result"
    }
   ],
   "source": [
    "isinstance(1.0, float)"
   ]
  },
  {
   "cell_type": "code",
   "execution_count": 280,
   "metadata": {},
   "outputs": [
    {
     "data": {
      "text/plain": [
       "False"
      ]
     },
     "execution_count": 280,
     "metadata": {},
     "output_type": "execute_result"
    }
   ],
   "source": [
    "isinstance(1, float)"
   ]
  },
  {
   "cell_type": "markdown",
   "metadata": {},
   "source": [
    "### Review\n",
    "- what do you name the first parameter of methods?\n",
    "- what special method name is used for automatically setting up an instance?\n",
    "- how can class variables be accessed?\n",
    "- are can instance variables be accessed?"
   ]
  },
  {
   "cell_type": "markdown",
   "metadata": {},
   "source": [
    "## Special Methods and Attributes"
   ]
  },
  {
   "cell_type": "code",
   "execution_count": 282,
   "metadata": {},
   "outputs": [
    {
     "data": {
      "text/plain": [
       "__main__.Dog"
      ]
     },
     "execution_count": 282,
     "metadata": {},
     "output_type": "execute_result"
    }
   ],
   "source": [
    "d.__class__"
   ]
  },
  {
   "cell_type": "code",
   "execution_count": 283,
   "metadata": {},
   "outputs": [
    {
     "data": {
      "text/plain": [
       "\"Who's a good boy?  You're a good boy!\""
      ]
     },
     "execution_count": 283,
     "metadata": {},
     "output_type": "execute_result"
    }
   ],
   "source": [
    "d.__doc__"
   ]
  },
  {
   "cell_type": "code",
   "execution_count": 284,
   "metadata": {},
   "outputs": [
    {
     "data": {
      "text/plain": [
       "{'name': 'Fido', 'tricks': ['roll over']}"
      ]
     },
     "execution_count": 284,
     "metadata": {},
     "output_type": "execute_result"
    }
   ],
   "source": [
    "d.__dict__"
   ]
  },
  {
   "cell_type": "code",
   "execution_count": 285,
   "metadata": {},
   "outputs": [
    {
     "ename": "TypeError",
     "evalue": "'>=' not supported between instances of 'Dog' and 'Dog'",
     "output_type": "error",
     "traceback": [
      "\u001b[0;31m---------------------------------------------------------------------------\u001b[0m",
      "\u001b[0;31mTypeError\u001b[0m                                 Traceback (most recent call last)",
      "\u001b[0;32m<ipython-input-285-1fa99a70c1d9>\u001b[0m in \u001b[0;36m<module>\u001b[0;34m\u001b[0m\n\u001b[0;32m----> 1\u001b[0;31m \u001b[0md\u001b[0m \u001b[0;34m>=\u001b[0m \u001b[0me\u001b[0m\u001b[0;34m\u001b[0m\u001b[0;34m\u001b[0m\u001b[0m\n\u001b[0m",
      "\u001b[0;31mTypeError\u001b[0m: '>=' not supported between instances of 'Dog' and 'Dog'"
     ]
    }
   ],
   "source": [
    "d >= e"
   ]
  },
  {
   "cell_type": "code",
   "execution_count": 6,
   "metadata": {},
   "outputs": [
    {
     "data": {
      "text/plain": [
       "<__main__.Dog at 0x7f1dcc5c1b38>"
      ]
     },
     "execution_count": 6,
     "metadata": {},
     "output_type": "execute_result"
    }
   ],
   "source": [
    "d"
   ]
  },
  {
   "cell_type": "code",
   "execution_count": 21,
   "metadata": {},
   "outputs": [],
   "source": [
    "class Dog:\n",
    "    \"\"\"Who's a good boy?  You're a good boy!\"\"\"\n",
    "    \n",
    "    kind = 'canine'\n",
    "    \n",
    "    def __init__(self, name):\n",
    "        self.name = name\n",
    "        self.tricks = []\n",
    "\n",
    "    def add_trick(self, trick):\n",
    "        self.tricks.append(trick)\n",
    "        \n",
    "    def __ge__(self, other):\n",
    "        if isinstance(other, Dog):\n",
    "            return len(self.tricks) >= len(other.tricks)\n",
    "        return super().__ge__(other)\n",
    "    \n",
    "    def __repr__(self):\n",
    "        return '<' + self.name + '>'\n",
    "    \n",
    "    def __str__(self):\n",
    "        return self.name\n",
    "\n",
    "    def __format__(self, fmt):\n",
    "        if fmt == 'cute':\n",
    "            return '(´ᴥ`)' + self.name + '(´ᴥ`)'\n",
    "        return super().__format__(fmt)\n",
    "\n",
    "d = Dog('Fido')\n",
    "d.add_trick('roll over')\n",
    "e = Dog('Buddy')\n",
    "e.add_trick('play dead')    "
   ]
  },
  {
   "cell_type": "code",
   "execution_count": 22,
   "metadata": {},
   "outputs": [
    {
     "data": {
      "text/plain": [
       "True"
      ]
     },
     "execution_count": 22,
     "metadata": {},
     "output_type": "execute_result"
    }
   ],
   "source": [
    "d >= e"
   ]
  },
  {
   "cell_type": "code",
   "execution_count": 23,
   "metadata": {},
   "outputs": [
    {
     "data": {
      "text/plain": [
       "True"
      ]
     },
     "execution_count": 23,
     "metadata": {},
     "output_type": "execute_result"
    }
   ],
   "source": [
    "d <= e"
   ]
  },
  {
   "cell_type": "markdown",
   "metadata": {},
   "source": [
    "See also class decorator [functools.total_ordering](https://docs.python.org/3.8/library/functools.html#functools.total_ordering) for implementing all comparison operators"
   ]
  },
  {
   "cell_type": "code",
   "execution_count": 25,
   "metadata": {},
   "outputs": [
    {
     "data": {
      "text/plain": [
       "<Fido>"
      ]
     },
     "execution_count": 25,
     "metadata": {},
     "output_type": "execute_result"
    }
   ],
   "source": [
    "d"
   ]
  },
  {
   "cell_type": "code",
   "execution_count": 16,
   "metadata": {},
   "outputs": [
    {
     "data": {
      "text/plain": [
       "'my dog Fido'"
      ]
     },
     "execution_count": 16,
     "metadata": {},
     "output_type": "execute_result"
    }
   ],
   "source": [
    "f'my dog {d}'"
   ]
  },
  {
   "cell_type": "code",
   "execution_count": 17,
   "metadata": {},
   "outputs": [
    {
     "data": {
      "text/plain": [
       "'my dog (´ᴥ`)Fido(´ᴥ`)'"
      ]
     },
     "execution_count": 17,
     "metadata": {},
     "output_type": "execute_result"
    }
   ],
   "source": [
    "f'my dog {d:cute}'"
   ]
  },
  {
   "cell_type": "markdown",
   "metadata": {},
   "source": [
    "See all the special method names: https://docs.python.org/3/reference/datamodel.html#special-method-names"
   ]
  },
  {
   "cell_type": "markdown",
   "metadata": {},
   "source": [
    "### ⏱⏱⏱ Performance matters: Classes\n",
    "\n",
    "- class instances use more memory than dicts by default but\n",
    "   `__slots__` will limit object attributes to have size and\n",
    "  performance like `namedtuple`. See https://docs.python.org/3/reference/datamodel.html#slots"
   ]
  },
  {
   "cell_type": "markdown",
   "metadata": {},
   "source": [
    "### Review\n",
    "- what special method name is used for customizing `str(myobject)`?\n",
    "- what special method name is used for customizing `repr(myobject)`?"
   ]
  },
  {
   "cell_type": "markdown",
   "metadata": {},
   "source": [
    "## Properties"
   ]
  },
  {
   "cell_type": "code",
   "execution_count": 26,
   "metadata": {},
   "outputs": [
    {
     "data": {
      "text/plain": [
       "8000"
      ]
     },
     "execution_count": 26,
     "metadata": {},
     "output_type": "execute_result"
    }
   ],
   "source": [
    "class Calculator:\n",
    "    \"\"\"\n",
    "    Class with properties for calculating a + b, a ** b, a - b \n",
    "    \"\"\"\n",
    "    def __init__(self, a, b):\n",
    "        self.a = a\n",
    "        self.b = b\n",
    "    \n",
    "    @property\n",
    "    def total(self):\n",
    "        return self.a + self.b\n",
    "    \n",
    "    @property\n",
    "    def exp(self):\n",
    "        return self.a ** self.b\n",
    "    \n",
    "    @property\n",
    "    def sub(self):\n",
    "        return self.a - self.b\n",
    "\n",
    "c = Calculator(20, 3)\n",
    "c.exp"
   ]
  },
  {
   "cell_type": "code",
   "execution_count": 29,
   "metadata": {},
   "outputs": [],
   "source": [
    "c.a =50"
   ]
  },
  {
   "cell_type": "code",
   "execution_count": 30,
   "metadata": {},
   "outputs": [
    {
     "data": {
      "text/plain": [
       "47"
      ]
     },
     "execution_count": 30,
     "metadata": {},
     "output_type": "execute_result"
    }
   ],
   "source": [
    "c.sub"
   ]
  },
  {
   "cell_type": "code",
   "execution_count": 31,
   "metadata": {},
   "outputs": [
    {
     "ename": "AttributeError",
     "evalue": "can't set attribute",
     "output_type": "error",
     "traceback": [
      "\u001b[0;31m---------------------------------------------------------------------------\u001b[0m",
      "\u001b[0;31mAttributeError\u001b[0m                            Traceback (most recent call last)",
      "\u001b[0;32m<ipython-input-31-109adb6893df>\u001b[0m in \u001b[0;36m<module>\u001b[0;34m\u001b[0m\n\u001b[0;32m----> 1\u001b[0;31m \u001b[0mc\u001b[0m\u001b[0;34m.\u001b[0m\u001b[0msub\u001b[0m \u001b[0;34m=\u001b[0m \u001b[0;36m15\u001b[0m\u001b[0;34m\u001b[0m\u001b[0;34m\u001b[0m\u001b[0m\n\u001b[0m",
      "\u001b[0;31mAttributeError\u001b[0m: can't set attribute"
     ]
    }
   ],
   "source": [
    "c.sub = 15"
   ]
  },
  {
   "cell_type": "markdown",
   "metadata": {},
   "source": [
    "### 🏠🏠🏠 Idiomatic Python: Properties\n",
    "\n",
    "- should execute as quickly and have no side effects because\n",
    "  to the user they look like simple attribute accesses\n",
    "- often used to provide backwards compatibility when a class\n",
    "  interface changes"
   ]
  },
  {
   "cell_type": "code",
   "execution_count": 32,
   "metadata": {},
   "outputs": [
    {
     "data": {
      "text/plain": [
       "'tails'"
      ]
     },
     "execution_count": 32,
     "metadata": {},
     "output_type": "execute_result"
    }
   ],
   "source": [
    "class Coin:\n",
    "    \"\"\"\n",
    "    A coin with top and bottom attributes. When coin is in the\n",
    "    air coin.top and coin.bottom will raise AttributeError\n",
    "    \"\"\"\n",
    "    @property\n",
    "    def bottom(self):\n",
    "        return 'tails' if self.top == 'heads' else 'heads'\n",
    "    \n",
    "    @bottom.setter\n",
    "    def bottom(self, side):\n",
    "        self.top = 'tails' if side == 'heads' else 'heads'\n",
    "    \n",
    "    @bottom.deleter\n",
    "    def bottom(self):\n",
    "        del self.top\n",
    "\n",
    "c = Coin()\n",
    "c.top = 'heads'\n",
    "c.bottom"
   ]
  },
  {
   "cell_type": "code",
   "execution_count": 33,
   "metadata": {},
   "outputs": [
    {
     "ename": "AttributeError",
     "evalue": "'Coin' object has no attribute 'top'",
     "output_type": "error",
     "traceback": [
      "\u001b[0;31m---------------------------------------------------------------------------\u001b[0m",
      "\u001b[0;31mAttributeError\u001b[0m                            Traceback (most recent call last)",
      "\u001b[0;32m<ipython-input-33-4323ee030167>\u001b[0m in \u001b[0;36m<module>\u001b[0;34m\u001b[0m\n\u001b[1;32m      1\u001b[0m \u001b[0;32mdel\u001b[0m \u001b[0mc\u001b[0m\u001b[0;34m.\u001b[0m\u001b[0mbottom\u001b[0m\u001b[0;34m\u001b[0m\u001b[0;34m\u001b[0m\u001b[0m\n\u001b[0;32m----> 2\u001b[0;31m \u001b[0mc\u001b[0m\u001b[0;34m.\u001b[0m\u001b[0mtop\u001b[0m\u001b[0;34m\u001b[0m\u001b[0;34m\u001b[0m\u001b[0m\n\u001b[0m",
      "\u001b[0;31mAttributeError\u001b[0m: 'Coin' object has no attribute 'top'"
     ]
    }
   ],
   "source": [
    "del c.bottom\n",
    "c.top"
   ]
  },
  {
   "cell_type": "code",
   "execution_count": 34,
   "metadata": {},
   "outputs": [
    {
     "data": {
      "text/plain": [
       "'tails'"
      ]
     },
     "execution_count": 34,
     "metadata": {},
     "output_type": "execute_result"
    }
   ],
   "source": [
    "c.bottom = 'heads'\n",
    "c.top"
   ]
  },
  {
   "cell_type": "markdown",
   "metadata": {},
   "source": [
    "### Exercise: course registration\n",
    "1. create a `Student` class that records a student's name and student number\n",
    "\n",
    "```python\n",
    "s = Student('Name Here', 98765)\n",
    "```\n",
    "\n",
    "2. create a `Course` class and `Course.add_student` method for adding students\n",
    "\n",
    "```python\n",
    "mycourse = Course()\n",
    "mycourse.add_student(s)\n",
    "```\n",
    "\n",
    "3. create a `Course.student_numbers` method that returns a list of student numbers registered to the course\n",
    "4. convert `Course.student_numbers` into a generator\n",
    "5. make `Course.student_numbers` raise a RuntimeError when students are added while iterating, i.e. this code should trigger a RuntimeError:\n",
    "\n",
    "```python\n",
    "for snum in mycourse.student_numbers():\n",
    "    mycourse.add_student(Student('Stu Dent', 12345))\n",
    "```"
   ]
  },
  {
   "cell_type": "markdown",
   "metadata": {},
   "source": [
    "## Extra Material"
   ]
  },
  {
   "cell_type": "code",
   "execution_count": 18,
   "metadata": {},
   "outputs": [
    {
     "data": {
      "text/plain": [
       "'w̙͔̜͒͞h͏̪̙̃͒ả̜͖̠͉t̽̀͢͜͠ ̣̦̽͐̔ạ̻̯̃͢ṛ̪̅͏̨ë͔́́͗͏ ̥̫̻͋ͅỳ̜̉̍͝o̜̺̤̊̇ǘ͈̜̆͆ ̥̘͂̑͜w̰̰̍͊͌o̧̮̼͊̕r̦̅̍̈͞ŕ͙̻͚̀i̞̓̀̉ͅẻ̘͓̋͏d̹̝͆́͊ ͔̀̕͏̑a̫̽̾̏ͅb͉́͒̏͟ô̗̣̊͞ù̘̯͎̎t̺̭̫̙́ ̧̙͉͍͌s̝͇͙͢͝t̠̤̅̈̀â͉̜̹̆c͖͖̺͋̌y̬̬̍́͞?͖̣̹̜̑'"
      ]
     },
     "execution_count": 18,
     "metadata": {},
     "output_type": "execute_result"
    }
   ],
   "source": [
    "# maintain function signature and documentation with wraps\n",
    "from functools import wraps\n",
    "\n",
    "def zalgify(fn):\n",
    "    \"\"\"\n",
    "    return a function that calls fn with all its\n",
    "    arguments then passes its result through zalgo\n",
    "    before returning\n",
    "    \"\"\"\n",
    "    @wraps(fn)  # <--- copy attributes from fn\n",
    "    def wrapper(*args, **kwargs):\n",
    "        return zalgo(fn(*args, **kwargs))\n",
    "    return wrapper\n",
    "\n",
    "@zalgify\n",
    "def nothing_strange(name:str='sam') -> str:\n",
    "    \"\"\"showing concern\"\"\"\n",
    "    return f'what are you worried about {name}?'\n",
    "\n",
    "nothing_strange('stacy')"
   ]
  },
  {
   "cell_type": "code",
   "execution_count": 19,
   "metadata": {},
   "outputs": [
    {
     "data": {
      "text/plain": [
       "<function __main__.nothing_strange(name:str='sam') -> str>"
      ]
     },
     "execution_count": 19,
     "metadata": {},
     "output_type": "execute_result"
    }
   ],
   "source": [
    "# not apparantly modified\n",
    "nothing_strange"
   ]
  },
  {
   "cell_type": "code",
   "execution_count": 20,
   "metadata": {},
   "outputs": [
    {
     "data": {
      "text/plain": [
       "'showing concern'"
      ]
     },
     "execution_count": 20,
     "metadata": {},
     "output_type": "execute_result"
    }
   ],
   "source": [
    "# docs also intact\n",
    "nothing_strange.__doc__"
   ]
  },
  {
   "cell_type": "markdown",
   "metadata": {},
   "source": [
    "### Context Managers\n",
    "- packaged version of `try: … except: … finally: …`\n",
    "- great for managing access to external/shared resources"
   ]
  },
  {
   "cell_type": "code",
   "execution_count": 37,
   "metadata": {},
   "outputs": [
    {
     "name": "stdout",
     "output_type": "stream",
     "text": [
      "we're still here\n"
     ]
    }
   ],
   "source": [
    "from contextlib import contextmanager\n",
    "\n",
    "@contextmanager\n",
    "def reckless_abandon():\n",
    "    '''\n",
    "    Context manager for actions that may fail, but I don't care.\n",
    "    '''\n",
    "    try:\n",
    "        yield\n",
    "    except Exception:\n",
    "        pass\n",
    "\n",
    "with reckless_abandon():\n",
    "    contact_flakey_service_the_other_team_built()\n",
    "   \n",
    "print(\"we're still here\")"
   ]
  },
  {
   "cell_type": "code",
   "execution_count": null,
   "metadata": {},
   "outputs": [],
   "source": [
    "from itertools import count\n",
    "from contextlib import contextmanager\n",
    "\n",
    "take_a_ticket = count(5000)\n",
    "returned_tickets = []\n",
    "\n",
    "@contextmanager\n",
    "def my_ticket():\n",
    "    try:\n",
    "        ticket = next(take_a_ticket)\n",
    "        yield ticket\n",
    "    finally:\n",
    "        returned_tickets.append(ticket)\n",
    "\n",
    "with my_ticket() as t:\n",
    "    print(f'I took ticket {t}')\n",
    "    \n",
    "returned_tickets"
   ]
  },
  {
   "cell_type": "code",
   "execution_count": null,
   "metadata": {
    "scrolled": true
   },
   "outputs": [],
   "source": [
    "with my_ticket() as t1, my_ticket() as t2:\n",
    "    print(f'I like tickets {t1} {t2}')\n",
    "\n",
    "returned_tickets"
   ]
  },
  {
   "cell_type": "code",
   "execution_count": null,
   "metadata": {},
   "outputs": [],
   "source": [
    "# interactive adventure with a generator\n",
    "def coroutine_adventure(name):\n",
    "    yield f'Welcome {name}. Press enter to continue.'\n",
    "    m = 'You are in a maze of twisty passages. Exits NSEW:'\n",
    "    while True:\n",
    "        if (yield m) == 'E':\n",
    "            break\n",
    "    m = 'A dragon approaches. (F)ight or (R)un:'\n",
    "    if (yield m) == 'R':\n",
    "        yield 'You barely escape. Goodbye.'\n",
    "        return\n",
    "    yield 'You have been eaten. Goodbye.'\n",
    "\n",
    "game = coroutine_adventure('player')\n",
    "message = next(game)\n",
    "while not message.endswith('Goodbye.'):\n",
    "    message = game.send(input(message))\n",
    "print(message)"
   ]
  },
  {
   "cell_type": "code",
   "execution_count": null,
   "metadata": {},
   "outputs": [],
   "source": [
    "# all attributes on our Dog instance\n",
    "dir(d)"
   ]
  },
  {
   "cell_type": "code",
   "execution_count": null,
   "metadata": {},
   "outputs": [],
   "source": [
    "# attributes on the Dog instance not on the class\n",
    "set(dir(d)) - set(dir(Dog))"
   ]
  },
  {
   "cell_type": "code",
   "execution_count": null,
   "metadata": {},
   "outputs": [],
   "source": [
    "# attributes on the Dog class not on its base class object\n",
    "set(dir(Dog)) - set(dir(object))"
   ]
  },
  {
   "cell_type": "code",
   "execution_count": null,
   "metadata": {},
   "outputs": [],
   "source": [
    "# scope behaves differently in classes, not shared with functions\n",
    "class NoScope360:\n",
    "    target = 'playername'\n",
    "    alt = target + ' alt'  # this is ok\n",
    "\n",
    "    def aim(self):\n",
    "        return target  # ERROR: not in scope\n",
    "\n",
    "NoScope360().aim()"
   ]
  },
  {
   "cell_type": "code",
   "execution_count": null,
   "metadata": {},
   "outputs": [],
   "source": [
    "# calculator example using __getattr__ instead of property\n",
    "class Calculator2:\n",
    "    def __init__(self, a, b):\n",
    "        self.a = a\n",
    "        self.b = b\n",
    "    \n",
    "    def __getattr__(self, attr):\n",
    "        \"Fall-back for all attributes not defined\"\n",
    "        if attr == 'total':\n",
    "            return self.a + self.b\n",
    "        if attr == 'exp':\n",
    "            return self.a ** self.b\n",
    "        if attr == 'sub':\n",
    "            return self.a - self.b\n",
    "        raise AttributeError\n",
    "\n",
    "c2 = Calculator(5, 2)\n",
    "c2.total"
   ]
  },
  {
   "cell_type": "code",
   "execution_count": null,
   "metadata": {},
   "outputs": [],
   "source": [
    "c2.a, c2.b"
   ]
  },
  {
   "cell_type": "markdown",
   "metadata": {},
   "source": [
    "See also https://docs.python.org/3/reference/datamodel.html#customizing-attribute-access\n",
    "for information on `__setattr__`, `__delattr__`, `__dir__`, `__getattribute__`."
   ]
  },
  {
   "cell_type": "code",
   "execution_count": null,
   "metadata": {},
   "outputs": [],
   "source": []
  }
 ],
 "metadata": {
  "kernelspec": {
   "display_name": "Python 3",
   "language": "python",
   "name": "python3"
  },
  "language_info": {
   "codemirror_mode": {
    "name": "ipython",
    "version": 3
   },
   "file_extension": ".py",
   "mimetype": "text/x-python",
   "name": "python",
   "nbconvert_exporter": "python",
   "pygments_lexer": "ipython3",
   "version": "3.6.8"
  }
 },
 "nbformat": 4,
 "nbformat_minor": 2
}
