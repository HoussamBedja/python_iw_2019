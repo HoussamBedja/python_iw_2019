{
 "cells": [
  {
   "cell_type": "markdown",
   "metadata": {},
   "source": [
    "## if, elif, else"
   ]
  },
  {
   "cell_type": "markdown",
   "metadata": {},
   "source": [
    "### 🍎🍎🍎 Python Core: Truthiness\n",
    "\n",
    "All objects can be part of boolean expressions and will be treated as as True/False\n",
    "\n",
    "Some builtin objects considered False:\n",
    " - constants defined to be False: `None`, `False`\n",
    " - numeric zeros: `0`, `0.0`, `0j`, `Decimal(0)`, `Fraction(0, 1)`\n",
    " - empty collections: `''`, `()`, `[]`, `{}`, `set()`\n",
    " \n",
    "![Almost every other object considered True](truthy.svg)"
   ]
  },
  {
   "cell_type": "code",
   "execution_count": 7,
   "metadata": {
    "scrolled": false
   },
   "outputs": [
    {
     "name": "stdout",
     "output_type": "stream",
     "text": [
      "Please enter an integer: 123\n"
     ]
    }
   ],
   "source": [
    "x = int(input(\"Please enter an integer: \"))"
   ]
  },
  {
   "cell_type": "code",
   "execution_count": 8,
   "metadata": {
    "scrolled": false
   },
   "outputs": [
    {
     "name": "stdout",
     "output_type": "stream",
     "text": [
      "Positive\n"
     ]
    }
   ],
   "source": [
    "if x < 0:\n",
    "    print('Negative')\n",
    "elif x:\n",
    "    print('Positive')\n",
    "else:\n",
    "    print('Zero')\n"
   ]
  },
  {
   "cell_type": "markdown",
   "metadata": {},
   "source": [
    "### 🏠🏠🏠 Idiomatic Python: if conditions\n",
    "\n",
    "- Use parenthesis only when condition spans multiple lines\n",
    "- Indent conditions an extra level when spanning multiple lines\n",
    "- Leave spaces around comparison operators"
   ]
  },
  {
   "cell_type": "code",
   "execution_count": 1,
   "metadata": {
    "scrolled": false
   },
   "outputs": [
    {
     "name": "stdout",
     "output_type": "stream",
     "text": [
      "in between\n"
     ]
    }
   ],
   "source": [
    "x = 42\n",
    "if 30 < x < 50:\n",
    "    print('in between')"
   ]
  },
  {
   "cell_type": "code",
   "execution_count": 27,
   "metadata": {
    "scrolled": false
   },
   "outputs": [
    {
     "name": "stdout",
     "output_type": "stream",
     "text": [
      "checks out\n",
      "not the same thing\n"
     ]
    }
   ],
   "source": [
    "a = b = c = 900\n",
    "if a == b == c:\n",
    "    print('checks out')\n",
    "    \n",
    "if (a == b) == c:\n",
    "    print('comparing c with True')\n",
    "else:\n",
    "    print('not the same thing')"
   ]
  },
  {
   "cell_type": "markdown",
   "metadata": {},
   "source": [
    "### Equality Table"
   ]
  },
  {
   "cell_type": "markdown",
   "metadata": {},
   "source": [
    "<div class=\"output_html rendered_html output_result\"><style type=\"text/css\">\n",
    "    #T_60b97682_d982_11e9_ac54_207918bb27e5 th {\n",
    "          max-width: 12px;\n",
    "    }    #T_60b97682_d982_11e9_ac54_207918bb27e5 th.col_heading {\n",
    "          writing-mode: vertical-rl;\n",
    "    }    #T_60b97682_d982_11e9_ac54_207918bb27e5 th:nth-child(1) {\n",
    "          max-width: 100px;\n",
    "    }</style><table id=\"T_60b97682_d982_11e9_ac54_207918bb27e5\"><thead>    <tr>        <th class=\"blank level0\"></th>        <th class=\"col_heading level0 col0\">True</th>        <th class=\"col_heading level0 col1\">False</th>        <th class=\"col_heading level0 col2\">1</th>        <th class=\"col_heading level0 col3\">0</th>        <th class=\"col_heading level0 col4\">-1</th>        <th class=\"col_heading level0 col5\">'True'</th>        <th class=\"col_heading level0 col6\">'False'</th>        <th class=\"col_heading level0 col7\">'1'</th>        <th class=\"col_heading level0 col8\">'0'</th>        <th class=\"col_heading level0 col9\">'-1'</th>        <th class=\"col_heading level0 col10\">''</th>        <th class=\"col_heading level0 col11\">None</th>        <th class=\"col_heading level0 col12\">inf</th>        <th class=\"col_heading level0 col13\">-inf</th>        <th class=\"col_heading level0 col14\">[]</th>        <th class=\"col_heading level0 col15\">{}</th>        <th class=\"col_heading level0 col16\">[[]]</th>        <th class=\"col_heading level0 col17\">[0]</th>        <th class=\"col_heading level0 col18\">[1]</th>        <th class=\"col_heading level0 col19\">nan</th>    </tr></thead><tbody>\n",
    "                <tr>\n",
    "                        <th id=\"T_60b97682_d982_11e9_ac54_207918bb27e5level0_row0\" class=\"row_heading level0 row0\">True</th>\n",
    "                        <td id=\"T_60b97682_d982_11e9_ac54_207918bb27e5row0_col0\" class=\"data row0 col0\">✅</td>\n",
    "                        <td id=\"T_60b97682_d982_11e9_ac54_207918bb27e5row0_col1\" class=\"data row0 col1\"></td>\n",
    "                        <td id=\"T_60b97682_d982_11e9_ac54_207918bb27e5row0_col2\" class=\"data row0 col2\">✅</td>\n",
    "                        <td id=\"T_60b97682_d982_11e9_ac54_207918bb27e5row0_col3\" class=\"data row0 col3\"></td>\n",
    "                        <td id=\"T_60b97682_d982_11e9_ac54_207918bb27e5row0_col4\" class=\"data row0 col4\"></td>\n",
    "                        <td id=\"T_60b97682_d982_11e9_ac54_207918bb27e5row0_col5\" class=\"data row0 col5\"></td>\n",
    "                        <td id=\"T_60b97682_d982_11e9_ac54_207918bb27e5row0_col6\" class=\"data row0 col6\"></td>\n",
    "                        <td id=\"T_60b97682_d982_11e9_ac54_207918bb27e5row0_col7\" class=\"data row0 col7\"></td>\n",
    "                        <td id=\"T_60b97682_d982_11e9_ac54_207918bb27e5row0_col8\" class=\"data row0 col8\"></td>\n",
    "                        <td id=\"T_60b97682_d982_11e9_ac54_207918bb27e5row0_col9\" class=\"data row0 col9\"></td>\n",
    "                        <td id=\"T_60b97682_d982_11e9_ac54_207918bb27e5row0_col10\" class=\"data row0 col10\"></td>\n",
    "                        <td id=\"T_60b97682_d982_11e9_ac54_207918bb27e5row0_col11\" class=\"data row0 col11\"></td>\n",
    "                        <td id=\"T_60b97682_d982_11e9_ac54_207918bb27e5row0_col12\" class=\"data row0 col12\"></td>\n",
    "                        <td id=\"T_60b97682_d982_11e9_ac54_207918bb27e5row0_col13\" class=\"data row0 col13\"></td>\n",
    "                        <td id=\"T_60b97682_d982_11e9_ac54_207918bb27e5row0_col14\" class=\"data row0 col14\"></td>\n",
    "                        <td id=\"T_60b97682_d982_11e9_ac54_207918bb27e5row0_col15\" class=\"data row0 col15\"></td>\n",
    "                        <td id=\"T_60b97682_d982_11e9_ac54_207918bb27e5row0_col16\" class=\"data row0 col16\"></td>\n",
    "                        <td id=\"T_60b97682_d982_11e9_ac54_207918bb27e5row0_col17\" class=\"data row0 col17\"></td>\n",
    "                        <td id=\"T_60b97682_d982_11e9_ac54_207918bb27e5row0_col18\" class=\"data row0 col18\"></td>\n",
    "                        <td id=\"T_60b97682_d982_11e9_ac54_207918bb27e5row0_col19\" class=\"data row0 col19\"></td>\n",
    "            </tr>\n",
    "            <tr>\n",
    "                        <th id=\"T_60b97682_d982_11e9_ac54_207918bb27e5level0_row1\" class=\"row_heading level0 row1\">False</th>\n",
    "                        <td id=\"T_60b97682_d982_11e9_ac54_207918bb27e5row1_col0\" class=\"data row1 col0\"></td>\n",
    "                        <td id=\"T_60b97682_d982_11e9_ac54_207918bb27e5row1_col1\" class=\"data row1 col1\">✅</td>\n",
    "                        <td id=\"T_60b97682_d982_11e9_ac54_207918bb27e5row1_col2\" class=\"data row1 col2\"></td>\n",
    "                        <td id=\"T_60b97682_d982_11e9_ac54_207918bb27e5row1_col3\" class=\"data row1 col3\">✅</td>\n",
    "                        <td id=\"T_60b97682_d982_11e9_ac54_207918bb27e5row1_col4\" class=\"data row1 col4\"></td>\n",
    "                        <td id=\"T_60b97682_d982_11e9_ac54_207918bb27e5row1_col5\" class=\"data row1 col5\"></td>\n",
    "                        <td id=\"T_60b97682_d982_11e9_ac54_207918bb27e5row1_col6\" class=\"data row1 col6\"></td>\n",
    "                        <td id=\"T_60b97682_d982_11e9_ac54_207918bb27e5row1_col7\" class=\"data row1 col7\"></td>\n",
    "                        <td id=\"T_60b97682_d982_11e9_ac54_207918bb27e5row1_col8\" class=\"data row1 col8\"></td>\n",
    "                        <td id=\"T_60b97682_d982_11e9_ac54_207918bb27e5row1_col9\" class=\"data row1 col9\"></td>\n",
    "                        <td id=\"T_60b97682_d982_11e9_ac54_207918bb27e5row1_col10\" class=\"data row1 col10\"></td>\n",
    "                        <td id=\"T_60b97682_d982_11e9_ac54_207918bb27e5row1_col11\" class=\"data row1 col11\"></td>\n",
    "                        <td id=\"T_60b97682_d982_11e9_ac54_207918bb27e5row1_col12\" class=\"data row1 col12\"></td>\n",
    "                        <td id=\"T_60b97682_d982_11e9_ac54_207918bb27e5row1_col13\" class=\"data row1 col13\"></td>\n",
    "                        <td id=\"T_60b97682_d982_11e9_ac54_207918bb27e5row1_col14\" class=\"data row1 col14\"></td>\n",
    "                        <td id=\"T_60b97682_d982_11e9_ac54_207918bb27e5row1_col15\" class=\"data row1 col15\"></td>\n",
    "                        <td id=\"T_60b97682_d982_11e9_ac54_207918bb27e5row1_col16\" class=\"data row1 col16\"></td>\n",
    "                        <td id=\"T_60b97682_d982_11e9_ac54_207918bb27e5row1_col17\" class=\"data row1 col17\"></td>\n",
    "                        <td id=\"T_60b97682_d982_11e9_ac54_207918bb27e5row1_col18\" class=\"data row1 col18\"></td>\n",
    "                        <td id=\"T_60b97682_d982_11e9_ac54_207918bb27e5row1_col19\" class=\"data row1 col19\"></td>\n",
    "            </tr>\n",
    "            <tr>\n",
    "                        <th id=\"T_60b97682_d982_11e9_ac54_207918bb27e5level0_row2\" class=\"row_heading level0 row2\">1</th>\n",
    "                        <td id=\"T_60b97682_d982_11e9_ac54_207918bb27e5row2_col0\" class=\"data row2 col0\">✅</td>\n",
    "                        <td id=\"T_60b97682_d982_11e9_ac54_207918bb27e5row2_col1\" class=\"data row2 col1\"></td>\n",
    "                        <td id=\"T_60b97682_d982_11e9_ac54_207918bb27e5row2_col2\" class=\"data row2 col2\">✅</td>\n",
    "                        <td id=\"T_60b97682_d982_11e9_ac54_207918bb27e5row2_col3\" class=\"data row2 col3\"></td>\n",
    "                        <td id=\"T_60b97682_d982_11e9_ac54_207918bb27e5row2_col4\" class=\"data row2 col4\"></td>\n",
    "                        <td id=\"T_60b97682_d982_11e9_ac54_207918bb27e5row2_col5\" class=\"data row2 col5\"></td>\n",
    "                        <td id=\"T_60b97682_d982_11e9_ac54_207918bb27e5row2_col6\" class=\"data row2 col6\"></td>\n",
    "                        <td id=\"T_60b97682_d982_11e9_ac54_207918bb27e5row2_col7\" class=\"data row2 col7\"></td>\n",
    "                        <td id=\"T_60b97682_d982_11e9_ac54_207918bb27e5row2_col8\" class=\"data row2 col8\"></td>\n",
    "                        <td id=\"T_60b97682_d982_11e9_ac54_207918bb27e5row2_col9\" class=\"data row2 col9\"></td>\n",
    "                        <td id=\"T_60b97682_d982_11e9_ac54_207918bb27e5row2_col10\" class=\"data row2 col10\"></td>\n",
    "                        <td id=\"T_60b97682_d982_11e9_ac54_207918bb27e5row2_col11\" class=\"data row2 col11\"></td>\n",
    "                        <td id=\"T_60b97682_d982_11e9_ac54_207918bb27e5row2_col12\" class=\"data row2 col12\"></td>\n",
    "                        <td id=\"T_60b97682_d982_11e9_ac54_207918bb27e5row2_col13\" class=\"data row2 col13\"></td>\n",
    "                        <td id=\"T_60b97682_d982_11e9_ac54_207918bb27e5row2_col14\" class=\"data row2 col14\"></td>\n",
    "                        <td id=\"T_60b97682_d982_11e9_ac54_207918bb27e5row2_col15\" class=\"data row2 col15\"></td>\n",
    "                        <td id=\"T_60b97682_d982_11e9_ac54_207918bb27e5row2_col16\" class=\"data row2 col16\"></td>\n",
    "                        <td id=\"T_60b97682_d982_11e9_ac54_207918bb27e5row2_col17\" class=\"data row2 col17\"></td>\n",
    "                        <td id=\"T_60b97682_d982_11e9_ac54_207918bb27e5row2_col18\" class=\"data row2 col18\"></td>\n",
    "                        <td id=\"T_60b97682_d982_11e9_ac54_207918bb27e5row2_col19\" class=\"data row2 col19\"></td>\n",
    "            </tr>\n",
    "            <tr>\n",
    "                        <th id=\"T_60b97682_d982_11e9_ac54_207918bb27e5level0_row3\" class=\"row_heading level0 row3\">0</th>\n",
    "                        <td id=\"T_60b97682_d982_11e9_ac54_207918bb27e5row3_col0\" class=\"data row3 col0\"></td>\n",
    "                        <td id=\"T_60b97682_d982_11e9_ac54_207918bb27e5row3_col1\" class=\"data row3 col1\">✅</td>\n",
    "                        <td id=\"T_60b97682_d982_11e9_ac54_207918bb27e5row3_col2\" class=\"data row3 col2\"></td>\n",
    "                        <td id=\"T_60b97682_d982_11e9_ac54_207918bb27e5row3_col3\" class=\"data row3 col3\">✅</td>\n",
    "                        <td id=\"T_60b97682_d982_11e9_ac54_207918bb27e5row3_col4\" class=\"data row3 col4\"></td>\n",
    "                        <td id=\"T_60b97682_d982_11e9_ac54_207918bb27e5row3_col5\" class=\"data row3 col5\"></td>\n",
    "                        <td id=\"T_60b97682_d982_11e9_ac54_207918bb27e5row3_col6\" class=\"data row3 col6\"></td>\n",
    "                        <td id=\"T_60b97682_d982_11e9_ac54_207918bb27e5row3_col7\" class=\"data row3 col7\"></td>\n",
    "                        <td id=\"T_60b97682_d982_11e9_ac54_207918bb27e5row3_col8\" class=\"data row3 col8\"></td>\n",
    "                        <td id=\"T_60b97682_d982_11e9_ac54_207918bb27e5row3_col9\" class=\"data row3 col9\"></td>\n",
    "                        <td id=\"T_60b97682_d982_11e9_ac54_207918bb27e5row3_col10\" class=\"data row3 col10\"></td>\n",
    "                        <td id=\"T_60b97682_d982_11e9_ac54_207918bb27e5row3_col11\" class=\"data row3 col11\"></td>\n",
    "                        <td id=\"T_60b97682_d982_11e9_ac54_207918bb27e5row3_col12\" class=\"data row3 col12\"></td>\n",
    "                        <td id=\"T_60b97682_d982_11e9_ac54_207918bb27e5row3_col13\" class=\"data row3 col13\"></td>\n",
    "                        <td id=\"T_60b97682_d982_11e9_ac54_207918bb27e5row3_col14\" class=\"data row3 col14\"></td>\n",
    "                        <td id=\"T_60b97682_d982_11e9_ac54_207918bb27e5row3_col15\" class=\"data row3 col15\"></td>\n",
    "                        <td id=\"T_60b97682_d982_11e9_ac54_207918bb27e5row3_col16\" class=\"data row3 col16\"></td>\n",
    "                        <td id=\"T_60b97682_d982_11e9_ac54_207918bb27e5row3_col17\" class=\"data row3 col17\"></td>\n",
    "                        <td id=\"T_60b97682_d982_11e9_ac54_207918bb27e5row3_col18\" class=\"data row3 col18\"></td>\n",
    "                        <td id=\"T_60b97682_d982_11e9_ac54_207918bb27e5row3_col19\" class=\"data row3 col19\"></td>\n",
    "            </tr>\n",
    "            <tr>\n",
    "                        <th id=\"T_60b97682_d982_11e9_ac54_207918bb27e5level0_row4\" class=\"row_heading level0 row4\">-1</th>\n",
    "                        <td id=\"T_60b97682_d982_11e9_ac54_207918bb27e5row4_col0\" class=\"data row4 col0\"></td>\n",
    "                        <td id=\"T_60b97682_d982_11e9_ac54_207918bb27e5row4_col1\" class=\"data row4 col1\"></td>\n",
    "                        <td id=\"T_60b97682_d982_11e9_ac54_207918bb27e5row4_col2\" class=\"data row4 col2\"></td>\n",
    "                        <td id=\"T_60b97682_d982_11e9_ac54_207918bb27e5row4_col3\" class=\"data row4 col3\"></td>\n",
    "                        <td id=\"T_60b97682_d982_11e9_ac54_207918bb27e5row4_col4\" class=\"data row4 col4\">✅</td>\n",
    "                        <td id=\"T_60b97682_d982_11e9_ac54_207918bb27e5row4_col5\" class=\"data row4 col5\"></td>\n",
    "                        <td id=\"T_60b97682_d982_11e9_ac54_207918bb27e5row4_col6\" class=\"data row4 col6\"></td>\n",
    "                        <td id=\"T_60b97682_d982_11e9_ac54_207918bb27e5row4_col7\" class=\"data row4 col7\"></td>\n",
    "                        <td id=\"T_60b97682_d982_11e9_ac54_207918bb27e5row4_col8\" class=\"data row4 col8\"></td>\n",
    "                        <td id=\"T_60b97682_d982_11e9_ac54_207918bb27e5row4_col9\" class=\"data row4 col9\"></td>\n",
    "                        <td id=\"T_60b97682_d982_11e9_ac54_207918bb27e5row4_col10\" class=\"data row4 col10\"></td>\n",
    "                        <td id=\"T_60b97682_d982_11e9_ac54_207918bb27e5row4_col11\" class=\"data row4 col11\"></td>\n",
    "                        <td id=\"T_60b97682_d982_11e9_ac54_207918bb27e5row4_col12\" class=\"data row4 col12\"></td>\n",
    "                        <td id=\"T_60b97682_d982_11e9_ac54_207918bb27e5row4_col13\" class=\"data row4 col13\"></td>\n",
    "                        <td id=\"T_60b97682_d982_11e9_ac54_207918bb27e5row4_col14\" class=\"data row4 col14\"></td>\n",
    "                        <td id=\"T_60b97682_d982_11e9_ac54_207918bb27e5row4_col15\" class=\"data row4 col15\"></td>\n",
    "                        <td id=\"T_60b97682_d982_11e9_ac54_207918bb27e5row4_col16\" class=\"data row4 col16\"></td>\n",
    "                        <td id=\"T_60b97682_d982_11e9_ac54_207918bb27e5row4_col17\" class=\"data row4 col17\"></td>\n",
    "                        <td id=\"T_60b97682_d982_11e9_ac54_207918bb27e5row4_col18\" class=\"data row4 col18\"></td>\n",
    "                        <td id=\"T_60b97682_d982_11e9_ac54_207918bb27e5row4_col19\" class=\"data row4 col19\"></td>\n",
    "            </tr>\n",
    "            <tr>\n",
    "                        <th id=\"T_60b97682_d982_11e9_ac54_207918bb27e5level0_row5\" class=\"row_heading level0 row5\">'True'</th>\n",
    "                        <td id=\"T_60b97682_d982_11e9_ac54_207918bb27e5row5_col0\" class=\"data row5 col0\"></td>\n",
    "                        <td id=\"T_60b97682_d982_11e9_ac54_207918bb27e5row5_col1\" class=\"data row5 col1\"></td>\n",
    "                        <td id=\"T_60b97682_d982_11e9_ac54_207918bb27e5row5_col2\" class=\"data row5 col2\"></td>\n",
    "                        <td id=\"T_60b97682_d982_11e9_ac54_207918bb27e5row5_col3\" class=\"data row5 col3\"></td>\n",
    "                        <td id=\"T_60b97682_d982_11e9_ac54_207918bb27e5row5_col4\" class=\"data row5 col4\"></td>\n",
    "                        <td id=\"T_60b97682_d982_11e9_ac54_207918bb27e5row5_col5\" class=\"data row5 col5\">✅</td>\n",
    "                        <td id=\"T_60b97682_d982_11e9_ac54_207918bb27e5row5_col6\" class=\"data row5 col6\"></td>\n",
    "                        <td id=\"T_60b97682_d982_11e9_ac54_207918bb27e5row5_col7\" class=\"data row5 col7\"></td>\n",
    "                        <td id=\"T_60b97682_d982_11e9_ac54_207918bb27e5row5_col8\" class=\"data row5 col8\"></td>\n",
    "                        <td id=\"T_60b97682_d982_11e9_ac54_207918bb27e5row5_col9\" class=\"data row5 col9\"></td>\n",
    "                        <td id=\"T_60b97682_d982_11e9_ac54_207918bb27e5row5_col10\" class=\"data row5 col10\"></td>\n",
    "                        <td id=\"T_60b97682_d982_11e9_ac54_207918bb27e5row5_col11\" class=\"data row5 col11\"></td>\n",
    "                        <td id=\"T_60b97682_d982_11e9_ac54_207918bb27e5row5_col12\" class=\"data row5 col12\"></td>\n",
    "                        <td id=\"T_60b97682_d982_11e9_ac54_207918bb27e5row5_col13\" class=\"data row5 col13\"></td>\n",
    "                        <td id=\"T_60b97682_d982_11e9_ac54_207918bb27e5row5_col14\" class=\"data row5 col14\"></td>\n",
    "                        <td id=\"T_60b97682_d982_11e9_ac54_207918bb27e5row5_col15\" class=\"data row5 col15\"></td>\n",
    "                        <td id=\"T_60b97682_d982_11e9_ac54_207918bb27e5row5_col16\" class=\"data row5 col16\"></td>\n",
    "                        <td id=\"T_60b97682_d982_11e9_ac54_207918bb27e5row5_col17\" class=\"data row5 col17\"></td>\n",
    "                        <td id=\"T_60b97682_d982_11e9_ac54_207918bb27e5row5_col18\" class=\"data row5 col18\"></td>\n",
    "                        <td id=\"T_60b97682_d982_11e9_ac54_207918bb27e5row5_col19\" class=\"data row5 col19\"></td>\n",
    "            </tr>\n",
    "            <tr>\n",
    "                        <th id=\"T_60b97682_d982_11e9_ac54_207918bb27e5level0_row6\" class=\"row_heading level0 row6\">'False'</th>\n",
    "                        <td id=\"T_60b97682_d982_11e9_ac54_207918bb27e5row6_col0\" class=\"data row6 col0\"></td>\n",
    "                        <td id=\"T_60b97682_d982_11e9_ac54_207918bb27e5row6_col1\" class=\"data row6 col1\"></td>\n",
    "                        <td id=\"T_60b97682_d982_11e9_ac54_207918bb27e5row6_col2\" class=\"data row6 col2\"></td>\n",
    "                        <td id=\"T_60b97682_d982_11e9_ac54_207918bb27e5row6_col3\" class=\"data row6 col3\"></td>\n",
    "                        <td id=\"T_60b97682_d982_11e9_ac54_207918bb27e5row6_col4\" class=\"data row6 col4\"></td>\n",
    "                        <td id=\"T_60b97682_d982_11e9_ac54_207918bb27e5row6_col5\" class=\"data row6 col5\"></td>\n",
    "                        <td id=\"T_60b97682_d982_11e9_ac54_207918bb27e5row6_col6\" class=\"data row6 col6\">✅</td>\n",
    "                        <td id=\"T_60b97682_d982_11e9_ac54_207918bb27e5row6_col7\" class=\"data row6 col7\"></td>\n",
    "                        <td id=\"T_60b97682_d982_11e9_ac54_207918bb27e5row6_col8\" class=\"data row6 col8\"></td>\n",
    "                        <td id=\"T_60b97682_d982_11e9_ac54_207918bb27e5row6_col9\" class=\"data row6 col9\"></td>\n",
    "                        <td id=\"T_60b97682_d982_11e9_ac54_207918bb27e5row6_col10\" class=\"data row6 col10\"></td>\n",
    "                        <td id=\"T_60b97682_d982_11e9_ac54_207918bb27e5row6_col11\" class=\"data row6 col11\"></td>\n",
    "                        <td id=\"T_60b97682_d982_11e9_ac54_207918bb27e5row6_col12\" class=\"data row6 col12\"></td>\n",
    "                        <td id=\"T_60b97682_d982_11e9_ac54_207918bb27e5row6_col13\" class=\"data row6 col13\"></td>\n",
    "                        <td id=\"T_60b97682_d982_11e9_ac54_207918bb27e5row6_col14\" class=\"data row6 col14\"></td>\n",
    "                        <td id=\"T_60b97682_d982_11e9_ac54_207918bb27e5row6_col15\" class=\"data row6 col15\"></td>\n",
    "                        <td id=\"T_60b97682_d982_11e9_ac54_207918bb27e5row6_col16\" class=\"data row6 col16\"></td>\n",
    "                        <td id=\"T_60b97682_d982_11e9_ac54_207918bb27e5row6_col17\" class=\"data row6 col17\"></td>\n",
    "                        <td id=\"T_60b97682_d982_11e9_ac54_207918bb27e5row6_col18\" class=\"data row6 col18\"></td>\n",
    "                        <td id=\"T_60b97682_d982_11e9_ac54_207918bb27e5row6_col19\" class=\"data row6 col19\"></td>\n",
    "            </tr>\n",
    "            <tr>\n",
    "                        <th id=\"T_60b97682_d982_11e9_ac54_207918bb27e5level0_row7\" class=\"row_heading level0 row7\">'1'</th>\n",
    "                        <td id=\"T_60b97682_d982_11e9_ac54_207918bb27e5row7_col0\" class=\"data row7 col0\"></td>\n",
    "                        <td id=\"T_60b97682_d982_11e9_ac54_207918bb27e5row7_col1\" class=\"data row7 col1\"></td>\n",
    "                        <td id=\"T_60b97682_d982_11e9_ac54_207918bb27e5row7_col2\" class=\"data row7 col2\"></td>\n",
    "                        <td id=\"T_60b97682_d982_11e9_ac54_207918bb27e5row7_col3\" class=\"data row7 col3\"></td>\n",
    "                        <td id=\"T_60b97682_d982_11e9_ac54_207918bb27e5row7_col4\" class=\"data row7 col4\"></td>\n",
    "                        <td id=\"T_60b97682_d982_11e9_ac54_207918bb27e5row7_col5\" class=\"data row7 col5\"></td>\n",
    "                        <td id=\"T_60b97682_d982_11e9_ac54_207918bb27e5row7_col6\" class=\"data row7 col6\"></td>\n",
    "                        <td id=\"T_60b97682_d982_11e9_ac54_207918bb27e5row7_col7\" class=\"data row7 col7\">✅</td>\n",
    "                        <td id=\"T_60b97682_d982_11e9_ac54_207918bb27e5row7_col8\" class=\"data row7 col8\"></td>\n",
    "                        <td id=\"T_60b97682_d982_11e9_ac54_207918bb27e5row7_col9\" class=\"data row7 col9\"></td>\n",
    "                        <td id=\"T_60b97682_d982_11e9_ac54_207918bb27e5row7_col10\" class=\"data row7 col10\"></td>\n",
    "                        <td id=\"T_60b97682_d982_11e9_ac54_207918bb27e5row7_col11\" class=\"data row7 col11\"></td>\n",
    "                        <td id=\"T_60b97682_d982_11e9_ac54_207918bb27e5row7_col12\" class=\"data row7 col12\"></td>\n",
    "                        <td id=\"T_60b97682_d982_11e9_ac54_207918bb27e5row7_col13\" class=\"data row7 col13\"></td>\n",
    "                        <td id=\"T_60b97682_d982_11e9_ac54_207918bb27e5row7_col14\" class=\"data row7 col14\"></td>\n",
    "                        <td id=\"T_60b97682_d982_11e9_ac54_207918bb27e5row7_col15\" class=\"data row7 col15\"></td>\n",
    "                        <td id=\"T_60b97682_d982_11e9_ac54_207918bb27e5row7_col16\" class=\"data row7 col16\"></td>\n",
    "                        <td id=\"T_60b97682_d982_11e9_ac54_207918bb27e5row7_col17\" class=\"data row7 col17\"></td>\n",
    "                        <td id=\"T_60b97682_d982_11e9_ac54_207918bb27e5row7_col18\" class=\"data row7 col18\"></td>\n",
    "                        <td id=\"T_60b97682_d982_11e9_ac54_207918bb27e5row7_col19\" class=\"data row7 col19\"></td>\n",
    "            </tr>\n",
    "            <tr>\n",
    "                        <th id=\"T_60b97682_d982_11e9_ac54_207918bb27e5level0_row8\" class=\"row_heading level0 row8\">'0'</th>\n",
    "                        <td id=\"T_60b97682_d982_11e9_ac54_207918bb27e5row8_col0\" class=\"data row8 col0\"></td>\n",
    "                        <td id=\"T_60b97682_d982_11e9_ac54_207918bb27e5row8_col1\" class=\"data row8 col1\"></td>\n",
    "                        <td id=\"T_60b97682_d982_11e9_ac54_207918bb27e5row8_col2\" class=\"data row8 col2\"></td>\n",
    "                        <td id=\"T_60b97682_d982_11e9_ac54_207918bb27e5row8_col3\" class=\"data row8 col3\"></td>\n",
    "                        <td id=\"T_60b97682_d982_11e9_ac54_207918bb27e5row8_col4\" class=\"data row8 col4\"></td>\n",
    "                        <td id=\"T_60b97682_d982_11e9_ac54_207918bb27e5row8_col5\" class=\"data row8 col5\"></td>\n",
    "                        <td id=\"T_60b97682_d982_11e9_ac54_207918bb27e5row8_col6\" class=\"data row8 col6\"></td>\n",
    "                        <td id=\"T_60b97682_d982_11e9_ac54_207918bb27e5row8_col7\" class=\"data row8 col7\"></td>\n",
    "                        <td id=\"T_60b97682_d982_11e9_ac54_207918bb27e5row8_col8\" class=\"data row8 col8\">✅</td>\n",
    "                        <td id=\"T_60b97682_d982_11e9_ac54_207918bb27e5row8_col9\" class=\"data row8 col9\"></td>\n",
    "                        <td id=\"T_60b97682_d982_11e9_ac54_207918bb27e5row8_col10\" class=\"data row8 col10\"></td>\n",
    "                        <td id=\"T_60b97682_d982_11e9_ac54_207918bb27e5row8_col11\" class=\"data row8 col11\"></td>\n",
    "                        <td id=\"T_60b97682_d982_11e9_ac54_207918bb27e5row8_col12\" class=\"data row8 col12\"></td>\n",
    "                        <td id=\"T_60b97682_d982_11e9_ac54_207918bb27e5row8_col13\" class=\"data row8 col13\"></td>\n",
    "                        <td id=\"T_60b97682_d982_11e9_ac54_207918bb27e5row8_col14\" class=\"data row8 col14\"></td>\n",
    "                        <td id=\"T_60b97682_d982_11e9_ac54_207918bb27e5row8_col15\" class=\"data row8 col15\"></td>\n",
    "                        <td id=\"T_60b97682_d982_11e9_ac54_207918bb27e5row8_col16\" class=\"data row8 col16\"></td>\n",
    "                        <td id=\"T_60b97682_d982_11e9_ac54_207918bb27e5row8_col17\" class=\"data row8 col17\"></td>\n",
    "                        <td id=\"T_60b97682_d982_11e9_ac54_207918bb27e5row8_col18\" class=\"data row8 col18\"></td>\n",
    "                        <td id=\"T_60b97682_d982_11e9_ac54_207918bb27e5row8_col19\" class=\"data row8 col19\"></td>\n",
    "            </tr>\n",
    "            <tr>\n",
    "                        <th id=\"T_60b97682_d982_11e9_ac54_207918bb27e5level0_row9\" class=\"row_heading level0 row9\">'-1'</th>\n",
    "                        <td id=\"T_60b97682_d982_11e9_ac54_207918bb27e5row9_col0\" class=\"data row9 col0\"></td>\n",
    "                        <td id=\"T_60b97682_d982_11e9_ac54_207918bb27e5row9_col1\" class=\"data row9 col1\"></td>\n",
    "                        <td id=\"T_60b97682_d982_11e9_ac54_207918bb27e5row9_col2\" class=\"data row9 col2\"></td>\n",
    "                        <td id=\"T_60b97682_d982_11e9_ac54_207918bb27e5row9_col3\" class=\"data row9 col3\"></td>\n",
    "                        <td id=\"T_60b97682_d982_11e9_ac54_207918bb27e5row9_col4\" class=\"data row9 col4\"></td>\n",
    "                        <td id=\"T_60b97682_d982_11e9_ac54_207918bb27e5row9_col5\" class=\"data row9 col5\"></td>\n",
    "                        <td id=\"T_60b97682_d982_11e9_ac54_207918bb27e5row9_col6\" class=\"data row9 col6\"></td>\n",
    "                        <td id=\"T_60b97682_d982_11e9_ac54_207918bb27e5row9_col7\" class=\"data row9 col7\"></td>\n",
    "                        <td id=\"T_60b97682_d982_11e9_ac54_207918bb27e5row9_col8\" class=\"data row9 col8\"></td>\n",
    "                        <td id=\"T_60b97682_d982_11e9_ac54_207918bb27e5row9_col9\" class=\"data row9 col9\">✅</td>\n",
    "                        <td id=\"T_60b97682_d982_11e9_ac54_207918bb27e5row9_col10\" class=\"data row9 col10\"></td>\n",
    "                        <td id=\"T_60b97682_d982_11e9_ac54_207918bb27e5row9_col11\" class=\"data row9 col11\"></td>\n",
    "                        <td id=\"T_60b97682_d982_11e9_ac54_207918bb27e5row9_col12\" class=\"data row9 col12\"></td>\n",
    "                        <td id=\"T_60b97682_d982_11e9_ac54_207918bb27e5row9_col13\" class=\"data row9 col13\"></td>\n",
    "                        <td id=\"T_60b97682_d982_11e9_ac54_207918bb27e5row9_col14\" class=\"data row9 col14\"></td>\n",
    "                        <td id=\"T_60b97682_d982_11e9_ac54_207918bb27e5row9_col15\" class=\"data row9 col15\"></td>\n",
    "                        <td id=\"T_60b97682_d982_11e9_ac54_207918bb27e5row9_col16\" class=\"data row9 col16\"></td>\n",
    "                        <td id=\"T_60b97682_d982_11e9_ac54_207918bb27e5row9_col17\" class=\"data row9 col17\"></td>\n",
    "                        <td id=\"T_60b97682_d982_11e9_ac54_207918bb27e5row9_col18\" class=\"data row9 col18\"></td>\n",
    "                        <td id=\"T_60b97682_d982_11e9_ac54_207918bb27e5row9_col19\" class=\"data row9 col19\"></td>\n",
    "            </tr>\n",
    "            <tr>\n",
    "                        <th id=\"T_60b97682_d982_11e9_ac54_207918bb27e5level0_row10\" class=\"row_heading level0 row10\">''</th>\n",
    "                        <td id=\"T_60b97682_d982_11e9_ac54_207918bb27e5row10_col0\" class=\"data row10 col0\"></td>\n",
    "                        <td id=\"T_60b97682_d982_11e9_ac54_207918bb27e5row10_col1\" class=\"data row10 col1\"></td>\n",
    "                        <td id=\"T_60b97682_d982_11e9_ac54_207918bb27e5row10_col2\" class=\"data row10 col2\"></td>\n",
    "                        <td id=\"T_60b97682_d982_11e9_ac54_207918bb27e5row10_col3\" class=\"data row10 col3\"></td>\n",
    "                        <td id=\"T_60b97682_d982_11e9_ac54_207918bb27e5row10_col4\" class=\"data row10 col4\"></td>\n",
    "                        <td id=\"T_60b97682_d982_11e9_ac54_207918bb27e5row10_col5\" class=\"data row10 col5\"></td>\n",
    "                        <td id=\"T_60b97682_d982_11e9_ac54_207918bb27e5row10_col6\" class=\"data row10 col6\"></td>\n",
    "                        <td id=\"T_60b97682_d982_11e9_ac54_207918bb27e5row10_col7\" class=\"data row10 col7\"></td>\n",
    "                        <td id=\"T_60b97682_d982_11e9_ac54_207918bb27e5row10_col8\" class=\"data row10 col8\"></td>\n",
    "                        <td id=\"T_60b97682_d982_11e9_ac54_207918bb27e5row10_col9\" class=\"data row10 col9\"></td>\n",
    "                        <td id=\"T_60b97682_d982_11e9_ac54_207918bb27e5row10_col10\" class=\"data row10 col10\">✅</td>\n",
    "                        <td id=\"T_60b97682_d982_11e9_ac54_207918bb27e5row10_col11\" class=\"data row10 col11\"></td>\n",
    "                        <td id=\"T_60b97682_d982_11e9_ac54_207918bb27e5row10_col12\" class=\"data row10 col12\"></td>\n",
    "                        <td id=\"T_60b97682_d982_11e9_ac54_207918bb27e5row10_col13\" class=\"data row10 col13\"></td>\n",
    "                        <td id=\"T_60b97682_d982_11e9_ac54_207918bb27e5row10_col14\" class=\"data row10 col14\"></td>\n",
    "                        <td id=\"T_60b97682_d982_11e9_ac54_207918bb27e5row10_col15\" class=\"data row10 col15\"></td>\n",
    "                        <td id=\"T_60b97682_d982_11e9_ac54_207918bb27e5row10_col16\" class=\"data row10 col16\"></td>\n",
    "                        <td id=\"T_60b97682_d982_11e9_ac54_207918bb27e5row10_col17\" class=\"data row10 col17\"></td>\n",
    "                        <td id=\"T_60b97682_d982_11e9_ac54_207918bb27e5row10_col18\" class=\"data row10 col18\"></td>\n",
    "                        <td id=\"T_60b97682_d982_11e9_ac54_207918bb27e5row10_col19\" class=\"data row10 col19\"></td>\n",
    "            </tr>\n",
    "            <tr>\n",
    "                        <th id=\"T_60b97682_d982_11e9_ac54_207918bb27e5level0_row11\" class=\"row_heading level0 row11\">None</th>\n",
    "                        <td id=\"T_60b97682_d982_11e9_ac54_207918bb27e5row11_col0\" class=\"data row11 col0\"></td>\n",
    "                        <td id=\"T_60b97682_d982_11e9_ac54_207918bb27e5row11_col1\" class=\"data row11 col1\"></td>\n",
    "                        <td id=\"T_60b97682_d982_11e9_ac54_207918bb27e5row11_col2\" class=\"data row11 col2\"></td>\n",
    "                        <td id=\"T_60b97682_d982_11e9_ac54_207918bb27e5row11_col3\" class=\"data row11 col3\"></td>\n",
    "                        <td id=\"T_60b97682_d982_11e9_ac54_207918bb27e5row11_col4\" class=\"data row11 col4\"></td>\n",
    "                        <td id=\"T_60b97682_d982_11e9_ac54_207918bb27e5row11_col5\" class=\"data row11 col5\"></td>\n",
    "                        <td id=\"T_60b97682_d982_11e9_ac54_207918bb27e5row11_col6\" class=\"data row11 col6\"></td>\n",
    "                        <td id=\"T_60b97682_d982_11e9_ac54_207918bb27e5row11_col7\" class=\"data row11 col7\"></td>\n",
    "                        <td id=\"T_60b97682_d982_11e9_ac54_207918bb27e5row11_col8\" class=\"data row11 col8\"></td>\n",
    "                        <td id=\"T_60b97682_d982_11e9_ac54_207918bb27e5row11_col9\" class=\"data row11 col9\"></td>\n",
    "                        <td id=\"T_60b97682_d982_11e9_ac54_207918bb27e5row11_col10\" class=\"data row11 col10\"></td>\n",
    "                        <td id=\"T_60b97682_d982_11e9_ac54_207918bb27e5row11_col11\" class=\"data row11 col11\">✅</td>\n",
    "                        <td id=\"T_60b97682_d982_11e9_ac54_207918bb27e5row11_col12\" class=\"data row11 col12\"></td>\n",
    "                        <td id=\"T_60b97682_d982_11e9_ac54_207918bb27e5row11_col13\" class=\"data row11 col13\"></td>\n",
    "                        <td id=\"T_60b97682_d982_11e9_ac54_207918bb27e5row11_col14\" class=\"data row11 col14\"></td>\n",
    "                        <td id=\"T_60b97682_d982_11e9_ac54_207918bb27e5row11_col15\" class=\"data row11 col15\"></td>\n",
    "                        <td id=\"T_60b97682_d982_11e9_ac54_207918bb27e5row11_col16\" class=\"data row11 col16\"></td>\n",
    "                        <td id=\"T_60b97682_d982_11e9_ac54_207918bb27e5row11_col17\" class=\"data row11 col17\"></td>\n",
    "                        <td id=\"T_60b97682_d982_11e9_ac54_207918bb27e5row11_col18\" class=\"data row11 col18\"></td>\n",
    "                        <td id=\"T_60b97682_d982_11e9_ac54_207918bb27e5row11_col19\" class=\"data row11 col19\"></td>\n",
    "            </tr>\n",
    "            <tr>\n",
    "                        <th id=\"T_60b97682_d982_11e9_ac54_207918bb27e5level0_row12\" class=\"row_heading level0 row12\">inf</th>\n",
    "                        <td id=\"T_60b97682_d982_11e9_ac54_207918bb27e5row12_col0\" class=\"data row12 col0\"></td>\n",
    "                        <td id=\"T_60b97682_d982_11e9_ac54_207918bb27e5row12_col1\" class=\"data row12 col1\"></td>\n",
    "                        <td id=\"T_60b97682_d982_11e9_ac54_207918bb27e5row12_col2\" class=\"data row12 col2\"></td>\n",
    "                        <td id=\"T_60b97682_d982_11e9_ac54_207918bb27e5row12_col3\" class=\"data row12 col3\"></td>\n",
    "                        <td id=\"T_60b97682_d982_11e9_ac54_207918bb27e5row12_col4\" class=\"data row12 col4\"></td>\n",
    "                        <td id=\"T_60b97682_d982_11e9_ac54_207918bb27e5row12_col5\" class=\"data row12 col5\"></td>\n",
    "                        <td id=\"T_60b97682_d982_11e9_ac54_207918bb27e5row12_col6\" class=\"data row12 col6\"></td>\n",
    "                        <td id=\"T_60b97682_d982_11e9_ac54_207918bb27e5row12_col7\" class=\"data row12 col7\"></td>\n",
    "                        <td id=\"T_60b97682_d982_11e9_ac54_207918bb27e5row12_col8\" class=\"data row12 col8\"></td>\n",
    "                        <td id=\"T_60b97682_d982_11e9_ac54_207918bb27e5row12_col9\" class=\"data row12 col9\"></td>\n",
    "                        <td id=\"T_60b97682_d982_11e9_ac54_207918bb27e5row12_col10\" class=\"data row12 col10\"></td>\n",
    "                        <td id=\"T_60b97682_d982_11e9_ac54_207918bb27e5row12_col11\" class=\"data row12 col11\"></td>\n",
    "                        <td id=\"T_60b97682_d982_11e9_ac54_207918bb27e5row12_col12\" class=\"data row12 col12\">✅</td>\n",
    "                        <td id=\"T_60b97682_d982_11e9_ac54_207918bb27e5row12_col13\" class=\"data row12 col13\"></td>\n",
    "                        <td id=\"T_60b97682_d982_11e9_ac54_207918bb27e5row12_col14\" class=\"data row12 col14\"></td>\n",
    "                        <td id=\"T_60b97682_d982_11e9_ac54_207918bb27e5row12_col15\" class=\"data row12 col15\"></td>\n",
    "                        <td id=\"T_60b97682_d982_11e9_ac54_207918bb27e5row12_col16\" class=\"data row12 col16\"></td>\n",
    "                        <td id=\"T_60b97682_d982_11e9_ac54_207918bb27e5row12_col17\" class=\"data row12 col17\"></td>\n",
    "                        <td id=\"T_60b97682_d982_11e9_ac54_207918bb27e5row12_col18\" class=\"data row12 col18\"></td>\n",
    "                        <td id=\"T_60b97682_d982_11e9_ac54_207918bb27e5row12_col19\" class=\"data row12 col19\"></td>\n",
    "            </tr>\n",
    "            <tr>\n",
    "                        <th id=\"T_60b97682_d982_11e9_ac54_207918bb27e5level0_row13\" class=\"row_heading level0 row13\">-inf</th>\n",
    "                        <td id=\"T_60b97682_d982_11e9_ac54_207918bb27e5row13_col0\" class=\"data row13 col0\"></td>\n",
    "                        <td id=\"T_60b97682_d982_11e9_ac54_207918bb27e5row13_col1\" class=\"data row13 col1\"></td>\n",
    "                        <td id=\"T_60b97682_d982_11e9_ac54_207918bb27e5row13_col2\" class=\"data row13 col2\"></td>\n",
    "                        <td id=\"T_60b97682_d982_11e9_ac54_207918bb27e5row13_col3\" class=\"data row13 col3\"></td>\n",
    "                        <td id=\"T_60b97682_d982_11e9_ac54_207918bb27e5row13_col4\" class=\"data row13 col4\"></td>\n",
    "                        <td id=\"T_60b97682_d982_11e9_ac54_207918bb27e5row13_col5\" class=\"data row13 col5\"></td>\n",
    "                        <td id=\"T_60b97682_d982_11e9_ac54_207918bb27e5row13_col6\" class=\"data row13 col6\"></td>\n",
    "                        <td id=\"T_60b97682_d982_11e9_ac54_207918bb27e5row13_col7\" class=\"data row13 col7\"></td>\n",
    "                        <td id=\"T_60b97682_d982_11e9_ac54_207918bb27e5row13_col8\" class=\"data row13 col8\"></td>\n",
    "                        <td id=\"T_60b97682_d982_11e9_ac54_207918bb27e5row13_col9\" class=\"data row13 col9\"></td>\n",
    "                        <td id=\"T_60b97682_d982_11e9_ac54_207918bb27e5row13_col10\" class=\"data row13 col10\"></td>\n",
    "                        <td id=\"T_60b97682_d982_11e9_ac54_207918bb27e5row13_col11\" class=\"data row13 col11\"></td>\n",
    "                        <td id=\"T_60b97682_d982_11e9_ac54_207918bb27e5row13_col12\" class=\"data row13 col12\"></td>\n",
    "                        <td id=\"T_60b97682_d982_11e9_ac54_207918bb27e5row13_col13\" class=\"data row13 col13\">✅</td>\n",
    "                        <td id=\"T_60b97682_d982_11e9_ac54_207918bb27e5row13_col14\" class=\"data row13 col14\"></td>\n",
    "                        <td id=\"T_60b97682_d982_11e9_ac54_207918bb27e5row13_col15\" class=\"data row13 col15\"></td>\n",
    "                        <td id=\"T_60b97682_d982_11e9_ac54_207918bb27e5row13_col16\" class=\"data row13 col16\"></td>\n",
    "                        <td id=\"T_60b97682_d982_11e9_ac54_207918bb27e5row13_col17\" class=\"data row13 col17\"></td>\n",
    "                        <td id=\"T_60b97682_d982_11e9_ac54_207918bb27e5row13_col18\" class=\"data row13 col18\"></td>\n",
    "                        <td id=\"T_60b97682_d982_11e9_ac54_207918bb27e5row13_col19\" class=\"data row13 col19\"></td>\n",
    "            </tr>\n",
    "            <tr>\n",
    "                        <th id=\"T_60b97682_d982_11e9_ac54_207918bb27e5level0_row14\" class=\"row_heading level0 row14\">[]</th>\n",
    "                        <td id=\"T_60b97682_d982_11e9_ac54_207918bb27e5row14_col0\" class=\"data row14 col0\"></td>\n",
    "                        <td id=\"T_60b97682_d982_11e9_ac54_207918bb27e5row14_col1\" class=\"data row14 col1\"></td>\n",
    "                        <td id=\"T_60b97682_d982_11e9_ac54_207918bb27e5row14_col2\" class=\"data row14 col2\"></td>\n",
    "                        <td id=\"T_60b97682_d982_11e9_ac54_207918bb27e5row14_col3\" class=\"data row14 col3\"></td>\n",
    "                        <td id=\"T_60b97682_d982_11e9_ac54_207918bb27e5row14_col4\" class=\"data row14 col4\"></td>\n",
    "                        <td id=\"T_60b97682_d982_11e9_ac54_207918bb27e5row14_col5\" class=\"data row14 col5\"></td>\n",
    "                        <td id=\"T_60b97682_d982_11e9_ac54_207918bb27e5row14_col6\" class=\"data row14 col6\"></td>\n",
    "                        <td id=\"T_60b97682_d982_11e9_ac54_207918bb27e5row14_col7\" class=\"data row14 col7\"></td>\n",
    "                        <td id=\"T_60b97682_d982_11e9_ac54_207918bb27e5row14_col8\" class=\"data row14 col8\"></td>\n",
    "                        <td id=\"T_60b97682_d982_11e9_ac54_207918bb27e5row14_col9\" class=\"data row14 col9\"></td>\n",
    "                        <td id=\"T_60b97682_d982_11e9_ac54_207918bb27e5row14_col10\" class=\"data row14 col10\"></td>\n",
    "                        <td id=\"T_60b97682_d982_11e9_ac54_207918bb27e5row14_col11\" class=\"data row14 col11\"></td>\n",
    "                        <td id=\"T_60b97682_d982_11e9_ac54_207918bb27e5row14_col12\" class=\"data row14 col12\"></td>\n",
    "                        <td id=\"T_60b97682_d982_11e9_ac54_207918bb27e5row14_col13\" class=\"data row14 col13\"></td>\n",
    "                        <td id=\"T_60b97682_d982_11e9_ac54_207918bb27e5row14_col14\" class=\"data row14 col14\">✅</td>\n",
    "                        <td id=\"T_60b97682_d982_11e9_ac54_207918bb27e5row14_col15\" class=\"data row14 col15\"></td>\n",
    "                        <td id=\"T_60b97682_d982_11e9_ac54_207918bb27e5row14_col16\" class=\"data row14 col16\"></td>\n",
    "                        <td id=\"T_60b97682_d982_11e9_ac54_207918bb27e5row14_col17\" class=\"data row14 col17\"></td>\n",
    "                        <td id=\"T_60b97682_d982_11e9_ac54_207918bb27e5row14_col18\" class=\"data row14 col18\"></td>\n",
    "                        <td id=\"T_60b97682_d982_11e9_ac54_207918bb27e5row14_col19\" class=\"data row14 col19\"></td>\n",
    "            </tr>\n",
    "            <tr>\n",
    "                        <th id=\"T_60b97682_d982_11e9_ac54_207918bb27e5level0_row15\" class=\"row_heading level0 row15\">{}</th>\n",
    "                        <td id=\"T_60b97682_d982_11e9_ac54_207918bb27e5row15_col0\" class=\"data row15 col0\"></td>\n",
    "                        <td id=\"T_60b97682_d982_11e9_ac54_207918bb27e5row15_col1\" class=\"data row15 col1\"></td>\n",
    "                        <td id=\"T_60b97682_d982_11e9_ac54_207918bb27e5row15_col2\" class=\"data row15 col2\"></td>\n",
    "                        <td id=\"T_60b97682_d982_11e9_ac54_207918bb27e5row15_col3\" class=\"data row15 col3\"></td>\n",
    "                        <td id=\"T_60b97682_d982_11e9_ac54_207918bb27e5row15_col4\" class=\"data row15 col4\"></td>\n",
    "                        <td id=\"T_60b97682_d982_11e9_ac54_207918bb27e5row15_col5\" class=\"data row15 col5\"></td>\n",
    "                        <td id=\"T_60b97682_d982_11e9_ac54_207918bb27e5row15_col6\" class=\"data row15 col6\"></td>\n",
    "                        <td id=\"T_60b97682_d982_11e9_ac54_207918bb27e5row15_col7\" class=\"data row15 col7\"></td>\n",
    "                        <td id=\"T_60b97682_d982_11e9_ac54_207918bb27e5row15_col8\" class=\"data row15 col8\"></td>\n",
    "                        <td id=\"T_60b97682_d982_11e9_ac54_207918bb27e5row15_col9\" class=\"data row15 col9\"></td>\n",
    "                        <td id=\"T_60b97682_d982_11e9_ac54_207918bb27e5row15_col10\" class=\"data row15 col10\"></td>\n",
    "                        <td id=\"T_60b97682_d982_11e9_ac54_207918bb27e5row15_col11\" class=\"data row15 col11\"></td>\n",
    "                        <td id=\"T_60b97682_d982_11e9_ac54_207918bb27e5row15_col12\" class=\"data row15 col12\"></td>\n",
    "                        <td id=\"T_60b97682_d982_11e9_ac54_207918bb27e5row15_col13\" class=\"data row15 col13\"></td>\n",
    "                        <td id=\"T_60b97682_d982_11e9_ac54_207918bb27e5row15_col14\" class=\"data row15 col14\"></td>\n",
    "                        <td id=\"T_60b97682_d982_11e9_ac54_207918bb27e5row15_col15\" class=\"data row15 col15\">✅</td>\n",
    "                        <td id=\"T_60b97682_d982_11e9_ac54_207918bb27e5row15_col16\" class=\"data row15 col16\"></td>\n",
    "                        <td id=\"T_60b97682_d982_11e9_ac54_207918bb27e5row15_col17\" class=\"data row15 col17\"></td>\n",
    "                        <td id=\"T_60b97682_d982_11e9_ac54_207918bb27e5row15_col18\" class=\"data row15 col18\"></td>\n",
    "                        <td id=\"T_60b97682_d982_11e9_ac54_207918bb27e5row15_col19\" class=\"data row15 col19\"></td>\n",
    "            </tr>\n",
    "            <tr>\n",
    "                        <th id=\"T_60b97682_d982_11e9_ac54_207918bb27e5level0_row16\" class=\"row_heading level0 row16\">[[]]</th>\n",
    "                        <td id=\"T_60b97682_d982_11e9_ac54_207918bb27e5row16_col0\" class=\"data row16 col0\"></td>\n",
    "                        <td id=\"T_60b97682_d982_11e9_ac54_207918bb27e5row16_col1\" class=\"data row16 col1\"></td>\n",
    "                        <td id=\"T_60b97682_d982_11e9_ac54_207918bb27e5row16_col2\" class=\"data row16 col2\"></td>\n",
    "                        <td id=\"T_60b97682_d982_11e9_ac54_207918bb27e5row16_col3\" class=\"data row16 col3\"></td>\n",
    "                        <td id=\"T_60b97682_d982_11e9_ac54_207918bb27e5row16_col4\" class=\"data row16 col4\"></td>\n",
    "                        <td id=\"T_60b97682_d982_11e9_ac54_207918bb27e5row16_col5\" class=\"data row16 col5\"></td>\n",
    "                        <td id=\"T_60b97682_d982_11e9_ac54_207918bb27e5row16_col6\" class=\"data row16 col6\"></td>\n",
    "                        <td id=\"T_60b97682_d982_11e9_ac54_207918bb27e5row16_col7\" class=\"data row16 col7\"></td>\n",
    "                        <td id=\"T_60b97682_d982_11e9_ac54_207918bb27e5row16_col8\" class=\"data row16 col8\"></td>\n",
    "                        <td id=\"T_60b97682_d982_11e9_ac54_207918bb27e5row16_col9\" class=\"data row16 col9\"></td>\n",
    "                        <td id=\"T_60b97682_d982_11e9_ac54_207918bb27e5row16_col10\" class=\"data row16 col10\"></td>\n",
    "                        <td id=\"T_60b97682_d982_11e9_ac54_207918bb27e5row16_col11\" class=\"data row16 col11\"></td>\n",
    "                        <td id=\"T_60b97682_d982_11e9_ac54_207918bb27e5row16_col12\" class=\"data row16 col12\"></td>\n",
    "                        <td id=\"T_60b97682_d982_11e9_ac54_207918bb27e5row16_col13\" class=\"data row16 col13\"></td>\n",
    "                        <td id=\"T_60b97682_d982_11e9_ac54_207918bb27e5row16_col14\" class=\"data row16 col14\"></td>\n",
    "                        <td id=\"T_60b97682_d982_11e9_ac54_207918bb27e5row16_col15\" class=\"data row16 col15\"></td>\n",
    "                        <td id=\"T_60b97682_d982_11e9_ac54_207918bb27e5row16_col16\" class=\"data row16 col16\">✅</td>\n",
    "                        <td id=\"T_60b97682_d982_11e9_ac54_207918bb27e5row16_col17\" class=\"data row16 col17\"></td>\n",
    "                        <td id=\"T_60b97682_d982_11e9_ac54_207918bb27e5row16_col18\" class=\"data row16 col18\"></td>\n",
    "                        <td id=\"T_60b97682_d982_11e9_ac54_207918bb27e5row16_col19\" class=\"data row16 col19\"></td>\n",
    "            </tr>\n",
    "            <tr>\n",
    "                        <th id=\"T_60b97682_d982_11e9_ac54_207918bb27e5level0_row17\" class=\"row_heading level0 row17\">[0]</th>\n",
    "                        <td id=\"T_60b97682_d982_11e9_ac54_207918bb27e5row17_col0\" class=\"data row17 col0\"></td>\n",
    "                        <td id=\"T_60b97682_d982_11e9_ac54_207918bb27e5row17_col1\" class=\"data row17 col1\"></td>\n",
    "                        <td id=\"T_60b97682_d982_11e9_ac54_207918bb27e5row17_col2\" class=\"data row17 col2\"></td>\n",
    "                        <td id=\"T_60b97682_d982_11e9_ac54_207918bb27e5row17_col3\" class=\"data row17 col3\"></td>\n",
    "                        <td id=\"T_60b97682_d982_11e9_ac54_207918bb27e5row17_col4\" class=\"data row17 col4\"></td>\n",
    "                        <td id=\"T_60b97682_d982_11e9_ac54_207918bb27e5row17_col5\" class=\"data row17 col5\"></td>\n",
    "                        <td id=\"T_60b97682_d982_11e9_ac54_207918bb27e5row17_col6\" class=\"data row17 col6\"></td>\n",
    "                        <td id=\"T_60b97682_d982_11e9_ac54_207918bb27e5row17_col7\" class=\"data row17 col7\"></td>\n",
    "                        <td id=\"T_60b97682_d982_11e9_ac54_207918bb27e5row17_col8\" class=\"data row17 col8\"></td>\n",
    "                        <td id=\"T_60b97682_d982_11e9_ac54_207918bb27e5row17_col9\" class=\"data row17 col9\"></td>\n",
    "                        <td id=\"T_60b97682_d982_11e9_ac54_207918bb27e5row17_col10\" class=\"data row17 col10\"></td>\n",
    "                        <td id=\"T_60b97682_d982_11e9_ac54_207918bb27e5row17_col11\" class=\"data row17 col11\"></td>\n",
    "                        <td id=\"T_60b97682_d982_11e9_ac54_207918bb27e5row17_col12\" class=\"data row17 col12\"></td>\n",
    "                        <td id=\"T_60b97682_d982_11e9_ac54_207918bb27e5row17_col13\" class=\"data row17 col13\"></td>\n",
    "                        <td id=\"T_60b97682_d982_11e9_ac54_207918bb27e5row17_col14\" class=\"data row17 col14\"></td>\n",
    "                        <td id=\"T_60b97682_d982_11e9_ac54_207918bb27e5row17_col15\" class=\"data row17 col15\"></td>\n",
    "                        <td id=\"T_60b97682_d982_11e9_ac54_207918bb27e5row17_col16\" class=\"data row17 col16\"></td>\n",
    "                        <td id=\"T_60b97682_d982_11e9_ac54_207918bb27e5row17_col17\" class=\"data row17 col17\">✅</td>\n",
    "                        <td id=\"T_60b97682_d982_11e9_ac54_207918bb27e5row17_col18\" class=\"data row17 col18\"></td>\n",
    "                        <td id=\"T_60b97682_d982_11e9_ac54_207918bb27e5row17_col19\" class=\"data row17 col19\"></td>\n",
    "            </tr>\n",
    "            <tr>\n",
    "                        <th id=\"T_60b97682_d982_11e9_ac54_207918bb27e5level0_row18\" class=\"row_heading level0 row18\">[1]</th>\n",
    "                        <td id=\"T_60b97682_d982_11e9_ac54_207918bb27e5row18_col0\" class=\"data row18 col0\"></td>\n",
    "                        <td id=\"T_60b97682_d982_11e9_ac54_207918bb27e5row18_col1\" class=\"data row18 col1\"></td>\n",
    "                        <td id=\"T_60b97682_d982_11e9_ac54_207918bb27e5row18_col2\" class=\"data row18 col2\"></td>\n",
    "                        <td id=\"T_60b97682_d982_11e9_ac54_207918bb27e5row18_col3\" class=\"data row18 col3\"></td>\n",
    "                        <td id=\"T_60b97682_d982_11e9_ac54_207918bb27e5row18_col4\" class=\"data row18 col4\"></td>\n",
    "                        <td id=\"T_60b97682_d982_11e9_ac54_207918bb27e5row18_col5\" class=\"data row18 col5\"></td>\n",
    "                        <td id=\"T_60b97682_d982_11e9_ac54_207918bb27e5row18_col6\" class=\"data row18 col6\"></td>\n",
    "                        <td id=\"T_60b97682_d982_11e9_ac54_207918bb27e5row18_col7\" class=\"data row18 col7\"></td>\n",
    "                        <td id=\"T_60b97682_d982_11e9_ac54_207918bb27e5row18_col8\" class=\"data row18 col8\"></td>\n",
    "                        <td id=\"T_60b97682_d982_11e9_ac54_207918bb27e5row18_col9\" class=\"data row18 col9\"></td>\n",
    "                        <td id=\"T_60b97682_d982_11e9_ac54_207918bb27e5row18_col10\" class=\"data row18 col10\"></td>\n",
    "                        <td id=\"T_60b97682_d982_11e9_ac54_207918bb27e5row18_col11\" class=\"data row18 col11\"></td>\n",
    "                        <td id=\"T_60b97682_d982_11e9_ac54_207918bb27e5row18_col12\" class=\"data row18 col12\"></td>\n",
    "                        <td id=\"T_60b97682_d982_11e9_ac54_207918bb27e5row18_col13\" class=\"data row18 col13\"></td>\n",
    "                        <td id=\"T_60b97682_d982_11e9_ac54_207918bb27e5row18_col14\" class=\"data row18 col14\"></td>\n",
    "                        <td id=\"T_60b97682_d982_11e9_ac54_207918bb27e5row18_col15\" class=\"data row18 col15\"></td>\n",
    "                        <td id=\"T_60b97682_d982_11e9_ac54_207918bb27e5row18_col16\" class=\"data row18 col16\"></td>\n",
    "                        <td id=\"T_60b97682_d982_11e9_ac54_207918bb27e5row18_col17\" class=\"data row18 col17\"></td>\n",
    "                        <td id=\"T_60b97682_d982_11e9_ac54_207918bb27e5row18_col18\" class=\"data row18 col18\">✅</td>\n",
    "                        <td id=\"T_60b97682_d982_11e9_ac54_207918bb27e5row18_col19\" class=\"data row18 col19\"></td>\n",
    "            </tr>\n",
    "            <tr>\n",
    "                        <th id=\"T_60b97682_d982_11e9_ac54_207918bb27e5level0_row19\" class=\"row_heading level0 row19\">nan</th>\n",
    "                        <td id=\"T_60b97682_d982_11e9_ac54_207918bb27e5row19_col0\" class=\"data row19 col0\"></td>\n",
    "                        <td id=\"T_60b97682_d982_11e9_ac54_207918bb27e5row19_col1\" class=\"data row19 col1\"></td>\n",
    "                        <td id=\"T_60b97682_d982_11e9_ac54_207918bb27e5row19_col2\" class=\"data row19 col2\"></td>\n",
    "                        <td id=\"T_60b97682_d982_11e9_ac54_207918bb27e5row19_col3\" class=\"data row19 col3\"></td>\n",
    "                        <td id=\"T_60b97682_d982_11e9_ac54_207918bb27e5row19_col4\" class=\"data row19 col4\"></td>\n",
    "                        <td id=\"T_60b97682_d982_11e9_ac54_207918bb27e5row19_col5\" class=\"data row19 col5\"></td>\n",
    "                        <td id=\"T_60b97682_d982_11e9_ac54_207918bb27e5row19_col6\" class=\"data row19 col6\"></td>\n",
    "                        <td id=\"T_60b97682_d982_11e9_ac54_207918bb27e5row19_col7\" class=\"data row19 col7\"></td>\n",
    "                        <td id=\"T_60b97682_d982_11e9_ac54_207918bb27e5row19_col8\" class=\"data row19 col8\"></td>\n",
    "                        <td id=\"T_60b97682_d982_11e9_ac54_207918bb27e5row19_col9\" class=\"data row19 col9\"></td>\n",
    "                        <td id=\"T_60b97682_d982_11e9_ac54_207918bb27e5row19_col10\" class=\"data row19 col10\"></td>\n",
    "                        <td id=\"T_60b97682_d982_11e9_ac54_207918bb27e5row19_col11\" class=\"data row19 col11\"></td>\n",
    "                        <td id=\"T_60b97682_d982_11e9_ac54_207918bb27e5row19_col12\" class=\"data row19 col12\"></td>\n",
    "                        <td id=\"T_60b97682_d982_11e9_ac54_207918bb27e5row19_col13\" class=\"data row19 col13\"></td>\n",
    "                        <td id=\"T_60b97682_d982_11e9_ac54_207918bb27e5row19_col14\" class=\"data row19 col14\"></td>\n",
    "                        <td id=\"T_60b97682_d982_11e9_ac54_207918bb27e5row19_col15\" class=\"data row19 col15\"></td>\n",
    "                        <td id=\"T_60b97682_d982_11e9_ac54_207918bb27e5row19_col16\" class=\"data row19 col16\"></td>\n",
    "                        <td id=\"T_60b97682_d982_11e9_ac54_207918bb27e5row19_col17\" class=\"data row19 col17\"></td>\n",
    "                        <td id=\"T_60b97682_d982_11e9_ac54_207918bb27e5row19_col18\" class=\"data row19 col18\"></td>\n",
    "                        <td id=\"T_60b97682_d982_11e9_ac54_207918bb27e5row19_col19\" class=\"data row19 col19\"></td>\n",
    "            </tr>\n",
    "    </tbody></table></div>"
   ]
  },
  {
   "cell_type": "markdown",
   "metadata": {},
   "source": [
    "Contrast with a weakly typed language https://dorey.github.io/JavaScript-Equality-Table/"
   ]
  },
  {
   "cell_type": "code",
   "execution_count": 1,
   "metadata": {
    "scrolled": false
   },
   "outputs": [
    {
     "data": {
      "text/plain": [
       "['', '', '✅', '✅', '✅', '✅', '', '', '', '']"
      ]
     },
     "execution_count": 1,
     "metadata": {},
     "output_type": "execute_result"
    }
   ],
   "source": [
    "[\"✅\" * (2 <= n < 6) for n in range(10)]"
   ]
  },
  {
   "cell_type": "code",
   "execution_count": 1,
   "metadata": {
    "scrolled": false
   },
   "outputs": [
    {
     "name": "stdout",
     "output_type": "stream",
     "text": [
      "short circuit\n"
     ]
    }
   ],
   "source": [
    "car = 'fast'\n",
    "if car == 'fast' or manners == 'good':\n",
    "    print('short circuit')"
   ]
  },
  {
   "cell_type": "code",
   "execution_count": 2,
   "metadata": {
    "scrolled": false
   },
   "outputs": [
    {
     "ename": "NameError",
     "evalue": "name 'manners' is not defined",
     "output_type": "error",
     "traceback": [
      "\u001b[0;31m---------------------------------------------------------------------------\u001b[0m",
      "\u001b[0;31mNameError\u001b[0m                                 Traceback (most recent call last)",
      "\u001b[0;32m<ipython-input-2-4d9c38b44d26>\u001b[0m in \u001b[0;36m<module>\u001b[0;34m\u001b[0m\n\u001b[0;32m----> 1\u001b[0;31m \u001b[0mmanners\u001b[0m\u001b[0;34m\u001b[0m\u001b[0;34m\u001b[0m\u001b[0m\n\u001b[0m",
      "\u001b[0;31mNameError\u001b[0m: name 'manners' is not defined"
     ]
    }
   ],
   "source": [
    "manners"
   ]
  },
  {
   "cell_type": "markdown",
   "metadata": {},
   "source": [
    "### ⏱⏱⏱ Performance Matters: Boolean operations\n",
    "\n",
    "- no lazy evaluation, use short circuit `and` and `or` with expensive comparisons last"
   ]
  },
  {
   "cell_type": "markdown",
   "metadata": {},
   "source": [
    "### Review\n",
    "- what builtin function can be used to request a response from the user?\n",
    "- what keyword is used for \"else if\"?\n",
    "- is an empty list considered True or False?"
   ]
  },
  {
   "cell_type": "markdown",
   "metadata": {},
   "source": [
    "## for, break, continue, else"
   ]
  },
  {
   "cell_type": "code",
   "execution_count": 39,
   "metadata": {
    "scrolled": false
   },
   "outputs": [
    {
     "name": "stdout",
     "output_type": "stream",
     "text": [
      "2 is a prime number\n",
      "3 is a prime number\n",
      "4 = 2 * 2\n",
      "5 is a prime number\n",
      "6 = 2 * 3\n",
      "7 is a prime number\n",
      "8 = 2 * 4\n",
      "9 = 3 * 3\n",
      "10 = 2 * 5\n",
      "11 is a prime number\n",
      "12 = 2 * 6\n",
      "13 is a prime number\n",
      "14 = 2 * 7\n",
      "15 = 3 * 5\n",
      "16 = 2 * 8\n",
      "17 is a prime number\n",
      "18 = 2 * 9\n",
      "19 is a prime number\n"
     ]
    }
   ],
   "source": [
    "primes = []\n",
    "\n",
    "for n in range(2, 20):\n",
    "    for x in primes:\n",
    "        if n % x == 0:\n",
    "            print(n, '=', x, '*', n // x)\n",
    "            break\n",
    "    else:\n",
    "        print(n, 'is a prime number')\n",
    "        primes.append(n)"
   ]
  },
  {
   "cell_type": "code",
   "execution_count": 5,
   "metadata": {
    "scrolled": false
   },
   "outputs": [
    {
     "name": "stdout",
     "output_type": "stream",
     "text": [
      "Found an even number 2\n",
      "Found a number 3\n",
      "Found an even number 4\n",
      "Found a number 5\n",
      "Found an even number 6\n",
      "Found a number 7\n",
      "Found an even number 8\n",
      "Found a number 9\n"
     ]
    }
   ],
   "source": [
    "for num in range(2, 10):\n",
    "    if num % 2 == 0:\n",
    "        print('Found an even number', num)\n",
    "        continue\n",
    "        \n",
    "    print('Found a number', num)"
   ]
  },
  {
   "cell_type": "markdown",
   "metadata": {},
   "source": [
    "### Review\n",
    "- how does `break` differ from `continue`?\n",
    "- when is an `else` block on a `for` loop executed?"
   ]
  },
  {
   "cell_type": "markdown",
   "metadata": {},
   "source": [
    "## try, except, else, finally"
   ]
  },
  {
   "cell_type": "code",
   "execution_count": 48,
   "metadata": {
    "scrolled": false
   },
   "outputs": [
    {
     "name": "stdout",
     "output_type": "stream",
     "text": [
      "Please enter a number: hello\n",
      "Not a valid number.  Try again...\n",
      "Please enter a number: 42\n"
     ]
    }
   ],
   "source": [
    "while True:\n",
    "    try:\n",
    "        x = int(input('Please enter a number: '))\n",
    "        break\n",
    "    except ValueError:\n",
    "        print('Not a valid number. Try again...')"
   ]
  },
  {
   "cell_type": "code",
   "execution_count": 9,
   "metadata": {
    "scrolled": false
   },
   "outputs": [
    {
     "name": "stdout",
     "output_type": "stream",
     "text": [
      "OS error: [Errno 2] No such file or directory: 'myfile.txt'\n"
     ]
    }
   ],
   "source": [
    "import sys\n",
    "\n",
    "try:\n",
    "    f = open('myfile.txt')\n",
    "    s = f.readline()\n",
    "    i = int(s.strip())\n",
    "except OSError as err:\n",
    "    print(f'OS error: {err}')\n",
    "except ValueError:\n",
    "    print('Could not convert data to an integer.')\n",
    "except Exception:\n",
    "    print('Unexpected error:', sys.exc_info()[0])\n",
    "    raise"
   ]
  },
  {
   "cell_type": "code",
   "execution_count": 12,
   "metadata": {
    "scrolled": false
   },
   "outputs": [
    {
     "name": "stdout",
     "output_type": "stream",
     "text": [
      "50 / q\n",
      "executing finally clause\n"
     ]
    },
    {
     "ename": "ValueError",
     "evalue": "invalid literal for int() with base 10: 'q'",
     "output_type": "error",
     "traceback": [
      "\u001b[0;31m---------------------------------------------------------------------------\u001b[0m",
      "\u001b[0;31mValueError\u001b[0m                                Traceback (most recent call last)",
      "\u001b[0;32m<ipython-input-12-f888a38fdc98>\u001b[0m in \u001b[0;36m<module>\u001b[0;34m\u001b[0m\n\u001b[1;32m      1\u001b[0m \u001b[0;32mtry\u001b[0m\u001b[0;34m:\u001b[0m\u001b[0;34m\u001b[0m\u001b[0;34m\u001b[0m\u001b[0m\n\u001b[1;32m      2\u001b[0m     \u001b[0my\u001b[0m \u001b[0;34m=\u001b[0m \u001b[0minput\u001b[0m\u001b[0;34m(\u001b[0m\u001b[0;34m'50 / '\u001b[0m\u001b[0;34m)\u001b[0m\u001b[0;34m\u001b[0m\u001b[0;34m\u001b[0m\u001b[0m\n\u001b[0;32m----> 3\u001b[0;31m     \u001b[0mresult\u001b[0m \u001b[0;34m=\u001b[0m \u001b[0;36m50\u001b[0m \u001b[0;34m/\u001b[0m \u001b[0mint\u001b[0m\u001b[0;34m(\u001b[0m\u001b[0my\u001b[0m\u001b[0;34m)\u001b[0m\u001b[0;34m\u001b[0m\u001b[0;34m\u001b[0m\u001b[0m\n\u001b[0m\u001b[1;32m      4\u001b[0m \u001b[0;32mexcept\u001b[0m \u001b[0mZeroDivisionError\u001b[0m\u001b[0;34m:\u001b[0m\u001b[0;34m\u001b[0m\u001b[0;34m\u001b[0m\u001b[0m\n\u001b[1;32m      5\u001b[0m     \u001b[0mprint\u001b[0m\u001b[0;34m(\u001b[0m\u001b[0;34m\"division by zero!\"\u001b[0m\u001b[0;34m)\u001b[0m\u001b[0;34m\u001b[0m\u001b[0;34m\u001b[0m\u001b[0m\n",
      "\u001b[0;31mValueError\u001b[0m: invalid literal for int() with base 10: 'q'"
     ]
    }
   ],
   "source": [
    "try:\n",
    "    y = input('50 / ')\n",
    "    result = 50 / int(y)\n",
    "except ZeroDivisionError:\n",
    "    print(\"division by zero!\")\n",
    "else:\n",
    "    print(\"result is\", result)\n",
    "finally:\n",
    "    print(\"executing finally clause\")"
   ]
  },
  {
   "cell_type": "markdown",
   "metadata": {},
   "source": [
    "### Review\n",
    "- when is an `else` block on a `try` block executed?\n",
    "- when is a `finally` block on a `try` block executed?"
   ]
  },
  {
   "cell_type": "markdown",
   "metadata": {},
   "source": [
    "## Functions"
   ]
  },
  {
   "cell_type": "code",
   "execution_count": 3,
   "metadata": {
    "scrolled": false
   },
   "outputs": [
    {
     "name": "stdout",
     "output_type": "stream",
     "text": [
      "0 1 1 2 3 5 8 13 21 34 55 89 144 233 377 610 987 1597 \n"
     ]
    }
   ],
   "source": [
    "def fib(n):\n",
    "    \"\"\"Print a Fibonacci series up to n.\"\"\"\n",
    "    a, b = 0, 1\n",
    "    while a < n:\n",
    "        print(a, end=' ')\n",
    "        a, b = b, a+b\n",
    "    print()\n",
    "\n",
    "fib(2000)"
   ]
  },
  {
   "cell_type": "code",
   "execution_count": 2,
   "metadata": {
    "scrolled": false
   },
   "outputs": [
    {
     "name": "stdout",
     "output_type": "stream",
     "text": [
      "Help on function fib in module __main__:\n",
      "\n",
      "fib(n) -> None\n",
      "    Print a Fibonacci series up to n.\n",
      "\n"
     ]
    }
   ],
   "source": [
    "help(fib)"
   ]
  },
  {
   "cell_type": "code",
   "execution_count": 23,
   "metadata": {
    "scrolled": false
   },
   "outputs": [],
   "source": [
    "def ask_ok(prompt, retries=4, reminder='Please try again!'):\n",
    "    while True:\n",
    "        ok = input(prompt + ' ').lower()\n",
    "        \n",
    "        if ok in ('y', 'ye', 'yes'):\n",
    "            return True\n",
    "        if ok in ('n', 'no', 'nop', 'nope'):\n",
    "            return False\n",
    "        \n",
    "        retries = retries - 1\n",
    "        if retries < 0:\n",
    "            raise ValueError('invalid user response')\n",
    "        print(reminder)"
   ]
  },
  {
   "cell_type": "markdown",
   "metadata": {},
   "source": [
    "### 🏠🏠🏠 Idiomatic Python: named parameters\n",
    "\n",
    "- don't put spaces around `=` in named parameters definitions or calls"
   ]
  },
  {
   "cell_type": "code",
   "execution_count": 24,
   "metadata": {
    "scrolled": false
   },
   "outputs": [
    {
     "name": "stdout",
     "output_type": "stream",
     "text": [
      "Do you really want to quit? yes\n"
     ]
    },
    {
     "data": {
      "text/plain": [
       "True"
      ]
     },
     "execution_count": 24,
     "metadata": {},
     "output_type": "execute_result"
    }
   ],
   "source": [
    "ask_ok('Do you really want to quit?')"
   ]
  },
  {
   "cell_type": "code",
   "execution_count": 27,
   "metadata": {
    "scrolled": false
   },
   "outputs": [
    {
     "name": "stdout",
     "output_type": "stream",
     "text": [
      "OK to overwrite the file? hmm\n",
      "Please try again!\n",
      "OK to overwrite the file? not sure\n"
     ]
    },
    {
     "ename": "ValueError",
     "evalue": "invalid user response",
     "output_type": "error",
     "traceback": [
      "\u001b[0;31m---------------------------------------------------------------------------\u001b[0m",
      "\u001b[0;31mValueError\u001b[0m                                Traceback (most recent call last)",
      "\u001b[0;32m<ipython-input-27-7c4820f88da8>\u001b[0m in \u001b[0;36m<module>\u001b[0;34m\u001b[0m\n\u001b[0;32m----> 1\u001b[0;31m \u001b[0mask_ok\u001b[0m\u001b[0;34m(\u001b[0m\u001b[0;34m'OK to overwrite the file?'\u001b[0m\u001b[0;34m,\u001b[0m \u001b[0;36m1\u001b[0m\u001b[0;34m)\u001b[0m\u001b[0;34m\u001b[0m\u001b[0;34m\u001b[0m\u001b[0m\n\u001b[0m",
      "\u001b[0;32m<ipython-input-23-7f06458e401b>\u001b[0m in \u001b[0;36mask_ok\u001b[0;34m(prompt, retries, reminder)\u001b[0m\n\u001b[1;32m      8\u001b[0m         \u001b[0mretries\u001b[0m \u001b[0;34m=\u001b[0m \u001b[0mretries\u001b[0m \u001b[0;34m-\u001b[0m \u001b[0;36m1\u001b[0m\u001b[0;34m\u001b[0m\u001b[0;34m\u001b[0m\u001b[0m\n\u001b[1;32m      9\u001b[0m         \u001b[0;32mif\u001b[0m \u001b[0mretries\u001b[0m \u001b[0;34m<\u001b[0m \u001b[0;36m0\u001b[0m\u001b[0;34m:\u001b[0m\u001b[0;34m\u001b[0m\u001b[0;34m\u001b[0m\u001b[0m\n\u001b[0;32m---> 10\u001b[0;31m             \u001b[0;32mraise\u001b[0m \u001b[0mValueError\u001b[0m\u001b[0;34m(\u001b[0m\u001b[0;34m'invalid user response'\u001b[0m\u001b[0;34m)\u001b[0m\u001b[0;34m\u001b[0m\u001b[0;34m\u001b[0m\u001b[0m\n\u001b[0m\u001b[1;32m     11\u001b[0m         \u001b[0mprint\u001b[0m\u001b[0;34m(\u001b[0m\u001b[0mreminder\u001b[0m\u001b[0;34m)\u001b[0m\u001b[0;34m\u001b[0m\u001b[0;34m\u001b[0m\u001b[0m\n",
      "\u001b[0;31mValueError\u001b[0m: invalid user response"
     ]
    }
   ],
   "source": [
    "ask_ok('OK to overwrite the file?', 1)"
   ]
  },
  {
   "cell_type": "code",
   "execution_count": 29,
   "metadata": {
    "scrolled": false
   },
   "outputs": [
    {
     "name": "stdout",
     "output_type": "stream",
     "text": [
      "OK to overwrite the file? yeah\n",
      "Come on, only yes or no!\n",
      "OK to overwrite the file? yes\n"
     ]
    },
    {
     "data": {
      "text/plain": [
       "True"
      ]
     },
     "execution_count": 29,
     "metadata": {},
     "output_type": "execute_result"
    }
   ],
   "source": [
    "ask_ok('OK to overwrite the file?', 1, 'Come on, only yes or no!')"
   ]
  },
  {
   "cell_type": "code",
   "execution_count": 31,
   "metadata": {
    "scrolled": false
   },
   "outputs": [
    {
     "name": "stdout",
     "output_type": "stream",
     "text": [
      "[1]\n",
      "[1, 2]\n",
      "[1, 2, 3]\n"
     ]
    }
   ],
   "source": [
    "def f(a, target=[]):  # Don't do this! Defaults only evaluated once!\n",
    "    target.append(a)\n",
    "    return target\n",
    "\n",
    "print(f(1))\n",
    "print(f(2))\n",
    "print(f(3))"
   ]
  },
  {
   "cell_type": "code",
   "execution_count": 32,
   "metadata": {
    "scrolled": false
   },
   "outputs": [],
   "source": [
    "def f(a, target=None):\n",
    "    if target is None:\n",
    "        target = []\n",
    "    target.append(a)\n",
    "    return target"
   ]
  },
  {
   "cell_type": "markdown",
   "metadata": {},
   "source": [
    "### 🏠🏠🏠 Idiomatic Python: Comparing None, True, False\n",
    "\n",
    "- use `if x is None:` or `if x is not None:` to check for this singleton\n",
    "- use `if x:` or `if not x:` for values expected to be True/False\n",
    "- use `bool(x)` to coerce True/False from any x\n",
    "- use `if x == y:` for other types"
   ]
  },
  {
   "cell_type": "code",
   "execution_count": 2,
   "metadata": {
    "scrolled": false
   },
   "outputs": [
    {
     "name": "stdout",
     "output_type": "stream",
     "text": [
      ">>>>>...............\n",
      ">>>>>>>>>>..........\n",
      ">>>>>>>>>>>>>>>.....\n"
     ]
    }
   ],
   "source": [
    "def progress(current, done=20, complete='>', incomplete='.'):\n",
    "    \"\"\"\n",
    "    Display a progress bar with current/done complete\n",
    "    \"\"\"\n",
    "    print(complete * current + incomplete * (done - current))\n",
    "\n",
    "progress(5)\n",
    "progress(10)\n",
    "progress(15)"
   ]
  },
  {
   "cell_type": "code",
   "execution_count": 7,
   "metadata": {
    "scrolled": false
   },
   "outputs": [
    {
     "name": "stdout",
     "output_type": "stream",
     "text": [
      "XXXXXXXXXXXXXXX.....\n",
      "XXXXXXXXXXXXXXX.....\n"
     ]
    }
   ],
   "source": [
    "progress(current=15, complete='X')\n",
    "progress(complete='X', current=15)"
   ]
  },
  {
   "cell_type": "code",
   "execution_count": 11,
   "metadata": {
    "scrolled": true
   },
   "outputs": [
    {
     "name": "stdout",
     "output_type": "stream",
     "text": [
      "➤➤➤➤➤➤➤➤➤➤➤➤➤➤➤➤➤➤➤➤◦◦◦◦◦\n"
     ]
    }
   ],
   "source": [
    "progress(20, 25, incomplete='◦', complete='➤')"
   ]
  },
  {
   "cell_type": "code",
   "execution_count": 13,
   "metadata": {
    "scrolled": true
   },
   "outputs": [
    {
     "ename": "TypeError",
     "evalue": "progress() missing 1 required positional argument: 'current'",
     "output_type": "error",
     "traceback": [
      "\u001b[0;31m---------------------------------------------------------------------------\u001b[0m",
      "\u001b[0;31mTypeError\u001b[0m                                 Traceback (most recent call last)",
      "\u001b[0;32m<ipython-input-13-886abcbd8418>\u001b[0m in \u001b[0;36m<module>\u001b[0;34m\u001b[0m\n\u001b[0;32m----> 1\u001b[0;31m \u001b[0mprogress\u001b[0m\u001b[0;34m(\u001b[0m\u001b[0;34m)\u001b[0m\u001b[0;34m\u001b[0m\u001b[0;34m\u001b[0m\u001b[0m\n\u001b[0m",
      "\u001b[0;31mTypeError\u001b[0m: progress() missing 1 required positional argument: 'current'"
     ]
    }
   ],
   "source": [
    "progress()"
   ]
  },
  {
   "cell_type": "code",
   "execution_count": 15,
   "metadata": {
    "scrolled": true
   },
   "outputs": [
    {
     "ename": "SyntaxError",
     "evalue": "positional argument follows keyword argument (<ipython-input-15-ca9616475e8a>, line 1)",
     "output_type": "error",
     "traceback": [
      "\u001b[0;36m  File \u001b[0;32m\"<ipython-input-15-ca9616475e8a>\"\u001b[0;36m, line \u001b[0;32m1\u001b[0m\n\u001b[0;31m    progress(complete='➤', 0)\u001b[0m\n\u001b[0m                            ^\u001b[0m\n\u001b[0;31mSyntaxError\u001b[0m\u001b[0;31m:\u001b[0m positional argument follows keyword argument\n"
     ]
    }
   ],
   "source": [
    "progress(complete='➤', 0)"
   ]
  },
  {
   "cell_type": "code",
   "execution_count": 16,
   "metadata": {
    "scrolled": true
   },
   "outputs": [
    {
     "ename": "TypeError",
     "evalue": "progress() got multiple values for argument 'current'",
     "output_type": "error",
     "traceback": [
      "\u001b[0;31m---------------------------------------------------------------------------\u001b[0m",
      "\u001b[0;31mTypeError\u001b[0m                                 Traceback (most recent call last)",
      "\u001b[0;32m<ipython-input-16-7c59c94be2f8>\u001b[0m in \u001b[0;36m<module>\u001b[0;34m\u001b[0m\n\u001b[0;32m----> 1\u001b[0;31m \u001b[0mprogress\u001b[0m\u001b[0;34m(\u001b[0m\u001b[0;36m10\u001b[0m\u001b[0;34m,\u001b[0m \u001b[0mcurrent\u001b[0m\u001b[0;34m=\u001b[0m\u001b[0;36m10\u001b[0m\u001b[0;34m)\u001b[0m\u001b[0;34m\u001b[0m\u001b[0;34m\u001b[0m\u001b[0m\n\u001b[0m",
      "\u001b[0;31mTypeError\u001b[0m: progress() got multiple values for argument 'current'"
     ]
    }
   ],
   "source": [
    "progress(10, current=10)"
   ]
  },
  {
   "cell_type": "code",
   "execution_count": 17,
   "metadata": {
    "scrolled": true
   },
   "outputs": [
    {
     "ename": "TypeError",
     "evalue": "progress() got an unexpected keyword argument 'colour'",
     "output_type": "error",
     "traceback": [
      "\u001b[0;31m---------------------------------------------------------------------------\u001b[0m",
      "\u001b[0;31mTypeError\u001b[0m                                 Traceback (most recent call last)",
      "\u001b[0;32m<ipython-input-17-bec1d491f01b>\u001b[0m in \u001b[0;36m<module>\u001b[0;34m\u001b[0m\n\u001b[0;32m----> 1\u001b[0;31m \u001b[0mprogress\u001b[0m\u001b[0;34m(\u001b[0m\u001b[0;36m20\u001b[0m\u001b[0;34m,\u001b[0m \u001b[0mcolour\u001b[0m\u001b[0;34m=\u001b[0m\u001b[0;34m'red'\u001b[0m\u001b[0;34m)\u001b[0m\u001b[0;34m\u001b[0m\u001b[0;34m\u001b[0m\u001b[0m\n\u001b[0m",
      "\u001b[0;31mTypeError\u001b[0m: progress() got an unexpected keyword argument 'colour'"
     ]
    }
   ],
   "source": [
    "progress(20, colour='red')"
   ]
  },
  {
   "cell_type": "code",
   "execution_count": 5,
   "metadata": {
    "scrolled": true
   },
   "outputs": [
    {
     "name": "stdout",
     "output_type": "stream",
     "text": [
      "<section>\n",
      "  <p>hello</p>\n",
      "</section>\n"
     ]
    }
   ],
   "source": [
    "def nested_tags(*arguments, **keywords):\n",
    "    \"\"\"\n",
    "    Display keyword args as tags nested in positional args\n",
    "    \"\"\"\n",
    "    tags = list(enumerate(arguments))\n",
    "    for i, tag in tags:\n",
    "        print('  ' * i + f'<{tag}>')\n",
    "    for tag, body in keywords.items():\n",
    "        print('  ' * i + f'  <{tag}>{body}</{tag}>')\n",
    "    for i, tag in reversed(tags):\n",
    "        print('  ' * i + f'</{tag}>')    \n",
    "\n",
    "nested_tags('section', p='hello')"
   ]
  },
  {
   "cell_type": "code",
   "execution_count": 6,
   "metadata": {},
   "outputs": [
    {
     "name": "stdout",
     "output_type": "stream",
     "text": [
      "<contact>\n",
      "  <work>\n",
      "    <address>\n",
      "      <street>123 anydrive</street>\n",
      "      <country>Canada</country>\n",
      "      <postal>a1a1a1</postal>\n",
      "    </address>\n",
      "  </work>\n",
      "</contact>\n"
     ]
    }
   ],
   "source": [
    "nested_tags(\n",
    "    'contact',\n",
    "    'work',\n",
    "    'address',\n",
    "    street='123 anydrive',\n",
    "    country='Canada',\n",
    "    postal='a1a1a1',\n",
    ")"
   ]
  },
  {
   "cell_type": "markdown",
   "metadata": {},
   "source": [
    "### 🏠🏠🏠 Idiomatic Python: Long Lines\n",
    "\n",
    "- wrap at 80 or so columns\n",
    "- indent one level, or align whole block to opening parenthesis\n",
    "- `\\` can be used to continue lines but `()` is preferred"
   ]
  },
  {
   "cell_type": "code",
   "execution_count": 17,
   "metadata": {
    "scrolled": false
   },
   "outputs": [
    {
     "data": {
      "text/plain": [
       "['1.5k', '100', '2.5M', '2M', '3k']"
      ]
     },
     "execution_count": 17,
     "metadata": {},
     "output_type": "execute_result"
    }
   ],
   "source": [
    "sorted([\"2.5M\", \"3k\", \"100\", \"1.5k\", \"2M\"])"
   ]
  },
  {
   "cell_type": "code",
   "execution_count": 16,
   "metadata": {
    "scrolled": false
   },
   "outputs": [
    {
     "data": {
      "text/plain": [
       "['100', '1.5k', '3k', '2M', '2.5M']"
      ]
     },
     "execution_count": 16,
     "metadata": {},
     "output_type": "execute_result"
    }
   ],
   "source": [
    "def numeric_key(num):\n",
    "    \"sort order for numbers with M, k suffixes\"\n",
    "    value = float(num.strip('Mk'))\n",
    "    if num.endswith('M'):\n",
    "        value *= 1000000\n",
    "    if num.endswith('k'):\n",
    "        value *= 1000\n",
    "    return value\n",
    "\n",
    "sorted([\"2.5M\", \"3k\", \"100\", \"1.5k\", \"2M\"], key=numeric_key)"
   ]
  },
  {
   "cell_type": "code",
   "execution_count": 15,
   "metadata": {
    "scrolled": false
   },
   "outputs": [
    {
     "data": {
      "text/plain": [
       "['$9', '$20', '$500', '$3000']"
      ]
     },
     "execution_count": 15,
     "metadata": {},
     "output_type": "execute_result"
    }
   ],
   "source": [
    "sorted(['$500', '$9', '$20', '$3000'],\n",
    "       key=lambda num: int(num.strip('$')))"
   ]
  },
  {
   "cell_type": "code",
   "execution_count": 37,
   "metadata": {
    "scrolled": false
   },
   "outputs": [
    {
     "data": {
      "text/plain": [
       "[3, 4, 5]"
      ]
     },
     "execution_count": 37,
     "metadata": {},
     "output_type": "execute_result"
    }
   ],
   "source": [
    "list(range(3, 6))"
   ]
  },
  {
   "cell_type": "code",
   "execution_count": 38,
   "metadata": {
    "scrolled": false
   },
   "outputs": [
    {
     "data": {
      "text/plain": [
       "[3, 4, 5]"
      ]
     },
     "execution_count": 38,
     "metadata": {},
     "output_type": "execute_result"
    }
   ],
   "source": [
    "args = [3, 6]\n",
    "list(range(*args))"
   ]
  },
  {
   "cell_type": "code",
   "execution_count": 40,
   "metadata": {
    "scrolled": false
   },
   "outputs": [
    {
     "name": "stdout",
     "output_type": "stream",
     "text": [
      "-- This parrot wouldn't VOOM if you put four million volts through it. E's bleedin' demised !\n"
     ]
    }
   ],
   "source": [
    "def parrot(voltage, state='a stiff', action='voom'):\n",
    "    print(\"-- This parrot wouldn't\", action, end=' ')\n",
    "    print(\"if you put\", voltage, \"volts through it.\", end=' ')\n",
    "    print(\"E's\", state, \"!\")\n",
    "\n",
    "d = {\n",
    "    \"voltage\": \"four million\",\n",
    "    \"state\": \"bleedin' demised\",\n",
    "    \"action\": \"VOOM\"}\n",
    "parrot(**d)"
   ]
  },
  {
   "cell_type": "markdown",
   "metadata": {},
   "source": [
    "### Review\n",
    "- what keyword is used for creating anonymous functions?\n",
    "- what sort of values should not be used as defaults?\n",
    "- how should you test for None values?"
   ]
  },
  {
   "cell_type": "markdown",
   "metadata": {},
   "source": [
    "### Exercise: shopping list\n",
    "- using `while True:` and `input()` create a shopping list interface allowing a user to enter multiple items then type DONE to exit\n",
    "- add a command to delete the last item in the list\n",
    "- add a command to print the current list\n",
    "- add a commands to save the list to a file and load from a file"
   ]
  },
  {
   "cell_type": "markdown",
   "metadata": {},
   "source": [
    "## Extra Material"
   ]
  },
  {
   "cell_type": "code",
   "execution_count": 21,
   "metadata": {
    "scrolled": false
   },
   "outputs": [
    {
     "data": {
      "text/html": [
       "<style  type=\"text/css\" >\n",
       "    #T_60b97682_d982_11e9_ac54_207918bb27e5 th {\n",
       "          max-width: 12px;\n",
       "    }    #T_60b97682_d982_11e9_ac54_207918bb27e5 th.col_heading {\n",
       "          writing-mode: vertical-rl;\n",
       "    }    #T_60b97682_d982_11e9_ac54_207918bb27e5 th:nth-child(1) {\n",
       "          max-width: 100px;\n",
       "    }</style><table id=\"T_60b97682_d982_11e9_ac54_207918bb27e5\" ><thead>    <tr>        <th class=\"blank level0\" ></th>        <th class=\"col_heading level0 col0\" >True</th>        <th class=\"col_heading level0 col1\" >False</th>        <th class=\"col_heading level0 col2\" >1</th>        <th class=\"col_heading level0 col3\" >0</th>        <th class=\"col_heading level0 col4\" >-1</th>        <th class=\"col_heading level0 col5\" >'True'</th>        <th class=\"col_heading level0 col6\" >'False'</th>        <th class=\"col_heading level0 col7\" >'1'</th>        <th class=\"col_heading level0 col8\" >'0'</th>        <th class=\"col_heading level0 col9\" >'-1'</th>        <th class=\"col_heading level0 col10\" >''</th>        <th class=\"col_heading level0 col11\" >None</th>        <th class=\"col_heading level0 col12\" >inf</th>        <th class=\"col_heading level0 col13\" >-inf</th>        <th class=\"col_heading level0 col14\" >[]</th>        <th class=\"col_heading level0 col15\" >{}</th>        <th class=\"col_heading level0 col16\" >[[]]</th>        <th class=\"col_heading level0 col17\" >[0]</th>        <th class=\"col_heading level0 col18\" >[1]</th>        <th class=\"col_heading level0 col19\" >nan</th>    </tr></thead><tbody>\n",
       "                <tr>\n",
       "                        <th id=\"T_60b97682_d982_11e9_ac54_207918bb27e5level0_row0\" class=\"row_heading level0 row0\" >True</th>\n",
       "                        <td id=\"T_60b97682_d982_11e9_ac54_207918bb27e5row0_col0\" class=\"data row0 col0\" >✅</td>\n",
       "                        <td id=\"T_60b97682_d982_11e9_ac54_207918bb27e5row0_col1\" class=\"data row0 col1\" ></td>\n",
       "                        <td id=\"T_60b97682_d982_11e9_ac54_207918bb27e5row0_col2\" class=\"data row0 col2\" >✅</td>\n",
       "                        <td id=\"T_60b97682_d982_11e9_ac54_207918bb27e5row0_col3\" class=\"data row0 col3\" ></td>\n",
       "                        <td id=\"T_60b97682_d982_11e9_ac54_207918bb27e5row0_col4\" class=\"data row0 col4\" ></td>\n",
       "                        <td id=\"T_60b97682_d982_11e9_ac54_207918bb27e5row0_col5\" class=\"data row0 col5\" ></td>\n",
       "                        <td id=\"T_60b97682_d982_11e9_ac54_207918bb27e5row0_col6\" class=\"data row0 col6\" ></td>\n",
       "                        <td id=\"T_60b97682_d982_11e9_ac54_207918bb27e5row0_col7\" class=\"data row0 col7\" ></td>\n",
       "                        <td id=\"T_60b97682_d982_11e9_ac54_207918bb27e5row0_col8\" class=\"data row0 col8\" ></td>\n",
       "                        <td id=\"T_60b97682_d982_11e9_ac54_207918bb27e5row0_col9\" class=\"data row0 col9\" ></td>\n",
       "                        <td id=\"T_60b97682_d982_11e9_ac54_207918bb27e5row0_col10\" class=\"data row0 col10\" ></td>\n",
       "                        <td id=\"T_60b97682_d982_11e9_ac54_207918bb27e5row0_col11\" class=\"data row0 col11\" ></td>\n",
       "                        <td id=\"T_60b97682_d982_11e9_ac54_207918bb27e5row0_col12\" class=\"data row0 col12\" ></td>\n",
       "                        <td id=\"T_60b97682_d982_11e9_ac54_207918bb27e5row0_col13\" class=\"data row0 col13\" ></td>\n",
       "                        <td id=\"T_60b97682_d982_11e9_ac54_207918bb27e5row0_col14\" class=\"data row0 col14\" ></td>\n",
       "                        <td id=\"T_60b97682_d982_11e9_ac54_207918bb27e5row0_col15\" class=\"data row0 col15\" ></td>\n",
       "                        <td id=\"T_60b97682_d982_11e9_ac54_207918bb27e5row0_col16\" class=\"data row0 col16\" ></td>\n",
       "                        <td id=\"T_60b97682_d982_11e9_ac54_207918bb27e5row0_col17\" class=\"data row0 col17\" ></td>\n",
       "                        <td id=\"T_60b97682_d982_11e9_ac54_207918bb27e5row0_col18\" class=\"data row0 col18\" ></td>\n",
       "                        <td id=\"T_60b97682_d982_11e9_ac54_207918bb27e5row0_col19\" class=\"data row0 col19\" ></td>\n",
       "            </tr>\n",
       "            <tr>\n",
       "                        <th id=\"T_60b97682_d982_11e9_ac54_207918bb27e5level0_row1\" class=\"row_heading level0 row1\" >False</th>\n",
       "                        <td id=\"T_60b97682_d982_11e9_ac54_207918bb27e5row1_col0\" class=\"data row1 col0\" ></td>\n",
       "                        <td id=\"T_60b97682_d982_11e9_ac54_207918bb27e5row1_col1\" class=\"data row1 col1\" >✅</td>\n",
       "                        <td id=\"T_60b97682_d982_11e9_ac54_207918bb27e5row1_col2\" class=\"data row1 col2\" ></td>\n",
       "                        <td id=\"T_60b97682_d982_11e9_ac54_207918bb27e5row1_col3\" class=\"data row1 col3\" >✅</td>\n",
       "                        <td id=\"T_60b97682_d982_11e9_ac54_207918bb27e5row1_col4\" class=\"data row1 col4\" ></td>\n",
       "                        <td id=\"T_60b97682_d982_11e9_ac54_207918bb27e5row1_col5\" class=\"data row1 col5\" ></td>\n",
       "                        <td id=\"T_60b97682_d982_11e9_ac54_207918bb27e5row1_col6\" class=\"data row1 col6\" ></td>\n",
       "                        <td id=\"T_60b97682_d982_11e9_ac54_207918bb27e5row1_col7\" class=\"data row1 col7\" ></td>\n",
       "                        <td id=\"T_60b97682_d982_11e9_ac54_207918bb27e5row1_col8\" class=\"data row1 col8\" ></td>\n",
       "                        <td id=\"T_60b97682_d982_11e9_ac54_207918bb27e5row1_col9\" class=\"data row1 col9\" ></td>\n",
       "                        <td id=\"T_60b97682_d982_11e9_ac54_207918bb27e5row1_col10\" class=\"data row1 col10\" ></td>\n",
       "                        <td id=\"T_60b97682_d982_11e9_ac54_207918bb27e5row1_col11\" class=\"data row1 col11\" ></td>\n",
       "                        <td id=\"T_60b97682_d982_11e9_ac54_207918bb27e5row1_col12\" class=\"data row1 col12\" ></td>\n",
       "                        <td id=\"T_60b97682_d982_11e9_ac54_207918bb27e5row1_col13\" class=\"data row1 col13\" ></td>\n",
       "                        <td id=\"T_60b97682_d982_11e9_ac54_207918bb27e5row1_col14\" class=\"data row1 col14\" ></td>\n",
       "                        <td id=\"T_60b97682_d982_11e9_ac54_207918bb27e5row1_col15\" class=\"data row1 col15\" ></td>\n",
       "                        <td id=\"T_60b97682_d982_11e9_ac54_207918bb27e5row1_col16\" class=\"data row1 col16\" ></td>\n",
       "                        <td id=\"T_60b97682_d982_11e9_ac54_207918bb27e5row1_col17\" class=\"data row1 col17\" ></td>\n",
       "                        <td id=\"T_60b97682_d982_11e9_ac54_207918bb27e5row1_col18\" class=\"data row1 col18\" ></td>\n",
       "                        <td id=\"T_60b97682_d982_11e9_ac54_207918bb27e5row1_col19\" class=\"data row1 col19\" ></td>\n",
       "            </tr>\n",
       "            <tr>\n",
       "                        <th id=\"T_60b97682_d982_11e9_ac54_207918bb27e5level0_row2\" class=\"row_heading level0 row2\" >1</th>\n",
       "                        <td id=\"T_60b97682_d982_11e9_ac54_207918bb27e5row2_col0\" class=\"data row2 col0\" >✅</td>\n",
       "                        <td id=\"T_60b97682_d982_11e9_ac54_207918bb27e5row2_col1\" class=\"data row2 col1\" ></td>\n",
       "                        <td id=\"T_60b97682_d982_11e9_ac54_207918bb27e5row2_col2\" class=\"data row2 col2\" >✅</td>\n",
       "                        <td id=\"T_60b97682_d982_11e9_ac54_207918bb27e5row2_col3\" class=\"data row2 col3\" ></td>\n",
       "                        <td id=\"T_60b97682_d982_11e9_ac54_207918bb27e5row2_col4\" class=\"data row2 col4\" ></td>\n",
       "                        <td id=\"T_60b97682_d982_11e9_ac54_207918bb27e5row2_col5\" class=\"data row2 col5\" ></td>\n",
       "                        <td id=\"T_60b97682_d982_11e9_ac54_207918bb27e5row2_col6\" class=\"data row2 col6\" ></td>\n",
       "                        <td id=\"T_60b97682_d982_11e9_ac54_207918bb27e5row2_col7\" class=\"data row2 col7\" ></td>\n",
       "                        <td id=\"T_60b97682_d982_11e9_ac54_207918bb27e5row2_col8\" class=\"data row2 col8\" ></td>\n",
       "                        <td id=\"T_60b97682_d982_11e9_ac54_207918bb27e5row2_col9\" class=\"data row2 col9\" ></td>\n",
       "                        <td id=\"T_60b97682_d982_11e9_ac54_207918bb27e5row2_col10\" class=\"data row2 col10\" ></td>\n",
       "                        <td id=\"T_60b97682_d982_11e9_ac54_207918bb27e5row2_col11\" class=\"data row2 col11\" ></td>\n",
       "                        <td id=\"T_60b97682_d982_11e9_ac54_207918bb27e5row2_col12\" class=\"data row2 col12\" ></td>\n",
       "                        <td id=\"T_60b97682_d982_11e9_ac54_207918bb27e5row2_col13\" class=\"data row2 col13\" ></td>\n",
       "                        <td id=\"T_60b97682_d982_11e9_ac54_207918bb27e5row2_col14\" class=\"data row2 col14\" ></td>\n",
       "                        <td id=\"T_60b97682_d982_11e9_ac54_207918bb27e5row2_col15\" class=\"data row2 col15\" ></td>\n",
       "                        <td id=\"T_60b97682_d982_11e9_ac54_207918bb27e5row2_col16\" class=\"data row2 col16\" ></td>\n",
       "                        <td id=\"T_60b97682_d982_11e9_ac54_207918bb27e5row2_col17\" class=\"data row2 col17\" ></td>\n",
       "                        <td id=\"T_60b97682_d982_11e9_ac54_207918bb27e5row2_col18\" class=\"data row2 col18\" ></td>\n",
       "                        <td id=\"T_60b97682_d982_11e9_ac54_207918bb27e5row2_col19\" class=\"data row2 col19\" ></td>\n",
       "            </tr>\n",
       "            <tr>\n",
       "                        <th id=\"T_60b97682_d982_11e9_ac54_207918bb27e5level0_row3\" class=\"row_heading level0 row3\" >0</th>\n",
       "                        <td id=\"T_60b97682_d982_11e9_ac54_207918bb27e5row3_col0\" class=\"data row3 col0\" ></td>\n",
       "                        <td id=\"T_60b97682_d982_11e9_ac54_207918bb27e5row3_col1\" class=\"data row3 col1\" >✅</td>\n",
       "                        <td id=\"T_60b97682_d982_11e9_ac54_207918bb27e5row3_col2\" class=\"data row3 col2\" ></td>\n",
       "                        <td id=\"T_60b97682_d982_11e9_ac54_207918bb27e5row3_col3\" class=\"data row3 col3\" >✅</td>\n",
       "                        <td id=\"T_60b97682_d982_11e9_ac54_207918bb27e5row3_col4\" class=\"data row3 col4\" ></td>\n",
       "                        <td id=\"T_60b97682_d982_11e9_ac54_207918bb27e5row3_col5\" class=\"data row3 col5\" ></td>\n",
       "                        <td id=\"T_60b97682_d982_11e9_ac54_207918bb27e5row3_col6\" class=\"data row3 col6\" ></td>\n",
       "                        <td id=\"T_60b97682_d982_11e9_ac54_207918bb27e5row3_col7\" class=\"data row3 col7\" ></td>\n",
       "                        <td id=\"T_60b97682_d982_11e9_ac54_207918bb27e5row3_col8\" class=\"data row3 col8\" ></td>\n",
       "                        <td id=\"T_60b97682_d982_11e9_ac54_207918bb27e5row3_col9\" class=\"data row3 col9\" ></td>\n",
       "                        <td id=\"T_60b97682_d982_11e9_ac54_207918bb27e5row3_col10\" class=\"data row3 col10\" ></td>\n",
       "                        <td id=\"T_60b97682_d982_11e9_ac54_207918bb27e5row3_col11\" class=\"data row3 col11\" ></td>\n",
       "                        <td id=\"T_60b97682_d982_11e9_ac54_207918bb27e5row3_col12\" class=\"data row3 col12\" ></td>\n",
       "                        <td id=\"T_60b97682_d982_11e9_ac54_207918bb27e5row3_col13\" class=\"data row3 col13\" ></td>\n",
       "                        <td id=\"T_60b97682_d982_11e9_ac54_207918bb27e5row3_col14\" class=\"data row3 col14\" ></td>\n",
       "                        <td id=\"T_60b97682_d982_11e9_ac54_207918bb27e5row3_col15\" class=\"data row3 col15\" ></td>\n",
       "                        <td id=\"T_60b97682_d982_11e9_ac54_207918bb27e5row3_col16\" class=\"data row3 col16\" ></td>\n",
       "                        <td id=\"T_60b97682_d982_11e9_ac54_207918bb27e5row3_col17\" class=\"data row3 col17\" ></td>\n",
       "                        <td id=\"T_60b97682_d982_11e9_ac54_207918bb27e5row3_col18\" class=\"data row3 col18\" ></td>\n",
       "                        <td id=\"T_60b97682_d982_11e9_ac54_207918bb27e5row3_col19\" class=\"data row3 col19\" ></td>\n",
       "            </tr>\n",
       "            <tr>\n",
       "                        <th id=\"T_60b97682_d982_11e9_ac54_207918bb27e5level0_row4\" class=\"row_heading level0 row4\" >-1</th>\n",
       "                        <td id=\"T_60b97682_d982_11e9_ac54_207918bb27e5row4_col0\" class=\"data row4 col0\" ></td>\n",
       "                        <td id=\"T_60b97682_d982_11e9_ac54_207918bb27e5row4_col1\" class=\"data row4 col1\" ></td>\n",
       "                        <td id=\"T_60b97682_d982_11e9_ac54_207918bb27e5row4_col2\" class=\"data row4 col2\" ></td>\n",
       "                        <td id=\"T_60b97682_d982_11e9_ac54_207918bb27e5row4_col3\" class=\"data row4 col3\" ></td>\n",
       "                        <td id=\"T_60b97682_d982_11e9_ac54_207918bb27e5row4_col4\" class=\"data row4 col4\" >✅</td>\n",
       "                        <td id=\"T_60b97682_d982_11e9_ac54_207918bb27e5row4_col5\" class=\"data row4 col5\" ></td>\n",
       "                        <td id=\"T_60b97682_d982_11e9_ac54_207918bb27e5row4_col6\" class=\"data row4 col6\" ></td>\n",
       "                        <td id=\"T_60b97682_d982_11e9_ac54_207918bb27e5row4_col7\" class=\"data row4 col7\" ></td>\n",
       "                        <td id=\"T_60b97682_d982_11e9_ac54_207918bb27e5row4_col8\" class=\"data row4 col8\" ></td>\n",
       "                        <td id=\"T_60b97682_d982_11e9_ac54_207918bb27e5row4_col9\" class=\"data row4 col9\" ></td>\n",
       "                        <td id=\"T_60b97682_d982_11e9_ac54_207918bb27e5row4_col10\" class=\"data row4 col10\" ></td>\n",
       "                        <td id=\"T_60b97682_d982_11e9_ac54_207918bb27e5row4_col11\" class=\"data row4 col11\" ></td>\n",
       "                        <td id=\"T_60b97682_d982_11e9_ac54_207918bb27e5row4_col12\" class=\"data row4 col12\" ></td>\n",
       "                        <td id=\"T_60b97682_d982_11e9_ac54_207918bb27e5row4_col13\" class=\"data row4 col13\" ></td>\n",
       "                        <td id=\"T_60b97682_d982_11e9_ac54_207918bb27e5row4_col14\" class=\"data row4 col14\" ></td>\n",
       "                        <td id=\"T_60b97682_d982_11e9_ac54_207918bb27e5row4_col15\" class=\"data row4 col15\" ></td>\n",
       "                        <td id=\"T_60b97682_d982_11e9_ac54_207918bb27e5row4_col16\" class=\"data row4 col16\" ></td>\n",
       "                        <td id=\"T_60b97682_d982_11e9_ac54_207918bb27e5row4_col17\" class=\"data row4 col17\" ></td>\n",
       "                        <td id=\"T_60b97682_d982_11e9_ac54_207918bb27e5row4_col18\" class=\"data row4 col18\" ></td>\n",
       "                        <td id=\"T_60b97682_d982_11e9_ac54_207918bb27e5row4_col19\" class=\"data row4 col19\" ></td>\n",
       "            </tr>\n",
       "            <tr>\n",
       "                        <th id=\"T_60b97682_d982_11e9_ac54_207918bb27e5level0_row5\" class=\"row_heading level0 row5\" >'True'</th>\n",
       "                        <td id=\"T_60b97682_d982_11e9_ac54_207918bb27e5row5_col0\" class=\"data row5 col0\" ></td>\n",
       "                        <td id=\"T_60b97682_d982_11e9_ac54_207918bb27e5row5_col1\" class=\"data row5 col1\" ></td>\n",
       "                        <td id=\"T_60b97682_d982_11e9_ac54_207918bb27e5row5_col2\" class=\"data row5 col2\" ></td>\n",
       "                        <td id=\"T_60b97682_d982_11e9_ac54_207918bb27e5row5_col3\" class=\"data row5 col3\" ></td>\n",
       "                        <td id=\"T_60b97682_d982_11e9_ac54_207918bb27e5row5_col4\" class=\"data row5 col4\" ></td>\n",
       "                        <td id=\"T_60b97682_d982_11e9_ac54_207918bb27e5row5_col5\" class=\"data row5 col5\" >✅</td>\n",
       "                        <td id=\"T_60b97682_d982_11e9_ac54_207918bb27e5row5_col6\" class=\"data row5 col6\" ></td>\n",
       "                        <td id=\"T_60b97682_d982_11e9_ac54_207918bb27e5row5_col7\" class=\"data row5 col7\" ></td>\n",
       "                        <td id=\"T_60b97682_d982_11e9_ac54_207918bb27e5row5_col8\" class=\"data row5 col8\" ></td>\n",
       "                        <td id=\"T_60b97682_d982_11e9_ac54_207918bb27e5row5_col9\" class=\"data row5 col9\" ></td>\n",
       "                        <td id=\"T_60b97682_d982_11e9_ac54_207918bb27e5row5_col10\" class=\"data row5 col10\" ></td>\n",
       "                        <td id=\"T_60b97682_d982_11e9_ac54_207918bb27e5row5_col11\" class=\"data row5 col11\" ></td>\n",
       "                        <td id=\"T_60b97682_d982_11e9_ac54_207918bb27e5row5_col12\" class=\"data row5 col12\" ></td>\n",
       "                        <td id=\"T_60b97682_d982_11e9_ac54_207918bb27e5row5_col13\" class=\"data row5 col13\" ></td>\n",
       "                        <td id=\"T_60b97682_d982_11e9_ac54_207918bb27e5row5_col14\" class=\"data row5 col14\" ></td>\n",
       "                        <td id=\"T_60b97682_d982_11e9_ac54_207918bb27e5row5_col15\" class=\"data row5 col15\" ></td>\n",
       "                        <td id=\"T_60b97682_d982_11e9_ac54_207918bb27e5row5_col16\" class=\"data row5 col16\" ></td>\n",
       "                        <td id=\"T_60b97682_d982_11e9_ac54_207918bb27e5row5_col17\" class=\"data row5 col17\" ></td>\n",
       "                        <td id=\"T_60b97682_d982_11e9_ac54_207918bb27e5row5_col18\" class=\"data row5 col18\" ></td>\n",
       "                        <td id=\"T_60b97682_d982_11e9_ac54_207918bb27e5row5_col19\" class=\"data row5 col19\" ></td>\n",
       "            </tr>\n",
       "            <tr>\n",
       "                        <th id=\"T_60b97682_d982_11e9_ac54_207918bb27e5level0_row6\" class=\"row_heading level0 row6\" >'False'</th>\n",
       "                        <td id=\"T_60b97682_d982_11e9_ac54_207918bb27e5row6_col0\" class=\"data row6 col0\" ></td>\n",
       "                        <td id=\"T_60b97682_d982_11e9_ac54_207918bb27e5row6_col1\" class=\"data row6 col1\" ></td>\n",
       "                        <td id=\"T_60b97682_d982_11e9_ac54_207918bb27e5row6_col2\" class=\"data row6 col2\" ></td>\n",
       "                        <td id=\"T_60b97682_d982_11e9_ac54_207918bb27e5row6_col3\" class=\"data row6 col3\" ></td>\n",
       "                        <td id=\"T_60b97682_d982_11e9_ac54_207918bb27e5row6_col4\" class=\"data row6 col4\" ></td>\n",
       "                        <td id=\"T_60b97682_d982_11e9_ac54_207918bb27e5row6_col5\" class=\"data row6 col5\" ></td>\n",
       "                        <td id=\"T_60b97682_d982_11e9_ac54_207918bb27e5row6_col6\" class=\"data row6 col6\" >✅</td>\n",
       "                        <td id=\"T_60b97682_d982_11e9_ac54_207918bb27e5row6_col7\" class=\"data row6 col7\" ></td>\n",
       "                        <td id=\"T_60b97682_d982_11e9_ac54_207918bb27e5row6_col8\" class=\"data row6 col8\" ></td>\n",
       "                        <td id=\"T_60b97682_d982_11e9_ac54_207918bb27e5row6_col9\" class=\"data row6 col9\" ></td>\n",
       "                        <td id=\"T_60b97682_d982_11e9_ac54_207918bb27e5row6_col10\" class=\"data row6 col10\" ></td>\n",
       "                        <td id=\"T_60b97682_d982_11e9_ac54_207918bb27e5row6_col11\" class=\"data row6 col11\" ></td>\n",
       "                        <td id=\"T_60b97682_d982_11e9_ac54_207918bb27e5row6_col12\" class=\"data row6 col12\" ></td>\n",
       "                        <td id=\"T_60b97682_d982_11e9_ac54_207918bb27e5row6_col13\" class=\"data row6 col13\" ></td>\n",
       "                        <td id=\"T_60b97682_d982_11e9_ac54_207918bb27e5row6_col14\" class=\"data row6 col14\" ></td>\n",
       "                        <td id=\"T_60b97682_d982_11e9_ac54_207918bb27e5row6_col15\" class=\"data row6 col15\" ></td>\n",
       "                        <td id=\"T_60b97682_d982_11e9_ac54_207918bb27e5row6_col16\" class=\"data row6 col16\" ></td>\n",
       "                        <td id=\"T_60b97682_d982_11e9_ac54_207918bb27e5row6_col17\" class=\"data row6 col17\" ></td>\n",
       "                        <td id=\"T_60b97682_d982_11e9_ac54_207918bb27e5row6_col18\" class=\"data row6 col18\" ></td>\n",
       "                        <td id=\"T_60b97682_d982_11e9_ac54_207918bb27e5row6_col19\" class=\"data row6 col19\" ></td>\n",
       "            </tr>\n",
       "            <tr>\n",
       "                        <th id=\"T_60b97682_d982_11e9_ac54_207918bb27e5level0_row7\" class=\"row_heading level0 row7\" >'1'</th>\n",
       "                        <td id=\"T_60b97682_d982_11e9_ac54_207918bb27e5row7_col0\" class=\"data row7 col0\" ></td>\n",
       "                        <td id=\"T_60b97682_d982_11e9_ac54_207918bb27e5row7_col1\" class=\"data row7 col1\" ></td>\n",
       "                        <td id=\"T_60b97682_d982_11e9_ac54_207918bb27e5row7_col2\" class=\"data row7 col2\" ></td>\n",
       "                        <td id=\"T_60b97682_d982_11e9_ac54_207918bb27e5row7_col3\" class=\"data row7 col3\" ></td>\n",
       "                        <td id=\"T_60b97682_d982_11e9_ac54_207918bb27e5row7_col4\" class=\"data row7 col4\" ></td>\n",
       "                        <td id=\"T_60b97682_d982_11e9_ac54_207918bb27e5row7_col5\" class=\"data row7 col5\" ></td>\n",
       "                        <td id=\"T_60b97682_d982_11e9_ac54_207918bb27e5row7_col6\" class=\"data row7 col6\" ></td>\n",
       "                        <td id=\"T_60b97682_d982_11e9_ac54_207918bb27e5row7_col7\" class=\"data row7 col7\" >✅</td>\n",
       "                        <td id=\"T_60b97682_d982_11e9_ac54_207918bb27e5row7_col8\" class=\"data row7 col8\" ></td>\n",
       "                        <td id=\"T_60b97682_d982_11e9_ac54_207918bb27e5row7_col9\" class=\"data row7 col9\" ></td>\n",
       "                        <td id=\"T_60b97682_d982_11e9_ac54_207918bb27e5row7_col10\" class=\"data row7 col10\" ></td>\n",
       "                        <td id=\"T_60b97682_d982_11e9_ac54_207918bb27e5row7_col11\" class=\"data row7 col11\" ></td>\n",
       "                        <td id=\"T_60b97682_d982_11e9_ac54_207918bb27e5row7_col12\" class=\"data row7 col12\" ></td>\n",
       "                        <td id=\"T_60b97682_d982_11e9_ac54_207918bb27e5row7_col13\" class=\"data row7 col13\" ></td>\n",
       "                        <td id=\"T_60b97682_d982_11e9_ac54_207918bb27e5row7_col14\" class=\"data row7 col14\" ></td>\n",
       "                        <td id=\"T_60b97682_d982_11e9_ac54_207918bb27e5row7_col15\" class=\"data row7 col15\" ></td>\n",
       "                        <td id=\"T_60b97682_d982_11e9_ac54_207918bb27e5row7_col16\" class=\"data row7 col16\" ></td>\n",
       "                        <td id=\"T_60b97682_d982_11e9_ac54_207918bb27e5row7_col17\" class=\"data row7 col17\" ></td>\n",
       "                        <td id=\"T_60b97682_d982_11e9_ac54_207918bb27e5row7_col18\" class=\"data row7 col18\" ></td>\n",
       "                        <td id=\"T_60b97682_d982_11e9_ac54_207918bb27e5row7_col19\" class=\"data row7 col19\" ></td>\n",
       "            </tr>\n",
       "            <tr>\n",
       "                        <th id=\"T_60b97682_d982_11e9_ac54_207918bb27e5level0_row8\" class=\"row_heading level0 row8\" >'0'</th>\n",
       "                        <td id=\"T_60b97682_d982_11e9_ac54_207918bb27e5row8_col0\" class=\"data row8 col0\" ></td>\n",
       "                        <td id=\"T_60b97682_d982_11e9_ac54_207918bb27e5row8_col1\" class=\"data row8 col1\" ></td>\n",
       "                        <td id=\"T_60b97682_d982_11e9_ac54_207918bb27e5row8_col2\" class=\"data row8 col2\" ></td>\n",
       "                        <td id=\"T_60b97682_d982_11e9_ac54_207918bb27e5row8_col3\" class=\"data row8 col3\" ></td>\n",
       "                        <td id=\"T_60b97682_d982_11e9_ac54_207918bb27e5row8_col4\" class=\"data row8 col4\" ></td>\n",
       "                        <td id=\"T_60b97682_d982_11e9_ac54_207918bb27e5row8_col5\" class=\"data row8 col5\" ></td>\n",
       "                        <td id=\"T_60b97682_d982_11e9_ac54_207918bb27e5row8_col6\" class=\"data row8 col6\" ></td>\n",
       "                        <td id=\"T_60b97682_d982_11e9_ac54_207918bb27e5row8_col7\" class=\"data row8 col7\" ></td>\n",
       "                        <td id=\"T_60b97682_d982_11e9_ac54_207918bb27e5row8_col8\" class=\"data row8 col8\" >✅</td>\n",
       "                        <td id=\"T_60b97682_d982_11e9_ac54_207918bb27e5row8_col9\" class=\"data row8 col9\" ></td>\n",
       "                        <td id=\"T_60b97682_d982_11e9_ac54_207918bb27e5row8_col10\" class=\"data row8 col10\" ></td>\n",
       "                        <td id=\"T_60b97682_d982_11e9_ac54_207918bb27e5row8_col11\" class=\"data row8 col11\" ></td>\n",
       "                        <td id=\"T_60b97682_d982_11e9_ac54_207918bb27e5row8_col12\" class=\"data row8 col12\" ></td>\n",
       "                        <td id=\"T_60b97682_d982_11e9_ac54_207918bb27e5row8_col13\" class=\"data row8 col13\" ></td>\n",
       "                        <td id=\"T_60b97682_d982_11e9_ac54_207918bb27e5row8_col14\" class=\"data row8 col14\" ></td>\n",
       "                        <td id=\"T_60b97682_d982_11e9_ac54_207918bb27e5row8_col15\" class=\"data row8 col15\" ></td>\n",
       "                        <td id=\"T_60b97682_d982_11e9_ac54_207918bb27e5row8_col16\" class=\"data row8 col16\" ></td>\n",
       "                        <td id=\"T_60b97682_d982_11e9_ac54_207918bb27e5row8_col17\" class=\"data row8 col17\" ></td>\n",
       "                        <td id=\"T_60b97682_d982_11e9_ac54_207918bb27e5row8_col18\" class=\"data row8 col18\" ></td>\n",
       "                        <td id=\"T_60b97682_d982_11e9_ac54_207918bb27e5row8_col19\" class=\"data row8 col19\" ></td>\n",
       "            </tr>\n",
       "            <tr>\n",
       "                        <th id=\"T_60b97682_d982_11e9_ac54_207918bb27e5level0_row9\" class=\"row_heading level0 row9\" >'-1'</th>\n",
       "                        <td id=\"T_60b97682_d982_11e9_ac54_207918bb27e5row9_col0\" class=\"data row9 col0\" ></td>\n",
       "                        <td id=\"T_60b97682_d982_11e9_ac54_207918bb27e5row9_col1\" class=\"data row9 col1\" ></td>\n",
       "                        <td id=\"T_60b97682_d982_11e9_ac54_207918bb27e5row9_col2\" class=\"data row9 col2\" ></td>\n",
       "                        <td id=\"T_60b97682_d982_11e9_ac54_207918bb27e5row9_col3\" class=\"data row9 col3\" ></td>\n",
       "                        <td id=\"T_60b97682_d982_11e9_ac54_207918bb27e5row9_col4\" class=\"data row9 col4\" ></td>\n",
       "                        <td id=\"T_60b97682_d982_11e9_ac54_207918bb27e5row9_col5\" class=\"data row9 col5\" ></td>\n",
       "                        <td id=\"T_60b97682_d982_11e9_ac54_207918bb27e5row9_col6\" class=\"data row9 col6\" ></td>\n",
       "                        <td id=\"T_60b97682_d982_11e9_ac54_207918bb27e5row9_col7\" class=\"data row9 col7\" ></td>\n",
       "                        <td id=\"T_60b97682_d982_11e9_ac54_207918bb27e5row9_col8\" class=\"data row9 col8\" ></td>\n",
       "                        <td id=\"T_60b97682_d982_11e9_ac54_207918bb27e5row9_col9\" class=\"data row9 col9\" >✅</td>\n",
       "                        <td id=\"T_60b97682_d982_11e9_ac54_207918bb27e5row9_col10\" class=\"data row9 col10\" ></td>\n",
       "                        <td id=\"T_60b97682_d982_11e9_ac54_207918bb27e5row9_col11\" class=\"data row9 col11\" ></td>\n",
       "                        <td id=\"T_60b97682_d982_11e9_ac54_207918bb27e5row9_col12\" class=\"data row9 col12\" ></td>\n",
       "                        <td id=\"T_60b97682_d982_11e9_ac54_207918bb27e5row9_col13\" class=\"data row9 col13\" ></td>\n",
       "                        <td id=\"T_60b97682_d982_11e9_ac54_207918bb27e5row9_col14\" class=\"data row9 col14\" ></td>\n",
       "                        <td id=\"T_60b97682_d982_11e9_ac54_207918bb27e5row9_col15\" class=\"data row9 col15\" ></td>\n",
       "                        <td id=\"T_60b97682_d982_11e9_ac54_207918bb27e5row9_col16\" class=\"data row9 col16\" ></td>\n",
       "                        <td id=\"T_60b97682_d982_11e9_ac54_207918bb27e5row9_col17\" class=\"data row9 col17\" ></td>\n",
       "                        <td id=\"T_60b97682_d982_11e9_ac54_207918bb27e5row9_col18\" class=\"data row9 col18\" ></td>\n",
       "                        <td id=\"T_60b97682_d982_11e9_ac54_207918bb27e5row9_col19\" class=\"data row9 col19\" ></td>\n",
       "            </tr>\n",
       "            <tr>\n",
       "                        <th id=\"T_60b97682_d982_11e9_ac54_207918bb27e5level0_row10\" class=\"row_heading level0 row10\" >''</th>\n",
       "                        <td id=\"T_60b97682_d982_11e9_ac54_207918bb27e5row10_col0\" class=\"data row10 col0\" ></td>\n",
       "                        <td id=\"T_60b97682_d982_11e9_ac54_207918bb27e5row10_col1\" class=\"data row10 col1\" ></td>\n",
       "                        <td id=\"T_60b97682_d982_11e9_ac54_207918bb27e5row10_col2\" class=\"data row10 col2\" ></td>\n",
       "                        <td id=\"T_60b97682_d982_11e9_ac54_207918bb27e5row10_col3\" class=\"data row10 col3\" ></td>\n",
       "                        <td id=\"T_60b97682_d982_11e9_ac54_207918bb27e5row10_col4\" class=\"data row10 col4\" ></td>\n",
       "                        <td id=\"T_60b97682_d982_11e9_ac54_207918bb27e5row10_col5\" class=\"data row10 col5\" ></td>\n",
       "                        <td id=\"T_60b97682_d982_11e9_ac54_207918bb27e5row10_col6\" class=\"data row10 col6\" ></td>\n",
       "                        <td id=\"T_60b97682_d982_11e9_ac54_207918bb27e5row10_col7\" class=\"data row10 col7\" ></td>\n",
       "                        <td id=\"T_60b97682_d982_11e9_ac54_207918bb27e5row10_col8\" class=\"data row10 col8\" ></td>\n",
       "                        <td id=\"T_60b97682_d982_11e9_ac54_207918bb27e5row10_col9\" class=\"data row10 col9\" ></td>\n",
       "                        <td id=\"T_60b97682_d982_11e9_ac54_207918bb27e5row10_col10\" class=\"data row10 col10\" >✅</td>\n",
       "                        <td id=\"T_60b97682_d982_11e9_ac54_207918bb27e5row10_col11\" class=\"data row10 col11\" ></td>\n",
       "                        <td id=\"T_60b97682_d982_11e9_ac54_207918bb27e5row10_col12\" class=\"data row10 col12\" ></td>\n",
       "                        <td id=\"T_60b97682_d982_11e9_ac54_207918bb27e5row10_col13\" class=\"data row10 col13\" ></td>\n",
       "                        <td id=\"T_60b97682_d982_11e9_ac54_207918bb27e5row10_col14\" class=\"data row10 col14\" ></td>\n",
       "                        <td id=\"T_60b97682_d982_11e9_ac54_207918bb27e5row10_col15\" class=\"data row10 col15\" ></td>\n",
       "                        <td id=\"T_60b97682_d982_11e9_ac54_207918bb27e5row10_col16\" class=\"data row10 col16\" ></td>\n",
       "                        <td id=\"T_60b97682_d982_11e9_ac54_207918bb27e5row10_col17\" class=\"data row10 col17\" ></td>\n",
       "                        <td id=\"T_60b97682_d982_11e9_ac54_207918bb27e5row10_col18\" class=\"data row10 col18\" ></td>\n",
       "                        <td id=\"T_60b97682_d982_11e9_ac54_207918bb27e5row10_col19\" class=\"data row10 col19\" ></td>\n",
       "            </tr>\n",
       "            <tr>\n",
       "                        <th id=\"T_60b97682_d982_11e9_ac54_207918bb27e5level0_row11\" class=\"row_heading level0 row11\" >None</th>\n",
       "                        <td id=\"T_60b97682_d982_11e9_ac54_207918bb27e5row11_col0\" class=\"data row11 col0\" ></td>\n",
       "                        <td id=\"T_60b97682_d982_11e9_ac54_207918bb27e5row11_col1\" class=\"data row11 col1\" ></td>\n",
       "                        <td id=\"T_60b97682_d982_11e9_ac54_207918bb27e5row11_col2\" class=\"data row11 col2\" ></td>\n",
       "                        <td id=\"T_60b97682_d982_11e9_ac54_207918bb27e5row11_col3\" class=\"data row11 col3\" ></td>\n",
       "                        <td id=\"T_60b97682_d982_11e9_ac54_207918bb27e5row11_col4\" class=\"data row11 col4\" ></td>\n",
       "                        <td id=\"T_60b97682_d982_11e9_ac54_207918bb27e5row11_col5\" class=\"data row11 col5\" ></td>\n",
       "                        <td id=\"T_60b97682_d982_11e9_ac54_207918bb27e5row11_col6\" class=\"data row11 col6\" ></td>\n",
       "                        <td id=\"T_60b97682_d982_11e9_ac54_207918bb27e5row11_col7\" class=\"data row11 col7\" ></td>\n",
       "                        <td id=\"T_60b97682_d982_11e9_ac54_207918bb27e5row11_col8\" class=\"data row11 col8\" ></td>\n",
       "                        <td id=\"T_60b97682_d982_11e9_ac54_207918bb27e5row11_col9\" class=\"data row11 col9\" ></td>\n",
       "                        <td id=\"T_60b97682_d982_11e9_ac54_207918bb27e5row11_col10\" class=\"data row11 col10\" ></td>\n",
       "                        <td id=\"T_60b97682_d982_11e9_ac54_207918bb27e5row11_col11\" class=\"data row11 col11\" >✅</td>\n",
       "                        <td id=\"T_60b97682_d982_11e9_ac54_207918bb27e5row11_col12\" class=\"data row11 col12\" ></td>\n",
       "                        <td id=\"T_60b97682_d982_11e9_ac54_207918bb27e5row11_col13\" class=\"data row11 col13\" ></td>\n",
       "                        <td id=\"T_60b97682_d982_11e9_ac54_207918bb27e5row11_col14\" class=\"data row11 col14\" ></td>\n",
       "                        <td id=\"T_60b97682_d982_11e9_ac54_207918bb27e5row11_col15\" class=\"data row11 col15\" ></td>\n",
       "                        <td id=\"T_60b97682_d982_11e9_ac54_207918bb27e5row11_col16\" class=\"data row11 col16\" ></td>\n",
       "                        <td id=\"T_60b97682_d982_11e9_ac54_207918bb27e5row11_col17\" class=\"data row11 col17\" ></td>\n",
       "                        <td id=\"T_60b97682_d982_11e9_ac54_207918bb27e5row11_col18\" class=\"data row11 col18\" ></td>\n",
       "                        <td id=\"T_60b97682_d982_11e9_ac54_207918bb27e5row11_col19\" class=\"data row11 col19\" ></td>\n",
       "            </tr>\n",
       "            <tr>\n",
       "                        <th id=\"T_60b97682_d982_11e9_ac54_207918bb27e5level0_row12\" class=\"row_heading level0 row12\" >inf</th>\n",
       "                        <td id=\"T_60b97682_d982_11e9_ac54_207918bb27e5row12_col0\" class=\"data row12 col0\" ></td>\n",
       "                        <td id=\"T_60b97682_d982_11e9_ac54_207918bb27e5row12_col1\" class=\"data row12 col1\" ></td>\n",
       "                        <td id=\"T_60b97682_d982_11e9_ac54_207918bb27e5row12_col2\" class=\"data row12 col2\" ></td>\n",
       "                        <td id=\"T_60b97682_d982_11e9_ac54_207918bb27e5row12_col3\" class=\"data row12 col3\" ></td>\n",
       "                        <td id=\"T_60b97682_d982_11e9_ac54_207918bb27e5row12_col4\" class=\"data row12 col4\" ></td>\n",
       "                        <td id=\"T_60b97682_d982_11e9_ac54_207918bb27e5row12_col5\" class=\"data row12 col5\" ></td>\n",
       "                        <td id=\"T_60b97682_d982_11e9_ac54_207918bb27e5row12_col6\" class=\"data row12 col6\" ></td>\n",
       "                        <td id=\"T_60b97682_d982_11e9_ac54_207918bb27e5row12_col7\" class=\"data row12 col7\" ></td>\n",
       "                        <td id=\"T_60b97682_d982_11e9_ac54_207918bb27e5row12_col8\" class=\"data row12 col8\" ></td>\n",
       "                        <td id=\"T_60b97682_d982_11e9_ac54_207918bb27e5row12_col9\" class=\"data row12 col9\" ></td>\n",
       "                        <td id=\"T_60b97682_d982_11e9_ac54_207918bb27e5row12_col10\" class=\"data row12 col10\" ></td>\n",
       "                        <td id=\"T_60b97682_d982_11e9_ac54_207918bb27e5row12_col11\" class=\"data row12 col11\" ></td>\n",
       "                        <td id=\"T_60b97682_d982_11e9_ac54_207918bb27e5row12_col12\" class=\"data row12 col12\" >✅</td>\n",
       "                        <td id=\"T_60b97682_d982_11e9_ac54_207918bb27e5row12_col13\" class=\"data row12 col13\" ></td>\n",
       "                        <td id=\"T_60b97682_d982_11e9_ac54_207918bb27e5row12_col14\" class=\"data row12 col14\" ></td>\n",
       "                        <td id=\"T_60b97682_d982_11e9_ac54_207918bb27e5row12_col15\" class=\"data row12 col15\" ></td>\n",
       "                        <td id=\"T_60b97682_d982_11e9_ac54_207918bb27e5row12_col16\" class=\"data row12 col16\" ></td>\n",
       "                        <td id=\"T_60b97682_d982_11e9_ac54_207918bb27e5row12_col17\" class=\"data row12 col17\" ></td>\n",
       "                        <td id=\"T_60b97682_d982_11e9_ac54_207918bb27e5row12_col18\" class=\"data row12 col18\" ></td>\n",
       "                        <td id=\"T_60b97682_d982_11e9_ac54_207918bb27e5row12_col19\" class=\"data row12 col19\" ></td>\n",
       "            </tr>\n",
       "            <tr>\n",
       "                        <th id=\"T_60b97682_d982_11e9_ac54_207918bb27e5level0_row13\" class=\"row_heading level0 row13\" >-inf</th>\n",
       "                        <td id=\"T_60b97682_d982_11e9_ac54_207918bb27e5row13_col0\" class=\"data row13 col0\" ></td>\n",
       "                        <td id=\"T_60b97682_d982_11e9_ac54_207918bb27e5row13_col1\" class=\"data row13 col1\" ></td>\n",
       "                        <td id=\"T_60b97682_d982_11e9_ac54_207918bb27e5row13_col2\" class=\"data row13 col2\" ></td>\n",
       "                        <td id=\"T_60b97682_d982_11e9_ac54_207918bb27e5row13_col3\" class=\"data row13 col3\" ></td>\n",
       "                        <td id=\"T_60b97682_d982_11e9_ac54_207918bb27e5row13_col4\" class=\"data row13 col4\" ></td>\n",
       "                        <td id=\"T_60b97682_d982_11e9_ac54_207918bb27e5row13_col5\" class=\"data row13 col5\" ></td>\n",
       "                        <td id=\"T_60b97682_d982_11e9_ac54_207918bb27e5row13_col6\" class=\"data row13 col6\" ></td>\n",
       "                        <td id=\"T_60b97682_d982_11e9_ac54_207918bb27e5row13_col7\" class=\"data row13 col7\" ></td>\n",
       "                        <td id=\"T_60b97682_d982_11e9_ac54_207918bb27e5row13_col8\" class=\"data row13 col8\" ></td>\n",
       "                        <td id=\"T_60b97682_d982_11e9_ac54_207918bb27e5row13_col9\" class=\"data row13 col9\" ></td>\n",
       "                        <td id=\"T_60b97682_d982_11e9_ac54_207918bb27e5row13_col10\" class=\"data row13 col10\" ></td>\n",
       "                        <td id=\"T_60b97682_d982_11e9_ac54_207918bb27e5row13_col11\" class=\"data row13 col11\" ></td>\n",
       "                        <td id=\"T_60b97682_d982_11e9_ac54_207918bb27e5row13_col12\" class=\"data row13 col12\" ></td>\n",
       "                        <td id=\"T_60b97682_d982_11e9_ac54_207918bb27e5row13_col13\" class=\"data row13 col13\" >✅</td>\n",
       "                        <td id=\"T_60b97682_d982_11e9_ac54_207918bb27e5row13_col14\" class=\"data row13 col14\" ></td>\n",
       "                        <td id=\"T_60b97682_d982_11e9_ac54_207918bb27e5row13_col15\" class=\"data row13 col15\" ></td>\n",
       "                        <td id=\"T_60b97682_d982_11e9_ac54_207918bb27e5row13_col16\" class=\"data row13 col16\" ></td>\n",
       "                        <td id=\"T_60b97682_d982_11e9_ac54_207918bb27e5row13_col17\" class=\"data row13 col17\" ></td>\n",
       "                        <td id=\"T_60b97682_d982_11e9_ac54_207918bb27e5row13_col18\" class=\"data row13 col18\" ></td>\n",
       "                        <td id=\"T_60b97682_d982_11e9_ac54_207918bb27e5row13_col19\" class=\"data row13 col19\" ></td>\n",
       "            </tr>\n",
       "            <tr>\n",
       "                        <th id=\"T_60b97682_d982_11e9_ac54_207918bb27e5level0_row14\" class=\"row_heading level0 row14\" >[]</th>\n",
       "                        <td id=\"T_60b97682_d982_11e9_ac54_207918bb27e5row14_col0\" class=\"data row14 col0\" ></td>\n",
       "                        <td id=\"T_60b97682_d982_11e9_ac54_207918bb27e5row14_col1\" class=\"data row14 col1\" ></td>\n",
       "                        <td id=\"T_60b97682_d982_11e9_ac54_207918bb27e5row14_col2\" class=\"data row14 col2\" ></td>\n",
       "                        <td id=\"T_60b97682_d982_11e9_ac54_207918bb27e5row14_col3\" class=\"data row14 col3\" ></td>\n",
       "                        <td id=\"T_60b97682_d982_11e9_ac54_207918bb27e5row14_col4\" class=\"data row14 col4\" ></td>\n",
       "                        <td id=\"T_60b97682_d982_11e9_ac54_207918bb27e5row14_col5\" class=\"data row14 col5\" ></td>\n",
       "                        <td id=\"T_60b97682_d982_11e9_ac54_207918bb27e5row14_col6\" class=\"data row14 col6\" ></td>\n",
       "                        <td id=\"T_60b97682_d982_11e9_ac54_207918bb27e5row14_col7\" class=\"data row14 col7\" ></td>\n",
       "                        <td id=\"T_60b97682_d982_11e9_ac54_207918bb27e5row14_col8\" class=\"data row14 col8\" ></td>\n",
       "                        <td id=\"T_60b97682_d982_11e9_ac54_207918bb27e5row14_col9\" class=\"data row14 col9\" ></td>\n",
       "                        <td id=\"T_60b97682_d982_11e9_ac54_207918bb27e5row14_col10\" class=\"data row14 col10\" ></td>\n",
       "                        <td id=\"T_60b97682_d982_11e9_ac54_207918bb27e5row14_col11\" class=\"data row14 col11\" ></td>\n",
       "                        <td id=\"T_60b97682_d982_11e9_ac54_207918bb27e5row14_col12\" class=\"data row14 col12\" ></td>\n",
       "                        <td id=\"T_60b97682_d982_11e9_ac54_207918bb27e5row14_col13\" class=\"data row14 col13\" ></td>\n",
       "                        <td id=\"T_60b97682_d982_11e9_ac54_207918bb27e5row14_col14\" class=\"data row14 col14\" >✅</td>\n",
       "                        <td id=\"T_60b97682_d982_11e9_ac54_207918bb27e5row14_col15\" class=\"data row14 col15\" ></td>\n",
       "                        <td id=\"T_60b97682_d982_11e9_ac54_207918bb27e5row14_col16\" class=\"data row14 col16\" ></td>\n",
       "                        <td id=\"T_60b97682_d982_11e9_ac54_207918bb27e5row14_col17\" class=\"data row14 col17\" ></td>\n",
       "                        <td id=\"T_60b97682_d982_11e9_ac54_207918bb27e5row14_col18\" class=\"data row14 col18\" ></td>\n",
       "                        <td id=\"T_60b97682_d982_11e9_ac54_207918bb27e5row14_col19\" class=\"data row14 col19\" ></td>\n",
       "            </tr>\n",
       "            <tr>\n",
       "                        <th id=\"T_60b97682_d982_11e9_ac54_207918bb27e5level0_row15\" class=\"row_heading level0 row15\" >{}</th>\n",
       "                        <td id=\"T_60b97682_d982_11e9_ac54_207918bb27e5row15_col0\" class=\"data row15 col0\" ></td>\n",
       "                        <td id=\"T_60b97682_d982_11e9_ac54_207918bb27e5row15_col1\" class=\"data row15 col1\" ></td>\n",
       "                        <td id=\"T_60b97682_d982_11e9_ac54_207918bb27e5row15_col2\" class=\"data row15 col2\" ></td>\n",
       "                        <td id=\"T_60b97682_d982_11e9_ac54_207918bb27e5row15_col3\" class=\"data row15 col3\" ></td>\n",
       "                        <td id=\"T_60b97682_d982_11e9_ac54_207918bb27e5row15_col4\" class=\"data row15 col4\" ></td>\n",
       "                        <td id=\"T_60b97682_d982_11e9_ac54_207918bb27e5row15_col5\" class=\"data row15 col5\" ></td>\n",
       "                        <td id=\"T_60b97682_d982_11e9_ac54_207918bb27e5row15_col6\" class=\"data row15 col6\" ></td>\n",
       "                        <td id=\"T_60b97682_d982_11e9_ac54_207918bb27e5row15_col7\" class=\"data row15 col7\" ></td>\n",
       "                        <td id=\"T_60b97682_d982_11e9_ac54_207918bb27e5row15_col8\" class=\"data row15 col8\" ></td>\n",
       "                        <td id=\"T_60b97682_d982_11e9_ac54_207918bb27e5row15_col9\" class=\"data row15 col9\" ></td>\n",
       "                        <td id=\"T_60b97682_d982_11e9_ac54_207918bb27e5row15_col10\" class=\"data row15 col10\" ></td>\n",
       "                        <td id=\"T_60b97682_d982_11e9_ac54_207918bb27e5row15_col11\" class=\"data row15 col11\" ></td>\n",
       "                        <td id=\"T_60b97682_d982_11e9_ac54_207918bb27e5row15_col12\" class=\"data row15 col12\" ></td>\n",
       "                        <td id=\"T_60b97682_d982_11e9_ac54_207918bb27e5row15_col13\" class=\"data row15 col13\" ></td>\n",
       "                        <td id=\"T_60b97682_d982_11e9_ac54_207918bb27e5row15_col14\" class=\"data row15 col14\" ></td>\n",
       "                        <td id=\"T_60b97682_d982_11e9_ac54_207918bb27e5row15_col15\" class=\"data row15 col15\" >✅</td>\n",
       "                        <td id=\"T_60b97682_d982_11e9_ac54_207918bb27e5row15_col16\" class=\"data row15 col16\" ></td>\n",
       "                        <td id=\"T_60b97682_d982_11e9_ac54_207918bb27e5row15_col17\" class=\"data row15 col17\" ></td>\n",
       "                        <td id=\"T_60b97682_d982_11e9_ac54_207918bb27e5row15_col18\" class=\"data row15 col18\" ></td>\n",
       "                        <td id=\"T_60b97682_d982_11e9_ac54_207918bb27e5row15_col19\" class=\"data row15 col19\" ></td>\n",
       "            </tr>\n",
       "            <tr>\n",
       "                        <th id=\"T_60b97682_d982_11e9_ac54_207918bb27e5level0_row16\" class=\"row_heading level0 row16\" >[[]]</th>\n",
       "                        <td id=\"T_60b97682_d982_11e9_ac54_207918bb27e5row16_col0\" class=\"data row16 col0\" ></td>\n",
       "                        <td id=\"T_60b97682_d982_11e9_ac54_207918bb27e5row16_col1\" class=\"data row16 col1\" ></td>\n",
       "                        <td id=\"T_60b97682_d982_11e9_ac54_207918bb27e5row16_col2\" class=\"data row16 col2\" ></td>\n",
       "                        <td id=\"T_60b97682_d982_11e9_ac54_207918bb27e5row16_col3\" class=\"data row16 col3\" ></td>\n",
       "                        <td id=\"T_60b97682_d982_11e9_ac54_207918bb27e5row16_col4\" class=\"data row16 col4\" ></td>\n",
       "                        <td id=\"T_60b97682_d982_11e9_ac54_207918bb27e5row16_col5\" class=\"data row16 col5\" ></td>\n",
       "                        <td id=\"T_60b97682_d982_11e9_ac54_207918bb27e5row16_col6\" class=\"data row16 col6\" ></td>\n",
       "                        <td id=\"T_60b97682_d982_11e9_ac54_207918bb27e5row16_col7\" class=\"data row16 col7\" ></td>\n",
       "                        <td id=\"T_60b97682_d982_11e9_ac54_207918bb27e5row16_col8\" class=\"data row16 col8\" ></td>\n",
       "                        <td id=\"T_60b97682_d982_11e9_ac54_207918bb27e5row16_col9\" class=\"data row16 col9\" ></td>\n",
       "                        <td id=\"T_60b97682_d982_11e9_ac54_207918bb27e5row16_col10\" class=\"data row16 col10\" ></td>\n",
       "                        <td id=\"T_60b97682_d982_11e9_ac54_207918bb27e5row16_col11\" class=\"data row16 col11\" ></td>\n",
       "                        <td id=\"T_60b97682_d982_11e9_ac54_207918bb27e5row16_col12\" class=\"data row16 col12\" ></td>\n",
       "                        <td id=\"T_60b97682_d982_11e9_ac54_207918bb27e5row16_col13\" class=\"data row16 col13\" ></td>\n",
       "                        <td id=\"T_60b97682_d982_11e9_ac54_207918bb27e5row16_col14\" class=\"data row16 col14\" ></td>\n",
       "                        <td id=\"T_60b97682_d982_11e9_ac54_207918bb27e5row16_col15\" class=\"data row16 col15\" ></td>\n",
       "                        <td id=\"T_60b97682_d982_11e9_ac54_207918bb27e5row16_col16\" class=\"data row16 col16\" >✅</td>\n",
       "                        <td id=\"T_60b97682_d982_11e9_ac54_207918bb27e5row16_col17\" class=\"data row16 col17\" ></td>\n",
       "                        <td id=\"T_60b97682_d982_11e9_ac54_207918bb27e5row16_col18\" class=\"data row16 col18\" ></td>\n",
       "                        <td id=\"T_60b97682_d982_11e9_ac54_207918bb27e5row16_col19\" class=\"data row16 col19\" ></td>\n",
       "            </tr>\n",
       "            <tr>\n",
       "                        <th id=\"T_60b97682_d982_11e9_ac54_207918bb27e5level0_row17\" class=\"row_heading level0 row17\" >[0]</th>\n",
       "                        <td id=\"T_60b97682_d982_11e9_ac54_207918bb27e5row17_col0\" class=\"data row17 col0\" ></td>\n",
       "                        <td id=\"T_60b97682_d982_11e9_ac54_207918bb27e5row17_col1\" class=\"data row17 col1\" ></td>\n",
       "                        <td id=\"T_60b97682_d982_11e9_ac54_207918bb27e5row17_col2\" class=\"data row17 col2\" ></td>\n",
       "                        <td id=\"T_60b97682_d982_11e9_ac54_207918bb27e5row17_col3\" class=\"data row17 col3\" ></td>\n",
       "                        <td id=\"T_60b97682_d982_11e9_ac54_207918bb27e5row17_col4\" class=\"data row17 col4\" ></td>\n",
       "                        <td id=\"T_60b97682_d982_11e9_ac54_207918bb27e5row17_col5\" class=\"data row17 col5\" ></td>\n",
       "                        <td id=\"T_60b97682_d982_11e9_ac54_207918bb27e5row17_col6\" class=\"data row17 col6\" ></td>\n",
       "                        <td id=\"T_60b97682_d982_11e9_ac54_207918bb27e5row17_col7\" class=\"data row17 col7\" ></td>\n",
       "                        <td id=\"T_60b97682_d982_11e9_ac54_207918bb27e5row17_col8\" class=\"data row17 col8\" ></td>\n",
       "                        <td id=\"T_60b97682_d982_11e9_ac54_207918bb27e5row17_col9\" class=\"data row17 col9\" ></td>\n",
       "                        <td id=\"T_60b97682_d982_11e9_ac54_207918bb27e5row17_col10\" class=\"data row17 col10\" ></td>\n",
       "                        <td id=\"T_60b97682_d982_11e9_ac54_207918bb27e5row17_col11\" class=\"data row17 col11\" ></td>\n",
       "                        <td id=\"T_60b97682_d982_11e9_ac54_207918bb27e5row17_col12\" class=\"data row17 col12\" ></td>\n",
       "                        <td id=\"T_60b97682_d982_11e9_ac54_207918bb27e5row17_col13\" class=\"data row17 col13\" ></td>\n",
       "                        <td id=\"T_60b97682_d982_11e9_ac54_207918bb27e5row17_col14\" class=\"data row17 col14\" ></td>\n",
       "                        <td id=\"T_60b97682_d982_11e9_ac54_207918bb27e5row17_col15\" class=\"data row17 col15\" ></td>\n",
       "                        <td id=\"T_60b97682_d982_11e9_ac54_207918bb27e5row17_col16\" class=\"data row17 col16\" ></td>\n",
       "                        <td id=\"T_60b97682_d982_11e9_ac54_207918bb27e5row17_col17\" class=\"data row17 col17\" >✅</td>\n",
       "                        <td id=\"T_60b97682_d982_11e9_ac54_207918bb27e5row17_col18\" class=\"data row17 col18\" ></td>\n",
       "                        <td id=\"T_60b97682_d982_11e9_ac54_207918bb27e5row17_col19\" class=\"data row17 col19\" ></td>\n",
       "            </tr>\n",
       "            <tr>\n",
       "                        <th id=\"T_60b97682_d982_11e9_ac54_207918bb27e5level0_row18\" class=\"row_heading level0 row18\" >[1]</th>\n",
       "                        <td id=\"T_60b97682_d982_11e9_ac54_207918bb27e5row18_col0\" class=\"data row18 col0\" ></td>\n",
       "                        <td id=\"T_60b97682_d982_11e9_ac54_207918bb27e5row18_col1\" class=\"data row18 col1\" ></td>\n",
       "                        <td id=\"T_60b97682_d982_11e9_ac54_207918bb27e5row18_col2\" class=\"data row18 col2\" ></td>\n",
       "                        <td id=\"T_60b97682_d982_11e9_ac54_207918bb27e5row18_col3\" class=\"data row18 col3\" ></td>\n",
       "                        <td id=\"T_60b97682_d982_11e9_ac54_207918bb27e5row18_col4\" class=\"data row18 col4\" ></td>\n",
       "                        <td id=\"T_60b97682_d982_11e9_ac54_207918bb27e5row18_col5\" class=\"data row18 col5\" ></td>\n",
       "                        <td id=\"T_60b97682_d982_11e9_ac54_207918bb27e5row18_col6\" class=\"data row18 col6\" ></td>\n",
       "                        <td id=\"T_60b97682_d982_11e9_ac54_207918bb27e5row18_col7\" class=\"data row18 col7\" ></td>\n",
       "                        <td id=\"T_60b97682_d982_11e9_ac54_207918bb27e5row18_col8\" class=\"data row18 col8\" ></td>\n",
       "                        <td id=\"T_60b97682_d982_11e9_ac54_207918bb27e5row18_col9\" class=\"data row18 col9\" ></td>\n",
       "                        <td id=\"T_60b97682_d982_11e9_ac54_207918bb27e5row18_col10\" class=\"data row18 col10\" ></td>\n",
       "                        <td id=\"T_60b97682_d982_11e9_ac54_207918bb27e5row18_col11\" class=\"data row18 col11\" ></td>\n",
       "                        <td id=\"T_60b97682_d982_11e9_ac54_207918bb27e5row18_col12\" class=\"data row18 col12\" ></td>\n",
       "                        <td id=\"T_60b97682_d982_11e9_ac54_207918bb27e5row18_col13\" class=\"data row18 col13\" ></td>\n",
       "                        <td id=\"T_60b97682_d982_11e9_ac54_207918bb27e5row18_col14\" class=\"data row18 col14\" ></td>\n",
       "                        <td id=\"T_60b97682_d982_11e9_ac54_207918bb27e5row18_col15\" class=\"data row18 col15\" ></td>\n",
       "                        <td id=\"T_60b97682_d982_11e9_ac54_207918bb27e5row18_col16\" class=\"data row18 col16\" ></td>\n",
       "                        <td id=\"T_60b97682_d982_11e9_ac54_207918bb27e5row18_col17\" class=\"data row18 col17\" ></td>\n",
       "                        <td id=\"T_60b97682_d982_11e9_ac54_207918bb27e5row18_col18\" class=\"data row18 col18\" >✅</td>\n",
       "                        <td id=\"T_60b97682_d982_11e9_ac54_207918bb27e5row18_col19\" class=\"data row18 col19\" ></td>\n",
       "            </tr>\n",
       "            <tr>\n",
       "                        <th id=\"T_60b97682_d982_11e9_ac54_207918bb27e5level0_row19\" class=\"row_heading level0 row19\" >nan</th>\n",
       "                        <td id=\"T_60b97682_d982_11e9_ac54_207918bb27e5row19_col0\" class=\"data row19 col0\" ></td>\n",
       "                        <td id=\"T_60b97682_d982_11e9_ac54_207918bb27e5row19_col1\" class=\"data row19 col1\" ></td>\n",
       "                        <td id=\"T_60b97682_d982_11e9_ac54_207918bb27e5row19_col2\" class=\"data row19 col2\" ></td>\n",
       "                        <td id=\"T_60b97682_d982_11e9_ac54_207918bb27e5row19_col3\" class=\"data row19 col3\" ></td>\n",
       "                        <td id=\"T_60b97682_d982_11e9_ac54_207918bb27e5row19_col4\" class=\"data row19 col4\" ></td>\n",
       "                        <td id=\"T_60b97682_d982_11e9_ac54_207918bb27e5row19_col5\" class=\"data row19 col5\" ></td>\n",
       "                        <td id=\"T_60b97682_d982_11e9_ac54_207918bb27e5row19_col6\" class=\"data row19 col6\" ></td>\n",
       "                        <td id=\"T_60b97682_d982_11e9_ac54_207918bb27e5row19_col7\" class=\"data row19 col7\" ></td>\n",
       "                        <td id=\"T_60b97682_d982_11e9_ac54_207918bb27e5row19_col8\" class=\"data row19 col8\" ></td>\n",
       "                        <td id=\"T_60b97682_d982_11e9_ac54_207918bb27e5row19_col9\" class=\"data row19 col9\" ></td>\n",
       "                        <td id=\"T_60b97682_d982_11e9_ac54_207918bb27e5row19_col10\" class=\"data row19 col10\" ></td>\n",
       "                        <td id=\"T_60b97682_d982_11e9_ac54_207918bb27e5row19_col11\" class=\"data row19 col11\" ></td>\n",
       "                        <td id=\"T_60b97682_d982_11e9_ac54_207918bb27e5row19_col12\" class=\"data row19 col12\" ></td>\n",
       "                        <td id=\"T_60b97682_d982_11e9_ac54_207918bb27e5row19_col13\" class=\"data row19 col13\" ></td>\n",
       "                        <td id=\"T_60b97682_d982_11e9_ac54_207918bb27e5row19_col14\" class=\"data row19 col14\" ></td>\n",
       "                        <td id=\"T_60b97682_d982_11e9_ac54_207918bb27e5row19_col15\" class=\"data row19 col15\" ></td>\n",
       "                        <td id=\"T_60b97682_d982_11e9_ac54_207918bb27e5row19_col16\" class=\"data row19 col16\" ></td>\n",
       "                        <td id=\"T_60b97682_d982_11e9_ac54_207918bb27e5row19_col17\" class=\"data row19 col17\" ></td>\n",
       "                        <td id=\"T_60b97682_d982_11e9_ac54_207918bb27e5row19_col18\" class=\"data row19 col18\" ></td>\n",
       "                        <td id=\"T_60b97682_d982_11e9_ac54_207918bb27e5row19_col19\" class=\"data row19 col19\" ></td>\n",
       "            </tr>\n",
       "    </tbody></table>"
      ],
      "text/plain": [
       "<pandas.io.formats.style.Styler at 0x7fef8a02ce48>"
      ]
     },
     "execution_count": 21,
     "metadata": {},
     "output_type": "execute_result"
    }
   ],
   "source": [
    "# render the equality chart above\n",
    "import pandas as pd\n",
    "\n",
    "TST = (True, False, 1, 0, -1, \"True\", \"False\", \"1\", \"0\",\n",
    "       \"-1\", \"\", None, float('inf'), float('-inf'), [],\n",
    "       {}, [[]], [0], [1], float('nan'))\n",
    "IDX = [repr(t) for t in TST]\n",
    "EQ = [[\"✅\" if a == b else \"\" for b in TST] for a in TST]\n",
    "\n",
    "pd.options.display.max_columns = None\n",
    "df = pd.DataFrame(EQ, index=IDX, columns=IDX)\n",
    "df.style.set_table_styles([\n",
    "    {'selector':'th', 'props':[('max-width', '12px')]},\n",
    "    {'selector':'th.col_heading', 'props':[\n",
    "        ('writing-mode', 'vertical-rl')]},\n",
    "    {'selector':'th:nth-child(1)', 'props':[\n",
    "        ('max-width', '100px')\n",
    "    ]}\n",
    "])"
   ]
  },
  {
   "cell_type": "code",
   "execution_count": null,
   "metadata": {
    "scrolled": false
   },
   "outputs": [],
   "source": [
    "# fibonacci returning list, with typed parameters\n",
    "import typing\n",
    "\n",
    "def fib2(n: int) -> typing.List[int]:\n",
    "    \"\"\"Return a list containing the Fibonacci series up to n.\"\"\"\n",
    "    result = []\n",
    "    a, b = 0, 1\n",
    "    while a < n:\n",
    "        result.append(a)\n",
    "        a, b = b, a+b\n",
    "    return result\n",
    "\n",
    "help(fib2)\n",
    "fib2(100)"
   ]
  },
  {
   "cell_type": "code",
   "execution_count": null,
   "metadata": {
    "scrolled": false
   },
   "outputs": [],
   "source": [
    "# alternate \"default empty list\" parameter\n",
    "def g(value=None):\n",
    "    value = value or []\n",
    "    return value\n",
    "g()"
   ]
  },
  {
   "cell_type": "code",
   "execution_count": null,
   "metadata": {
    "scrolled": false
   },
   "outputs": [],
   "source": [
    "# precise alternate \"default empty list\" parameter\n",
    "def h(value=None):\n",
    "    value = [] if value is None else value\n",
    "    return value\n",
    "h()"
   ]
  },
  {
   "cell_type": "code",
   "execution_count": null,
   "metadata": {
    "scrolled": false
   },
   "outputs": [],
   "source": [
    "# create a new dict with updated values\n",
    "original = {'order': 'copper', 'qty': 10}\n",
    "update = {'qty': 20}\n",
    "{**original, **update}"
   ]
  },
  {
   "cell_type": "markdown",
   "metadata": {},
   "source": [
    "### Packing and Unpacking"
   ]
  },
  {
   "cell_type": "code",
   "execution_count": null,
   "metadata": {
    "scrolled": false
   },
   "outputs": [],
   "source": [
    "[*[1], *[2], 3, *[4, 5]]"
   ]
  },
  {
   "cell_type": "code",
   "execution_count": null,
   "metadata": {
    "scrolled": false
   },
   "outputs": [],
   "source": [
    "*range(4), 9"
   ]
  },
  {
   "cell_type": "code",
   "execution_count": null,
   "metadata": {
    "scrolled": false
   },
   "outputs": [],
   "source": [
    "[*range(4), 9]"
   ]
  },
  {
   "cell_type": "code",
   "execution_count": null,
   "metadata": {
    "scrolled": false
   },
   "outputs": [],
   "source": [
    "{*range(4), 4, *(5, 6, 7)}"
   ]
  },
  {
   "cell_type": "code",
   "execution_count": null,
   "metadata": {
    "scrolled": false
   },
   "outputs": [],
   "source": [
    "{'x': 1, **{'y': 2}}"
   ]
  },
  {
   "cell_type": "code",
   "execution_count": null,
   "metadata": {
    "scrolled": false
   },
   "outputs": [],
   "source": [
    "a, b, c = range(3)\n",
    "b, c"
   ]
  },
  {
   "cell_type": "code",
   "execution_count": null,
   "metadata": {
    "scrolled": false
   },
   "outputs": [],
   "source": [
    "first, second, *the_rest = [9, 8, 22, 33, 44, 19]\n",
    "the_rest"
   ]
  },
  {
   "cell_type": "code",
   "execution_count": null,
   "metadata": {
    "scrolled": false
   },
   "outputs": [],
   "source": [
    "*starters, dessert = ['soup', 'chicken', 'salad', 'pie']\n",
    "starters"
   ]
  },
  {
   "cell_type": "code",
   "execution_count": null,
   "metadata": {
    "scrolled": false
   },
   "outputs": [],
   "source": [
    "order, (qty, item) = ('winter tires', (4, 'toyo'))\n",
    "item"
   ]
  },
  {
   "cell_type": "code",
   "execution_count": null,
   "metadata": {
    "scrolled": true
   },
   "outputs": [],
   "source": [
    "# _ is commonly used as name of a variable we don't care about\n",
    "_, (_, item) = ('winter tires', (4, 'toyo'))\n",
    "item"
   ]
  },
  {
   "cell_type": "code",
   "execution_count": null,
   "metadata": {
    "scrolled": true
   },
   "outputs": [],
   "source": []
  }
 ],
 "metadata": {
  "kernelspec": {
   "display_name": "Python 3",
   "language": "python",
   "name": "python3"
  },
  "language_info": {
   "codemirror_mode": {
    "name": "ipython",
    "version": 3
   },
   "file_extension": ".py",
   "mimetype": "text/x-python",
   "name": "python",
   "nbconvert_exporter": "python",
   "pygments_lexer": "ipython3",
   "version": "3.6.8"
  }
 },
 "nbformat": 4,
 "nbformat_minor": 2
}
